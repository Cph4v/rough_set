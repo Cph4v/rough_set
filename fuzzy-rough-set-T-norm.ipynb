{
 "cells": [
  {
   "cell_type": "code",
   "execution_count": 2,
   "metadata": {},
   "outputs": [],
   "source": [
    "import numpy as np\n",
    "import pandas as pd\n",
    "import statistics\n",
    "# import tensorflow as tf"
   ]
  },
  {
   "cell_type": "markdown",
   "metadata": {},
   "source": [
    "creating dataset"
   ]
  },
  {
   "cell_type": "code",
   "execution_count": 3,
   "metadata": {},
   "outputs": [
    {
     "data": {
      "text/html": [
       "<div>\n",
       "<style scoped>\n",
       "    .dataframe tbody tr th:only-of-type {\n",
       "        vertical-align: middle;\n",
       "    }\n",
       "\n",
       "    .dataframe tbody tr th {\n",
       "        vertical-align: top;\n",
       "    }\n",
       "\n",
       "    .dataframe thead th {\n",
       "        text-align: right;\n",
       "    }\n",
       "</style>\n",
       "<table border=\"1\" class=\"dataframe\">\n",
       "  <thead>\n",
       "    <tr style=\"text-align: right;\">\n",
       "      <th></th>\n",
       "      <th>a1</th>\n",
       "      <th>a2</th>\n",
       "      <th>a3</th>\n",
       "      <th>a4</th>\n",
       "      <th>d</th>\n",
       "    </tr>\n",
       "  </thead>\n",
       "  <tbody>\n",
       "    <tr>\n",
       "      <th>0</th>\n",
       "      <td>sick</td>\n",
       "      <td>yes</td>\n",
       "      <td>40.0</td>\n",
       "      <td>[c, r, a]</td>\n",
       "      <td>flu</td>\n",
       "    </tr>\n",
       "    <tr>\n",
       "      <th>1</th>\n",
       "      <td>sick</td>\n",
       "      <td>yes</td>\n",
       "      <td>39.5</td>\n",
       "      <td>[c, r, a]</td>\n",
       "      <td>flu</td>\n",
       "    </tr>\n",
       "    <tr>\n",
       "      <th>2</th>\n",
       "      <td>middle</td>\n",
       "      <td>None</td>\n",
       "      <td>39.0</td>\n",
       "      <td>[c]</td>\n",
       "      <td>flu</td>\n",
       "    </tr>\n",
       "    <tr>\n",
       "      <th>3</th>\n",
       "      <td>middle</td>\n",
       "      <td>yes</td>\n",
       "      <td>36.8</td>\n",
       "      <td>[r]</td>\n",
       "      <td>rhinitis</td>\n",
       "    </tr>\n",
       "    <tr>\n",
       "      <th>4</th>\n",
       "      <td>middle</td>\n",
       "      <td>no</td>\n",
       "      <td>NaN</td>\n",
       "      <td>[r]</td>\n",
       "      <td>rhinitis</td>\n",
       "    </tr>\n",
       "    <tr>\n",
       "      <th>5</th>\n",
       "      <td>no</td>\n",
       "      <td>no</td>\n",
       "      <td>36.6</td>\n",
       "      <td>[r, a]</td>\n",
       "      <td>health</td>\n",
       "    </tr>\n",
       "    <tr>\n",
       "      <th>6</th>\n",
       "      <td>no</td>\n",
       "      <td>None</td>\n",
       "      <td>NaN</td>\n",
       "      <td>[a]</td>\n",
       "      <td>health</td>\n",
       "    </tr>\n",
       "    <tr>\n",
       "      <th>7</th>\n",
       "      <td>no</td>\n",
       "      <td>yes</td>\n",
       "      <td>38.0</td>\n",
       "      <td>[c, r, a]</td>\n",
       "      <td>flu</td>\n",
       "    </tr>\n",
       "    <tr>\n",
       "      <th>8</th>\n",
       "      <td>None</td>\n",
       "      <td>yes</td>\n",
       "      <td>37.0</td>\n",
       "      <td>[r]</td>\n",
       "      <td>health</td>\n",
       "    </tr>\n",
       "  </tbody>\n",
       "</table>\n",
       "</div>"
      ],
      "text/plain": [
       "       a1    a2    a3         a4         d\n",
       "0    sick   yes  40.0  [c, r, a]       flu\n",
       "1    sick   yes  39.5  [c, r, a]       flu\n",
       "2  middle  None  39.0        [c]       flu\n",
       "3  middle   yes  36.8        [r]  rhinitis\n",
       "4  middle    no   NaN        [r]  rhinitis\n",
       "5      no    no  36.6     [r, a]    health\n",
       "6      no  None   NaN        [a]    health\n",
       "7      no   yes  38.0  [c, r, a]       flu\n",
       "8    None   yes  37.0        [r]    health"
      ]
     },
     "execution_count": 3,
     "metadata": {},
     "output_type": "execute_result"
    }
   ],
   "source": [
    "a = {'a1':['sick','sick','middle','middle','middle','no','no','no',None],'a2':['yes','yes',None,'yes','no','no',None,'yes','yes'],'a3':[40,39.5,39,36.8,None,36.6,None,38,37],'a4':[['c','r','a'],['c','r','a'],['c'],['r'],['r'],['r','a'],['a'],['c','r','a'],['r']],'d':['flu','flu','flu','rhinitis','rhinitis','health','health','flu','health']}\n",
    "data = pd.DataFrame(a)\n",
    "data"
   ]
  },
  {
   "cell_type": "markdown",
   "metadata": {},
   "source": [
    "set-value attribute difference formula"
   ]
  },
  {
   "cell_type": "code",
   "execution_count": 4,
   "metadata": {},
   "outputs": [
    {
     "data": {
      "text/plain": [
       "['middle', 'middle', 'middle']"
      ]
     },
     "execution_count": 4,
     "metadata": {},
     "output_type": "execute_result"
    }
   ],
   "source": [
    "# data['a1'][data['d'] == 'flu']\n",
    "def a1xm(m):\n",
    "    a1xm = []\n",
    "    # n = n - 1\n",
    "    # m = m - 1\n",
    "    for i in data['a{}'.format(1)][data['a{}'.format(1)] == data['a{}'.format(1)][m]]:\n",
    "        a1xm.append(i)\n",
    "    return a1xm\n",
    "a1x3 = a1xm(2)\n",
    "a1x3\n"
   ]
  },
  {
   "cell_type": "code",
   "execution_count": 5,
   "metadata": {},
   "outputs": [
    {
     "data": {
      "text/plain": [
       "['middle', 'middle', 'middle']"
      ]
     },
     "execution_count": 5,
     "metadata": {},
     "output_type": "execute_result"
    }
   ],
   "source": [
    "a1x3 = a1xm(2)\n",
    "a1x3"
   ]
  },
  {
   "cell_type": "code",
   "execution_count": 6,
   "metadata": {},
   "outputs": [
    {
     "data": {
      "text/plain": [
       "['sick', 'sick', 'middle', 'no']"
      ]
     },
     "execution_count": 6,
     "metadata": {},
     "output_type": "execute_result"
    }
   ],
   "source": [
    "def dm(m):\n",
    "    dm = []\n",
    "    # m = m - 1\n",
    "    for i in data['a1'][data['d'] == data['d'][m]]:\n",
    "        dm.append(i)\n",
    "    return dm\n",
    "d1 = dm(0)\n",
    "d1"
   ]
  },
  {
   "cell_type": "code",
   "execution_count": 7,
   "metadata": {},
   "outputs": [],
   "source": [
    "def subscription_of_two_sets(t , n):\n",
    "\n",
    "    # a1xm index == t\n",
    "    # dm index == n\n",
    "\n",
    "    def a1xm_item(t):\n",
    "        a1xt = []\n",
    "        # n = n - 1\n",
    "        # m = m - 1\n",
    "        for i in data['a{}'.format(1)][data['a{}'.format(1)] == data['a{}'.format(1)][t]]:\n",
    "            a1xt.append(i)\n",
    "        return a1xt\n",
    "\n",
    "\n",
    "    def dm_item(n):\n",
    "        dn = []\n",
    "        # m = m - 1\n",
    "        for i in data['a1'][data['d'] == data['d'][n]]:\n",
    "            dn.append(i)\n",
    "        return dn\n",
    "\n",
    "    a1xm = a1xm_item(t)\n",
    "    dm = dm_item(n)\n",
    "\n",
    "    dm_shape = len(dm)\n",
    "    a1xm_shape = len(a1xm)\n",
    "    diff_len = abs(a1xm_shape - dm_shape)\n",
    "    a1xm_test = a1xm.copy()\n",
    "    dm_test = dm.copy()\n",
    "    if a1xm_shape < dm_shape:\n",
    "        for i in range(0,diff_len):\n",
    "            a1xm_test.extend('H')\n",
    "    elif a1xm_shape > dm_shape:\n",
    "        for i in range(0,diff_len):\n",
    "            dm_test.extend('H')\n",
    "\n",
    "    unitary_array_for_similar_items = []\n",
    "\n",
    "    if len(a1xm_test) == len(dm_test):\n",
    "        unitary_array_for_similar_items = []\n",
    "        for i,j in zip(a1xm_test,dm_test):\n",
    "            if i == j:\n",
    "                unitary_array_for_similar_items.append(i)\n",
    "    return unitary_array_for_similar_items,dm,a1xm\n"
   ]
  },
  {
   "cell_type": "code",
   "execution_count": 8,
   "metadata": {},
   "outputs": [
    {
     "name": "stdout",
     "output_type": "stream",
     "text": [
      "[0.5443310539518174]\n"
     ]
    }
   ],
   "source": [
    "def vdk(i,j):\n",
    "    # i for xi\n",
    "    # j for xj\n",
    "    dk = 0 \n",
    "    a = []\n",
    "    b = []\n",
    "    # for xi in range(0,len(data['d'])):\n",
    "    #     _,dm,_ = subscription_of_two_sets(0,xi)\n",
    "    #     b.append(dm)\n",
    "    # # for p in range(0,len(unique_data)):\n",
    "\n",
    "    n = []\n",
    "    for xi in range(0,len(data['d'])):\n",
    "        _,dm,_ = subscription_of_two_sets(0,xi)\n",
    "        n.append(dm)\n",
    "        \n",
    "    def unique_dm(b):\n",
    "        dc = b\n",
    "        unique_dm_index = []\n",
    "        unique_data = [list(x) for x in set(tuple(x) for x in dc)]\n",
    "        for i in unique_data:\n",
    "            unique_dm_index.append(dc.index(i))\n",
    "        return unique_dm_index\n",
    "    unique_data = unique_dm(n)\n",
    "\n",
    "    for k in unique_data:\n",
    "        subscript_i_and_d1,dm,a1xi = subscription_of_two_sets(i,k)\n",
    "        subscript_j_and_d1,dm,a1xj = subscription_of_two_sets(j,k)\n",
    "        if len(a1xi) != 0 and len(a1xj) != 0:\n",
    "        # majmooe SIGMA\n",
    "            dk = dk + (1.0/len(unique_data))*(np.subtract((len(subscript_i_and_d1))/len(a1xi) , (len(subscript_j_and_d1))/len(a1xj)))**2\n",
    "        elif len(a1xi) != 0 or len(a1xj) != 0:\n",
    "            dk = 1\n",
    "        elif len(a1xi) == 0 and len(a1xj) == 0:\n",
    "            dk = 0\n",
    "        # a.append(vdk)\n",
    "    vdk = np.sqrt(dk)\n",
    "    a.append(vdk)\n",
    "    return a \n",
    "l = vdk(0,2)\n",
    "print(l)"
   ]
  },
  {
   "cell_type": "code",
   "execution_count": 9,
   "metadata": {},
   "outputs": [],
   "source": [
    "# sim_matrix = []\n",
    "# for i in range(0,len(data['d'])):\n",
    "#     h = []\n",
    "#     # for j in range(len(data['d']),i+1,-1):\n",
    "#     j = len(data['d']) - 1\n",
    "#     while j >= i + 1:\n",
    "#         a = vdk(i,j)\n",
    "#         h.append('i:{} j:{} d:{}'.format(i,j,np.round(a[0],2)))\n",
    "#         j = j - 1\n",
    "#     sim_matrix.append(h)\n",
    "# print(sim_matrix)"
   ]
  },
  {
   "cell_type": "code",
   "execution_count": 10,
   "metadata": {},
   "outputs": [
    {
     "data": {
      "text/plain": [
       "[1.0]"
      ]
     },
     "execution_count": 10,
     "metadata": {},
     "output_type": "execute_result"
    }
   ],
   "source": [
    "vdk(8,7)"
   ]
  },
  {
   "cell_type": "code",
   "execution_count": 11,
   "metadata": {},
   "outputs": [
    {
     "data": {
      "text/plain": [
       "[[1.0, 0.69, 0.69, 0.69, 0.54, 0.54, 0.54, 0.0, 0.0],\n",
       " [1.0, 0.69, 0.69, 0.69, 0.54, 0.54, 0.54, 0.0],\n",
       " [1.0, 0.58, 0.58, 0.58, 0.0, 0.0, 0.0],\n",
       " [1.0, 0.58, 0.58, 0.58, 0.0, 0.0],\n",
       " [1.0, 0.58, 0.58, 0.58, 0.0],\n",
       " [1.0, 0.0, 0.0, 0.0],\n",
       " [1.0, 0.0, 0.0],\n",
       " [1.0, 0.0],\n",
       " [0.0]]"
      ]
     },
     "execution_count": 11,
     "metadata": {},
     "output_type": "execute_result"
    }
   ],
   "source": [
    "# sim_matrix = []\n",
    "# for i in range(0,len(data['d'])+1):\n",
    "#     h = []\n",
    "#     for j in range(len(data['d'])-1,i,-1):\n",
    "#     # j = len(data['d']) - 1\n",
    "#     # while j >= i + 1:\n",
    "#         a = vdk(i,j)\n",
    "#         h.append('i:{} j:{} d:{}'.format(i,j,np.round(a[0],2)))\n",
    "#         if a[0] == None:\n",
    "#         # j = j - 1\n",
    "#     sim_matrix.append(h)\n",
    "# print(sim_matrix)\n",
    "sim_matrix = []\n",
    "for i in range(0,len(data['d'])):\n",
    "    h = []\n",
    "    for j in range(len(data['d'])-1,i-1,-1):\n",
    "    # for j in range(len(data['d'])-1,-1,-1):\n",
    "    # for j in range(i+1,len(data['d'])):\n",
    "    # j = len(data['d']) - 1\n",
    "    # while j >= i + 1:\n",
    "        a = vdk(i,j)\n",
    "        # h.append('i:{} j:{} d:{}'.format(i,j,np.round(a[0],2)))\n",
    "        h.append(np.round(a[0],2))\n",
    "        # if a[0] == None:\n",
    "        # j = j - 1\n",
    "    sim_matrix.append(h)\n",
    "sim_matrix"
   ]
  },
  {
   "cell_type": "markdown",
   "metadata": {},
   "source": [
    "<h1>boolean attributes distance metric refers to a2</h1>"
   ]
  },
  {
   "cell_type": "code",
   "execution_count": 12,
   "metadata": {},
   "outputs": [
    {
     "name": "stdout",
     "output_type": "stream",
     "text": [
      "yes\n",
      "yes\n",
      "None\n",
      "yes\n",
      "no\n",
      "no\n"
     ]
    }
   ],
   "source": [
    "print(data['a2'][0])\n",
    "print(data['a2'][1])\n",
    "print(data['a2'][2])\n",
    "print(data['a2'][3])\n",
    "print(data['a2'][4])\n",
    "print(data['a2'][5])"
   ]
  },
  {
   "cell_type": "code",
   "execution_count": 56,
   "metadata": {},
   "outputs": [
    {
     "data": {
      "text/plain": [
       "[[1, 1, 1, 0, 0, 1, 1, 1, 0],\n",
       " [1, 1, 1, 0, 0, 1, 1, 0],\n",
       " [1, 1, 1, 1, 1, 1, 0],\n",
       " [1, 1, 1, 0, 0, 0],\n",
       " [0, 0, 1, 1, 0],\n",
       " [0, 0, 1, 0],\n",
       " [1, 1, 0],\n",
       " [1, 0],\n",
       " [0]]"
      ]
     },
     "execution_count": 56,
     "metadata": {},
     "output_type": "execute_result"
    }
   ],
   "source": [
    "def vdb():\n",
    "    vdbolean = []\n",
    "    for i in range(0,len(data['d'])):\n",
    "        h = []\n",
    "        for j in range(len(data['d'])-1,i-1,-1):\n",
    "            if data['a2'][i] == data['a2'][j] and (data['a2'][i] != None and data['a2'][j] != None) and i != j:\n",
    "                h.append(1)\n",
    "            elif data['a2'][i] != data['a2'][j] and (data['a2'][i] != None and data['a2'][j] != None):\n",
    "                h.append(0)\n",
    "            elif (data['a2'][i] == None or data['a2'][j] == None) and i != j:\n",
    "                h.append(1)\n",
    "            elif i == j:\n",
    "                h.append(0)\n",
    "        vdbolean.append(h)\n",
    "    return vdbolean\n",
    "vdb()"
   ]
  },
  {
   "cell_type": "markdown",
   "metadata": {},
   "source": [
    "<h1>real valued distance Tempretaure</h1>"
   ]
  },
  {
   "cell_type": "code",
   "execution_count": 14,
   "metadata": {},
   "outputs": [
    {
     "data": {
      "text/plain": [
       "40.0"
      ]
     },
     "execution_count": 14,
     "metadata": {},
     "output_type": "execute_result"
    }
   ],
   "source": [
    "data['a3'][0]"
   ]
  },
  {
   "cell_type": "code",
   "execution_count": 57,
   "metadata": {},
   "outputs": [
    {
     "data": {
      "text/plain": [
       "[[0.586, 0.391, 1, 0.664, 1, 0.625, 0.195, 0.098, 0.0],\n",
       " [0.488, 0.293, 1, 0.566, 1, 0.527, 0.098, 0.0],\n",
       " [0.391, 0.195, 1, 0.469, 1, 0.43, 0.0],\n",
       " [0.039, 0.234, 1, 0.039, 1, 0.0],\n",
       " [1, 1, 1, 1, 0.0],\n",
       " [0.078, 0.273, 1, 0.0],\n",
       " [1, 1, 0.0],\n",
       " [0.195, 0.0],\n",
       " [0.0]]"
      ]
     },
     "execution_count": 57,
     "metadata": {},
     "output_type": "execute_result"
    }
   ],
   "source": [
    "def vdr():\n",
    "    Real = data['a3'].copy()\n",
    "    Real.fillna('H',inplace=True)\n",
    "    l = []\n",
    "    k = 0\n",
    "    for i in Real:\n",
    "        if i != 'H':\n",
    "            l.append(i)\n",
    "        else:\n",
    "            l.append(37)\n",
    "    # y = k/len(Real)\n",
    "    standard_deviat = statistics.stdev(l)\n",
    "    realValue = []\n",
    "    for i in range(0,len(data['d'])):\n",
    "        h = []\n",
    "        for j in range(len(data['d'])-1,i-1,-1):\n",
    "            if Real[i] != 'H' and Real[j] != 'H':\n",
    "                vdreal = abs(Real[i] - Real[j])/(4*1.28)\n",
    "                h.append(np.round(vdreal,3))\n",
    "            elif Real[i] == 'H' and Real[j] == 'H' and i == j:\n",
    "                vdreal = abs(0/(4*1.28))\n",
    "                h.append(vdreal)\n",
    "            elif Real[i] == 'H' or Real[j] == 'H':\n",
    "                vdreal = 1\n",
    "                h.append(vdreal)\n",
    "        realValue.append(h)\n",
    "    return realValue\n",
    "vdr()"
   ]
  },
  {
   "cell_type": "markdown",
   "metadata": {},
   "source": [
    "<h1> set-valued distances 'a4' in dataframe </h1>"
   ]
  },
  {
   "cell_type": "code",
   "execution_count": 16,
   "metadata": {},
   "outputs": [],
   "source": [
    "f = data.copy()"
   ]
  },
  {
   "cell_type": "code",
   "execution_count": 17,
   "metadata": {},
   "outputs": [
    {
     "data": {
      "text/html": [
       "<div>\n",
       "<style scoped>\n",
       "    .dataframe tbody tr th:only-of-type {\n",
       "        vertical-align: middle;\n",
       "    }\n",
       "\n",
       "    .dataframe tbody tr th {\n",
       "        vertical-align: top;\n",
       "    }\n",
       "\n",
       "    .dataframe thead th {\n",
       "        text-align: right;\n",
       "    }\n",
       "</style>\n",
       "<table border=\"1\" class=\"dataframe\">\n",
       "  <thead>\n",
       "    <tr style=\"text-align: right;\">\n",
       "      <th></th>\n",
       "      <th>a1</th>\n",
       "      <th>a2</th>\n",
       "      <th>a3</th>\n",
       "      <th>a4</th>\n",
       "      <th>d</th>\n",
       "    </tr>\n",
       "  </thead>\n",
       "  <tbody>\n",
       "    <tr>\n",
       "      <th>0</th>\n",
       "      <td>sick</td>\n",
       "      <td>yes</td>\n",
       "      <td>40.0</td>\n",
       "      <td>[c, r, a]</td>\n",
       "      <td>flu</td>\n",
       "    </tr>\n",
       "    <tr>\n",
       "      <th>1</th>\n",
       "      <td>sick</td>\n",
       "      <td>yes</td>\n",
       "      <td>39.5</td>\n",
       "      <td>[c, r, a]</td>\n",
       "      <td>flu</td>\n",
       "    </tr>\n",
       "    <tr>\n",
       "      <th>2</th>\n",
       "      <td>middle</td>\n",
       "      <td>None</td>\n",
       "      <td>39.0</td>\n",
       "      <td>[c]</td>\n",
       "      <td>flu</td>\n",
       "    </tr>\n",
       "    <tr>\n",
       "      <th>3</th>\n",
       "      <td>middle</td>\n",
       "      <td>yes</td>\n",
       "      <td>36.8</td>\n",
       "      <td>[r]</td>\n",
       "      <td>rhinitis</td>\n",
       "    </tr>\n",
       "    <tr>\n",
       "      <th>4</th>\n",
       "      <td>middle</td>\n",
       "      <td>no</td>\n",
       "      <td>NaN</td>\n",
       "      <td>[r]</td>\n",
       "      <td>rhinitis</td>\n",
       "    </tr>\n",
       "    <tr>\n",
       "      <th>5</th>\n",
       "      <td>no</td>\n",
       "      <td>no</td>\n",
       "      <td>36.6</td>\n",
       "      <td>[r, a]</td>\n",
       "      <td>health</td>\n",
       "    </tr>\n",
       "    <tr>\n",
       "      <th>6</th>\n",
       "      <td>no</td>\n",
       "      <td>None</td>\n",
       "      <td>NaN</td>\n",
       "      <td>[a]</td>\n",
       "      <td>health</td>\n",
       "    </tr>\n",
       "    <tr>\n",
       "      <th>7</th>\n",
       "      <td>no</td>\n",
       "      <td>yes</td>\n",
       "      <td>38.0</td>\n",
       "      <td>[c, r, a]</td>\n",
       "      <td>flu</td>\n",
       "    </tr>\n",
       "    <tr>\n",
       "      <th>8</th>\n",
       "      <td>None</td>\n",
       "      <td>yes</td>\n",
       "      <td>37.0</td>\n",
       "      <td>[r]</td>\n",
       "      <td>health</td>\n",
       "    </tr>\n",
       "  </tbody>\n",
       "</table>\n",
       "</div>"
      ],
      "text/plain": [
       "       a1    a2    a3         a4         d\n",
       "0    sick   yes  40.0  [c, r, a]       flu\n",
       "1    sick   yes  39.5  [c, r, a]       flu\n",
       "2  middle  None  39.0        [c]       flu\n",
       "3  middle   yes  36.8        [r]  rhinitis\n",
       "4  middle    no   NaN        [r]  rhinitis\n",
       "5      no    no  36.6     [r, a]    health\n",
       "6      no  None   NaN        [a]    health\n",
       "7      no   yes  38.0  [c, r, a]       flu\n",
       "8    None   yes  37.0        [r]    health"
      ]
     },
     "execution_count": 17,
     "metadata": {},
     "output_type": "execute_result"
    }
   ],
   "source": [
    "f"
   ]
  },
  {
   "cell_type": "code",
   "execution_count": 18,
   "metadata": {},
   "outputs": [
    {
     "data": {
      "text/plain": [
       "[0, 'r', 'a']"
      ]
     },
     "execution_count": 18,
     "metadata": {},
     "output_type": "execute_result"
    }
   ],
   "source": [
    "# Chat-GPT produced!!!!\n",
    "# wow!!!\n",
    "def fill_smaller_list(list1, list2):\n",
    "    list1_c = list1.copy()\n",
    "    list2_c = list2.copy()\n",
    "    \n",
    "    if len(list1_c) > len(list2_c):\n",
    "        bigger_list = list1_c\n",
    "        smaller_list = list2_c\n",
    "    else:\n",
    "        bigger_list = list2_c\n",
    "        smaller_list = list1_c\n",
    "\n",
    "    difference = len(bigger_list) - len(smaller_list)\n",
    "\n",
    "    s = [0]*len(bigger_list)\n",
    "    # s = []\n",
    "    for i in bigger_list:\n",
    "        for j in smaller_list:\n",
    "            if i == j:\n",
    "                s[bigger_list.index(i)] = i\n",
    "\n",
    "    # for i in range(difference):\n",
    "    #     smaller_list.append(1)\n",
    "\n",
    "    return s\n",
    "\n",
    "g = fill_smaller_list(f['a4'][0],f['a4'][5])\n",
    "g"
   ]
  },
  {
   "cell_type": "code",
   "execution_count": 53,
   "metadata": {},
   "outputs": [
    {
     "data": {
      "text/html": [
       "<div>\n",
       "<style scoped>\n",
       "    .dataframe tbody tr th:only-of-type {\n",
       "        vertical-align: middle;\n",
       "    }\n",
       "\n",
       "    .dataframe tbody tr th {\n",
       "        vertical-align: top;\n",
       "    }\n",
       "\n",
       "    .dataframe thead th {\n",
       "        text-align: right;\n",
       "    }\n",
       "</style>\n",
       "<table border=\"1\" class=\"dataframe\">\n",
       "  <thead>\n",
       "    <tr style=\"text-align: right;\">\n",
       "      <th></th>\n",
       "      <th>a1</th>\n",
       "      <th>a2</th>\n",
       "      <th>a3</th>\n",
       "      <th>a4</th>\n",
       "      <th>d</th>\n",
       "    </tr>\n",
       "  </thead>\n",
       "  <tbody>\n",
       "    <tr>\n",
       "      <th>0</th>\n",
       "      <td>sick</td>\n",
       "      <td>yes</td>\n",
       "      <td>40.0</td>\n",
       "      <td>[c, r, a]</td>\n",
       "      <td>flu</td>\n",
       "    </tr>\n",
       "    <tr>\n",
       "      <th>1</th>\n",
       "      <td>sick</td>\n",
       "      <td>yes</td>\n",
       "      <td>39.5</td>\n",
       "      <td>[c, r, a]</td>\n",
       "      <td>flu</td>\n",
       "    </tr>\n",
       "    <tr>\n",
       "      <th>2</th>\n",
       "      <td>middle</td>\n",
       "      <td>None</td>\n",
       "      <td>39.0</td>\n",
       "      <td>[c, 0, 0]</td>\n",
       "      <td>flu</td>\n",
       "    </tr>\n",
       "    <tr>\n",
       "      <th>3</th>\n",
       "      <td>middle</td>\n",
       "      <td>yes</td>\n",
       "      <td>36.8</td>\n",
       "      <td>[0, r, 0]</td>\n",
       "      <td>rhinitis</td>\n",
       "    </tr>\n",
       "    <tr>\n",
       "      <th>4</th>\n",
       "      <td>middle</td>\n",
       "      <td>no</td>\n",
       "      <td>NaN</td>\n",
       "      <td>[0, r, 0]</td>\n",
       "      <td>rhinitis</td>\n",
       "    </tr>\n",
       "    <tr>\n",
       "      <th>5</th>\n",
       "      <td>no</td>\n",
       "      <td>no</td>\n",
       "      <td>36.6</td>\n",
       "      <td>[0, r, a]</td>\n",
       "      <td>health</td>\n",
       "    </tr>\n",
       "    <tr>\n",
       "      <th>6</th>\n",
       "      <td>no</td>\n",
       "      <td>None</td>\n",
       "      <td>NaN</td>\n",
       "      <td>[0, 0, a]</td>\n",
       "      <td>health</td>\n",
       "    </tr>\n",
       "    <tr>\n",
       "      <th>7</th>\n",
       "      <td>no</td>\n",
       "      <td>yes</td>\n",
       "      <td>38.0</td>\n",
       "      <td>[c, r, a]</td>\n",
       "      <td>flu</td>\n",
       "    </tr>\n",
       "    <tr>\n",
       "      <th>8</th>\n",
       "      <td>None</td>\n",
       "      <td>yes</td>\n",
       "      <td>37.0</td>\n",
       "      <td>[0, r, 0]</td>\n",
       "      <td>health</td>\n",
       "    </tr>\n",
       "  </tbody>\n",
       "</table>\n",
       "</div>"
      ],
      "text/plain": [
       "       a1    a2    a3         a4         d\n",
       "0    sick   yes  40.0  [c, r, a]       flu\n",
       "1    sick   yes  39.5  [c, r, a]       flu\n",
       "2  middle  None  39.0  [c, 0, 0]       flu\n",
       "3  middle   yes  36.8  [0, r, 0]  rhinitis\n",
       "4  middle    no   NaN  [0, r, 0]  rhinitis\n",
       "5      no    no  36.6  [0, r, a]    health\n",
       "6      no  None   NaN  [0, 0, a]    health\n",
       "7      no   yes  38.0  [c, r, a]       flu\n",
       "8    None   yes  37.0  [0, r, 0]    health"
      ]
     },
     "execution_count": 53,
     "metadata": {},
     "output_type": "execute_result"
    }
   ],
   "source": [
    "def apply_fill_smaller_list(df, column_name):\n",
    "    new_df = df.copy()\n",
    "    new_df[column_name] = df.apply(lambda x: fill_smaller_list(x[column_name], max(df[column_name], key=len)), axis=1)\n",
    "    return new_df\n",
    "new_f = apply_fill_smaller_list(f, 'a4')\n",
    "new_f"
   ]
  },
  {
   "cell_type": "code",
   "execution_count": 20,
   "metadata": {},
   "outputs": [
    {
     "name": "stdout",
     "output_type": "stream",
     "text": [
      "0.67\n"
     ]
    }
   ],
   "source": [
    "def vds(set_value1, set_value2):\n",
    "    a22 = set_value1.copy()\n",
    "    a33 = set_value2.copy()\n",
    "\n",
    "    # s = [0]*len(a22)\n",
    "    sp = []\n",
    "    for i,j in zip(a22,a33):\n",
    "        if i == j:\n",
    "            # s[a22.index(i)] = 1\n",
    "            sp.append('H')\n",
    "                # s.append(1)\n",
    "    # numofone = []\n",
    "    # for i in s:\n",
    "    #     if i == 1:\n",
    "    #         numofone.append('H')\n",
    "    vdss = np.round(1 - (len(sp)/len(a22)),2)\n",
    "    return vdss\n",
    "vdss = vds(new_f['a4'][0], new_f['a4'][2])\n",
    "print(vdss)\n",
    "        # else:\n",
    "        #     s[a22.index(i)] = 0\n",
    "\n",
    "# sprime = []\n",
    "# for i in list(s):\n",
    "#     if i == 0.0:\n",
    "#         sprime.append(list(s).index(i))\n",
    "# sprime"
   ]
  },
  {
   "cell_type": "code",
   "execution_count": 21,
   "metadata": {},
   "outputs": [
    {
     "data": {
      "text/plain": [
       "[[0.67, 0.0, 0.67, 0.33, 0.67, 0.67, 0.67, 0.0, 0.0],\n",
       " [0.67, 0.0, 0.67, 0.33, 0.67, 0.67, 0.67, 0.0],\n",
       " [0.67, 0.67, 0.67, 1.0, 0.67, 0.67, 0.0],\n",
       " [0.0, 0.67, 0.67, 0.33, 0.0, 0.0],\n",
       " [0.0, 0.67, 0.67, 0.33, 0.0],\n",
       " [0.33, 0.33, 0.33, 0.0],\n",
       " [0.67, 0.67, 0.0],\n",
       " [0.67, 0.0],\n",
       " [0.0]]"
      ]
     },
     "execution_count": 21,
     "metadata": {},
     "output_type": "execute_result"
    }
   ],
   "source": [
    "vds_all = []\n",
    "for i in range(0,len(data['d'])):\n",
    "    h = []\n",
    "    # for j in range(len(data['d'])-1,i-1,-1):\n",
    "    for j in range(len(data['d'])-1,i-1,-1):\n",
    "        h.append(vds(new_f['a4'][i],new_f['a4'][j]))\n",
    "    vds_all.append(h)\n",
    "vds_all"
   ]
  },
  {
   "cell_type": "markdown",
   "metadata": {},
   "source": [
    "# combine all and create <h2>R(G)</h2>"
   ]
  },
  {
   "cell_type": "code",
   "execution_count": 58,
   "metadata": {},
   "outputs": [
    {
     "name": "stdout",
     "output_type": "stream",
     "text": [
      "0.67\n",
      "0.195\n",
      "1\n",
      "0.54\n"
     ]
    },
    {
     "data": {
      "text/plain": [
       "0.32903928600370663"
      ]
     },
     "execution_count": 58,
     "metadata": {},
     "output_type": "execute_result"
    }
   ],
   "source": [
    "print(vds_all[0][6])\n",
    "real_value = vdr()\n",
    "print(real_value[0][6])\n",
    "vboolean = vdb()\n",
    "print(vboolean[0][6])\n",
    "print(sim_matrix[0][6])\n",
    "HD = np.exp((-1)*(((np.sqrt((vds_all[0][6]**2) + (real_value[0][6]**2) + (vboolean[0][6]**2) + (sim_matrix[0][6]**2)))**2))/(2*0.8))\n",
    "HD\n",
    "# print(sim_matrix)"
   ]
  },
  {
   "cell_type": "code",
   "execution_count": 59,
   "metadata": {},
   "outputs": [
    {
     "data": {
      "text/plain": [
       "0.3294353996340041"
      ]
     },
     "execution_count": 59,
     "metadata": {},
     "output_type": "execute_result"
    }
   ],
   "source": [
    "GH = (np.sqrt((0.67**2) + (0.19**2) + (1**2) + (0.54**2)))\n",
    "ggg = np.exp((-(GH**2)/(2*0.8)))\n",
    "\n",
    "ggg\n"
   ]
  },
  {
   "cell_type": "code",
   "execution_count": 36,
   "metadata": {},
   "outputs": [
    {
     "data": {
      "text/plain": [
       "[0.67, 0.0, 0.67, 0.33, 0.67, 0.67, 0.67, 0.0, 0.0]"
      ]
     },
     "execution_count": 36,
     "metadata": {},
     "output_type": "execute_result"
    }
   ],
   "source": [
    "vds_all[0]"
   ]
  },
  {
   "cell_type": "code",
   "execution_count": 69,
   "metadata": {},
   "outputs": [
    {
     "data": {
      "text/plain": [
       "[[0.17, 0.36, 0.16, 0.53, 0.34, 0.26, 0.33, 0.53, 1.0],\n",
       " [0.19, 0.38, 0.16, 0.57, 0.34, 0.28, 0.33, 1.0],\n",
       " [0.2, 0.32, 0.18, 0.2, 0.22, 0.36, 1.0],\n",
       " [0.29, 0.32, 0.18, 0.76, 0.54, 1.0],\n",
       " [0.29, 0.33, 0.18, 0.22, 1.0],\n",
       " [0.5, 0.89, 0.27, 1.0],\n",
       " [0.12, 0.22, 1.0],\n",
       " [0.21, 1.0],\n",
       " [1.0]]"
      ]
     },
     "execution_count": 69,
     "metadata": {},
     "output_type": "execute_result"
    }
   ],
   "source": [
    "po = []\n",
    "for i in range(0,len(new_f['d'])):\n",
    "    RRg = []\n",
    "    for j,k,m,n in zip(vds_all[i],real_value[i],vboolean[i],sim_matrix[i]):\n",
    "        gg = np.sqrt((j**2) + (k**2) + (m**2)+ (n**2))\n",
    "        RGij = np.exp(-(gg**2)/(2*0.8))\n",
    "        # RRg.append('{} {} {}'.format(i,j,np.round(RGij,2)))\n",
    "        RRg.append(np.round(RGij,2))\n",
    "    po.append(RRg)\n",
    "po"
   ]
  },
  {
   "cell_type": "code",
   "execution_count": 61,
   "metadata": {},
   "outputs": [],
   "source": [
    "# 0.33*x = 0.23\n",
    "x = 0.23/0.33"
   ]
  },
  {
   "cell_type": "code",
   "execution_count": 62,
   "metadata": {},
   "outputs": [
    {
     "data": {
      "text/plain": [
       "0.696969696969697"
      ]
     },
     "execution_count": 62,
     "metadata": {},
     "output_type": "execute_result"
    }
   ],
   "source": [
    "x"
   ]
  },
  {
   "cell_type": "code",
   "execution_count": null,
   "metadata": {},
   "outputs": [],
   "source": []
  }
 ],
 "metadata": {
  "kernelspec": {
   "display_name": "Python 3.10.8 64-bit (microsoft store)",
   "language": "python",
   "name": "python3"
  },
  "language_info": {
   "codemirror_mode": {
    "name": "ipython",
    "version": 3
   },
   "file_extension": ".py",
   "mimetype": "text/x-python",
   "name": "python",
   "nbconvert_exporter": "python",
   "pygments_lexer": "ipython3",
   "version": "3.10.11"
  },
  "orig_nbformat": 4,
  "vscode": {
   "interpreter": {
    "hash": "86574e4f19db8ee957d6fe1e2c1f475c607769e9dfe393ab2728bcbb3e541d6a"
   }
  }
 },
 "nbformat": 4,
 "nbformat_minor": 2
}
