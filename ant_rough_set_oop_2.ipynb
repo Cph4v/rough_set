{
 "cells": [
  {
   "cell_type": "code",
   "execution_count": 50,
   "metadata": {},
   "outputs": [],
   "source": [
    "import pandas as pd\n",
    "import numpy as np\n",
    "from sklearn.feature_selection import mutual_info_classif\n",
    "from pathlib import Path\n",
    "from frlearn.classifiers import FRNN\n",
    "from sklearn.model_selection import train_test_split\n",
    "from frlearn.base import probabilities_from_scores\n",
    "from sklearn.metrics import roc_auc_score\n",
    "\n",
    "\n",
    "index = [\"bkblk\",\"bknwy\",\"bkon8\",\"bkona\",\"bkspr\",\"bkxbq\",\"bkxcr\",\"bkxwp\",\"blxwp\",\"bxqsq\",\"cntxt\",\"dsopp\",\"dwipd\",\n",
    " \"hdchk\",\"katri\",\"mulch\",\"qxmsq\",\"r2ar8\",\"reskd\",\"reskr\",\"rimmx\",\"rkxwp\",\"rxmsq\",\"simpl\",\"skach\",\"skewr\",\n",
    " \"skrxp\",\"spcop\",\"stlmt\",\"thrsk\",\"wkcti\",\"wkna8\",\"wknck\",\"wkovl\",\"wkpos\",\"wtoeg\",\"win\"]\n",
    "\n",
    "\n",
    "data = pd.read_csv('/home/hamid/hamash_amir/research/rough_set/kr-vs-kp_csv.csv')\n",
    "data.rename(columns = {'class':\"win\"}, inplace=True)\n",
    "# data = pd.read_csv('/home/teslator/projects/rough_set/kr_vs_kp.csv')\n",
    "# data.rename(columns = {'outcome':\"win\"}, inplace=True)\n",
    "\n",
    "ns = pd.get_dummies(data[data.columns[:-1]], prefix=data.columns[:-1],drop_first=True, dtype=int)\n",
    "\n",
    "ns_y = data['win'].copy()\n",
    "Y = pd.get_dummies(ns_y,prefix='win',drop_first=True, dtype=int)\n",
    "\n",
    "\n",
    "class Colony:\n",
    "    \n",
    "\n",
    "\n",
    "    dataframe: object = ns\n",
    "    pheromone = np.ones((ns.shape[1], ns.shape[1]))\n",
    "    traversed_nodes = np.zeros((ns.shape[1],ns.shape[1]))\n",
    "    ant_route: list[int] = []\n",
    "    alpha: float | int \n",
    "    beta: float | int \n",
    "    feature_choices: list[str] = dataframe.columns.tolist()\n",
    "    feature1: str\n",
    "    # log: list[str] = []\n",
    "    log: dict = {}\n",
    "    fg: list[str] = feature_choices.copy()\n",
    "    acc_criteria: float\n",
    "    rho: int | float\n",
    "    delta = np.zeros((ns.shape[1],ns.shape[1]))\n",
    "    colony_number: int = 0\n",
    "    overall_ant_route: dict = {}\n",
    "    \n",
    "    # def __init__(self):\n",
    "    #     self.ant_route = ant_route\n",
    "    #     self.feature1 = feature1\n",
    "    #     self.fg = fg\n",
    "    \n",
    "    \n",
    "    @classmethod\n",
    "    def set_stopping_criteria(cls, criteria):\n",
    "        cls.acc_criteria = criteria\n",
    "    \n",
    "    @classmethod\n",
    "    def set_rate_decay(cls, rate_decay):\n",
    "        cls.rho = rate_decay\n",
    "    \n",
    "    @classmethod\n",
    "    def add_generation(cls):\n",
    "        cls.colony_number += 1\n",
    "\n",
    "    \n",
    "    @classmethod\n",
    "    def get_log(cls):\n",
    "        print(cls.log)\n",
    "    \n",
    "    @classmethod\n",
    "    def reset_colony(cls):\n",
    "        \n",
    "        Colony.pheromone = np.ones((ns.shape[1], ns.shape[1]))\n",
    "        Colony.traversed_nodes = np.zeros((ns.shape[1], ns.shape[1]))\n",
    "\n",
    "        Colony.overall_ant_route = {}\n",
    "        Colony.log = []\n",
    "        Colony.fg = cls.feature_choices.copy()\n",
    "    \n",
    "    @classmethod\n",
    "    def reset_fg(cls):\n",
    "        \"\"\"\n",
    "        this function reset fg that is responsible for feature space possible for each ant\n",
    "        and remove first choice of each ant from this space to avoid selecting same features \n",
    "        by next ant as beginner feature.AND AND AND\n",
    "        \n",
    "        remove first choice of each ant from fg to prevent next ants choosing that\n",
    "        and each ant beging from different node as begining.\n",
    "        \"\"\"\n",
    "        if cls.colony_number > 0:\n",
    "            cls.fg = cls.feature_choices.copy()\n",
    "        if cls.overall_ant_route:\n",
    "            cls.fg = [y for y in cls.fg if y not in [cls.feature_choices[x[0]] for x in list(cls.overall_ant_route.values())]]\n",
    "        # first_choice_of_each_ant = [first[0] for first in cls.overall_ant_route.values() if cls.overall_ant_route.values() != []]\n",
    "        # first_choice_of_each_ant_list = [cls.feature_choices[i] for i in first_choice_of_each_ant]\n",
    "        # cls.fg = [x for x in cls.fg if x not in first_choice_of_each_ant_list]\n",
    "        \n",
    "    @classmethod\n",
    "    def initialization_alpha_beta(cls, alpha, beta):\n",
    "        \n",
    "        cls.alpha = alpha\n",
    "        cls.beta = beta\n",
    "\n",
    "    @classmethod\n",
    "    def reset_ant_route(cls):\n",
    "        cls.ant_route = []\n",
    "\n",
    "    @classmethod\n",
    "    def initialize_feature1(cls):\n",
    "        ant_route = cls.ant_route\n",
    "        if ant_route == []:\n",
    "            cls.feature1 = np.random.choice(cls.feature_choices)\n",
    "        else:\n",
    "            cls.feature1 = cls.feature_choices[cls.ant_route[-1]]\n",
    "    \n",
    "    \n",
    "    @classmethod\n",
    "    def ant(cls):\n",
    "\n",
    "        cls.initialization_alpha_beta(0.5, 0.5)\n",
    "        cls.initialize_feature1()\n",
    "        feature_1 = cls.feature1\n",
    "        features = cls.dataframe.columns.tolist()\n",
    "        if feature_1 in cls.fg:\n",
    "            cls.fg.remove(feature_1)\n",
    "        i = features.index(feature_1)\n",
    "        if i not in cls.ant_route:\n",
    "            cls.ant_route.append(i)\n",
    "\n",
    "        feat1_dist_prob = {}\n",
    "        for feature2 in cls.fg:\n",
    "           \n",
    "            pij = cls.__probability_transition_rule(cls.feature1, feature2)\n",
    "      \n",
    "            j = features.index(feature2)\n",
    "            feat1_dist_prob[j] = pij\n",
    "\n",
    "        \n",
    "            # cls.log.append(f'feat1{features.index(cls.feature1)}' \n",
    "            #                f'--feat2{features.index(feature2)}--pij{float(pij)}--ant-route{cls.ant_route}'\n",
    "            #                f'--fg{cls.fg}')\n",
    "            # cls.log[f'{i}-{j}'] = pij\n",
    "\n",
    "    \n",
    "        # ant_next_target_index = [key for key, value in feat1_dist_prob.items() if value == max(feat1_dist_prob.values())][0]\n",
    "        keys_with_max_value = [key for key,value in feat1_dist_prob.items() if value == max(feat1_dist_prob.values())]\n",
    "        print(f'{[cls.fg.index(value) for value in cls.fg]}')\n",
    "        print(f'keys_with_max_value : {keys_with_max_value}')\n",
    "        print(f'feat1_dist_prob : {max(feat1_dist_prob.values())}')\n",
    "        if keys_with_max_value:\n",
    "            ant_next_target_index = keys_with_max_value[0]\n",
    "            cls.traversed_nodes[i,ant_next_target_index] = 1\n",
    "            # mitting criterion\n",
    "            cls.ant_route.append(ant_next_target_index)\n",
    "        fg_index = [key for key,value in feat1_dist_prob.items()]\n",
    "\n",
    "    \n",
    "    @classmethod\n",
    "    def ants(\n",
    "        cls, make_initialize: bool | None=None,\n",
    "            number_of_ants_first_gen: int | None=None,\n",
    "            number_of_ants_next_gen: int | None=None, \n",
    "            init_criteria: int | str | None=None,\n",
    "            rate_decay: float | None=None, \n",
    "            phero_rate_decay: float | None=None):\n",
    "\n",
    "        if cls.colony_number == 0 or make_initialize == True:\n",
    "            cls.initialize_colony(\n",
    "                number_of_ants_first_generation=number_of_ants_first_gen,\n",
    "                                init_criteria=init_criteria)\n",
    "            cls.generate_next_ants(\n",
    "                number_of_ants_next_generation=number_of_ants_next_gen,\n",
    "                rate_decay=rate_decay, phero_rate_decay=phero_rate_decay,\n",
    "                criteria_func=cls.is_rough_set_criteria_met)\n",
    "            \n",
    "\n",
    "        \n",
    "    @classmethod\n",
    "    def change_pheromone(cls, q, rho):\n",
    "        \"\"\"\n",
    "        After each generation of several ants or after each generation \n",
    "        it update pheromone matrix according to following formula:\n",
    "         \n",
    "        phromone[i,j](t+1) = (1-rho)*phromone[i,j](t) + Delta(ij)(t)\n",
    "        \n",
    "        rho is pheromone decay coefficient along time\n",
    "        \n",
    "        Delta(ij)(t) = |_| = Delta(ij)(t) = \n",
    "                       |_|   q/sigma(landa_prime(ant_route)/len(ant_route)) ,if traversed_node[i,j] = 1\n",
    "                       |_| = 0                                            ,if traversed_node[i,j] = 0\n",
    "        \n",
    "        landa_prime is rough_set_measure           \n",
    "        \"\"\"\n",
    "        cls.set_rate_decay(rho)\n",
    "        minimum_ant_route_len = np.min([len(x) for x in list(cls.overall_ant_route.values())])\n",
    "        for i in range(cls.delta.shape[0]):\n",
    "            for j in range(cls.delta.shape[0]):\n",
    "                if cls.traversed_nodes[i,j] == 1:\n",
    "                    cls.delta[i,j] = q/minimum_ant_route_len\n",
    "                    cls.pheromone[i,j] = (1 - cls.rho)*cls.pheromone[i,j] + cls.delta[i,j]\n",
    "                elif cls.traversed_nodes[i,j] == 0:\n",
    "                    cls.delta[i,j] = 0\n",
    "                    cls.pheromone[i,j] = (1 - cls.rho)*cls.pheromone[i,j] + cls.delta[i,j]\n",
    "        \n",
    "\n",
    "    @classmethod\n",
    "    def positive_region(cls):\n",
    "        # assuming df is your DataFrame\n",
    "        # assuming the last column is the decision column\n",
    "        # partition dataframe based on decision classes\n",
    "        df = cls.dataframe\n",
    "        partitions = [group for _, group in df.groupby(df.iloc[:,-1])]\n",
    "    \n",
    "        # find positive region for each partition\n",
    "        positive_regions = [group[group.duplicated(df.columns[:-1], keep=False)] for group in partitions]\n",
    "    \n",
    "        # return union of all positive regions\n",
    "        return pd.concat(positive_regions)\n",
    "\n",
    "\n",
    "    \n",
    "    @classmethod\n",
    "    def __probability_transition_rule(cls, feature1, feature2):\n",
    "        col_index = ns.columns.tolist()\n",
    "        i = col_index.index(feature1)\n",
    "        j = col_index.index(feature2)\n",
    "        l = col_index.copy()\n",
    "        \n",
    "\n",
    "        feat1 = feature1\n",
    "        feat2 = feature2\n",
    "\n",
    "        mic_ij = mutual_info_classif(ns[[feat1, feat2]], y=Y['win_won'], random_state=0)[1]\n",
    "        phrmn_ij = cls.pheromone[i,j]\n",
    "        init = 0\n",
    "        for k in range(0,len(l)):\n",
    "            if k != l.index(feature2):\n",
    "                phrmn_il = cls.pheromone[i,k]\n",
    "                mic_il = cls.pheromone[i,k]\n",
    "                init += (phrmn_il**cls.alpha) * (mic_il**cls.beta)\n",
    "        if init == 0:\n",
    "            print(\"init is zero!\")\n",
    "        pij = ((mic_ij**cls.beta) * (phrmn_ij**cls.alpha)) / init\n",
    "        return pij\n",
    "\n",
    "    @classmethod \n",
    "    def initialize_colony(cls, number_of_ants_first_generation, init_criteria):\n",
    "        \"\"\"\n",
    "        ivar: init_criteria: how much steps an ant in initialization must have.\n",
    "        first of all we run this method for initialize first generation of colony\n",
    "        in this method we set manually number_of_ants_first_generation variable\n",
    "        to a number As a CRITERIA just for initialize pheromone matrix.in next \n",
    "        generations we set rough set feature selection CRITERIA and when \n",
    "        selected features by each ant in a colony met this limit that ant stop\n",
    "        exploration and next ant begins.\n",
    "        CAUTIONS!: RUN THIS METHOD JUST ONE TIME IN EACH COLONY!\n",
    "        \"\"\" \n",
    "        \n",
    "        # cls.overal_ant_route = {}\n",
    "        \n",
    "        j = 0\n",
    "        while j < number_of_ants_first_generation:\n",
    "            # i = 0\n",
    "            # while i < init_criteria: \n",
    "            for n in range(0,init_criteria-1):\n",
    "                cls.ant()\n",
    "                # i += 1\n",
    "            cls.overall_ant_route[j] = cls.ant_route\n",
    "            cls.log[j] = cls.ant_route\n",
    "            print(cls.ant_route)\n",
    "            # cls.reset_fg()\n",
    "            # remove first choice of each ant in below code\n",
    "            cls.fg = [y for y in cls.fg if y not in [cls.feature_choices[x[0]] for x in list(cls.overall_ant_route.values())]]\n",
    "            cls.reset_ant_route()\n",
    "            j += 1\n",
    "        \n",
    "        cls.add_generation()\n",
    "\n",
    "    @classmethod\n",
    "    def is_rough_set_criteria_met(cls, selected_feature: list[int], acc_criteria: float | int):\n",
    "\n",
    "        cls.set_stopping_criteria(acc_criteria)\n",
    "        if selected_feature != [] and len(selected_feature) > 1:\n",
    "            data = ns.iloc[:, selected_feature]\n",
    "            X_train, X_test, y_train, y_test = train_test_split(data.values, Y.values.squeeze(), test_size=0.33, random_state=42)\n",
    "            \n",
    "            clf = FRNN()\n",
    "            model = clf(X_train, y_train)\n",
    "\n",
    "\n",
    "            scores = model(X_test)\n",
    "\n",
    "            probabilities = probabilities_from_scores(scores)\n",
    "            auroc = roc_auc_score(y_test, probabilities[:,-1])\n",
    "            \n",
    "            \n",
    "            if auroc >= cls.acc_criteria:\n",
    "                cls.log['acc'] = auroc\n",
    "                return True, auroc\n",
    "            else:\n",
    "                return False, auroc\n",
    "        else:\n",
    "            return False, 0.0\n",
    "\n",
    "        \n",
    "    @classmethod\n",
    "    def is_landa_met(\n",
    "        cls, selected_feature: list[int], sim_threshold = 0.5, landa_criteria = 0.8):\n",
    "        \"\"\"\n",
    "        sim_threshold: similarity of each pair of instances that more than that\n",
    "        these pairs trace as Similar together\n",
    "        landa_criteria: stop one ant route exploration if met.more landa equall less redundant.  \n",
    "        \"\"\"\n",
    "        if selected_feature != [] and len(selected_feature) > 1:\n",
    "            # landa_criteria = 0.8\n",
    "            # sim_threshold = 0.5\n",
    "            # if selected_feature != []:\n",
    "            X = ns.iloc[:, selected_feature].values\n",
    "            y = Y.values.squeeze()\n",
    "            R_a = np.minimum(np.maximum(1 - np.abs(X[:, None, :] - X), 0), \n",
    "                             y[:, None, None] != y[:, None])\n",
    "            # Define a threshold for the lower approximation\n",
    "\n",
    "\n",
    "            # Calculate the differences between pairs of instances\n",
    "            differences = []\n",
    "            all = []\n",
    "            for i in range(len(X)):\n",
    "                for j in range(i+1, len(X)):\n",
    "                    difference = np.count_nonzero(R_a[i, j])\n",
    "                    similarity_percent = 1 - (difference/X.shape[1])\n",
    "                    if similarity_percent > sim_threshold and i != j:\n",
    "                        differences.append(difference)\n",
    "                    all.append(difference)\n",
    "\n",
    "            # Calculate the average difference\n",
    "            criteria = len(differences) / ((X.shape[0]**2)/2)\n",
    "\n",
    "            landa = criteria\n",
    "            cls.log['landa'] = landa\n",
    "            if landa >= landa_criteria:\n",
    "                return True, landa\n",
    "            elif landa < landa_criteria:\n",
    "                return False , landa\n",
    "        else:\n",
    "            return False, 0.0\n",
    "        # if landa >= landa_criteria:\n",
    "        #     return True\n",
    "        # elif landa < landa_criteria or cls.ant_route == []:\n",
    "        #     return False \n",
    "\n",
    "        \n",
    "    @classmethod \n",
    "    def generate_next_ants(\n",
    "        cls, number_of_ants_next_generation: int,\n",
    "        rate_decay,\n",
    "        phero_rate_decay,\n",
    "        THRESHOLD: list[int,str,None]\n",
    "        ):\n",
    "        \"\"\"\n",
    "        \n",
    "        THRESHOLD[0]: criteria limit\n",
    "        THRESHOLD[1]: if it was accuracy then criteria limit = [0,1] or \n",
    "        if it was equall landa then criteria limit = [0,1] AND THRESHOLD[2]\n",
    "        must be enter\n",
    "        \"\"\"\n",
    "        # try:\n",
    "        if cls.colony_number > 0:\n",
    "            j = 0\n",
    "            cls.fg = cls.feature_choices.copy()\n",
    "            while j < number_of_ants_next_generation:\n",
    "                i = 0\n",
    "                while True:\n",
    "\n",
    "                    cls.ant()\n",
    "                    if THRESHOLD[1] == 'accuracy':\n",
    "                        is_criteria_met, criteria = cls.is_rough_set_criteria_met(cls.ant_route ,THRESHOLD[0])\n",
    "                    if THRESHOLD[1] == 'landa':\n",
    "                        is_criteria_met, criteria = cls.is_landa_met(cls.ant_route , THRESHOLD[2], THRESHOLD[0])\n",
    "                        \n",
    "                    if is_criteria_met:\n",
    "                        print(f'stop with this criteria {criteria}')\n",
    "                        break\n",
    "                    print(cls.ant_route)\n",
    "                    print(criteria)\n",
    "                    # cls.log['criteria'] = criteria\n",
    "                    i += 1\n",
    "                cls.overall_ant_route[f'generated_ant_num : {j}'] = cls.ant_route\n",
    "                cls.log[f'generated_ant_num : {j}'] = cls.ant_route\n",
    "                cls.log[f'{THRESHOLD[1]}criteria {j}:'] = criteria\n",
    "                print(f\"ant{j}-{cls.ant_route}-criteria{criteria}\")\n",
    "                \n",
    "                cls.fg = [y for y in cls.fg if y not in [cls.feature_choices[x[0]] for x in list(cls.overall_ant_route.values())]]\n",
    "                cls.reset_ant_route()\n",
    "                j += 1\n",
    "            cls.change_pheromone(q=rate_decay, rho=phero_rate_decay)\n",
    "        else:\n",
    "            print(\"Colony generation doesnt initialized first!\")\n",
    "        #         raise Exception(\"Colony generation doesnt initialized first!\")\n",
    "        # except Exception as e:\n",
    "        #     print(e)}"
   ]
  },
  {
   "cell_type": "code",
   "execution_count": 16,
   "metadata": {},
   "outputs": [
    {
     "data": {
      "text/plain": [
       "[]"
      ]
     },
     "execution_count": 16,
     "metadata": {},
     "output_type": "execute_result"
    }
   ],
   "source": [
    "Colony.ant_route"
   ]
  },
  {
   "cell_type": "code",
   "execution_count": 17,
   "metadata": {},
   "outputs": [
    {
     "name": "stdout",
     "output_type": "stream",
     "text": [
      "[0, 1, 2, 3, 4, 5, 6, 7, 8, 9, 10, 11, 12, 13, 14, 15, 16, 17, 18, 19, 20, 21, 22, 23, 24, 25, 26, 27, 28, 29, 30, 31, 32, 33, 34, 35]\n",
      "keys_with_max_value : [21]\n",
      "feat1_dist_prob : 0.010176304809302022\n",
      "[0, 1, 2, 3, 4, 5, 6, 7, 8, 9, 10, 11, 12, 13, 14, 15, 16, 17, 18, 19, 20, 21, 22, 23, 24, 25, 26, 27, 28, 29, 30, 31, 32, 33, 34]\n",
      "keys_with_max_value : [9]\n",
      "feat1_dist_prob : 0.00710357754890756\n",
      "[0, 1, 2, 3, 4, 5, 6, 7, 8, 9, 10, 11, 12, 13, 14, 15, 16, 17, 18, 19, 20, 21, 22, 23, 24, 25, 26, 27, 28, 29, 30, 31, 32, 33]\n",
      "keys_with_max_value : [33]\n",
      "feat1_dist_prob : 0.007101379414559333\n",
      "[0, 1, 2, 3, 4, 5, 6, 7, 8, 9, 10, 11, 12, 13, 14, 15, 16, 17, 18, 19, 20, 21, 22, 23, 24, 25, 26, 27, 28, 29, 30, 31, 32]\n",
      "keys_with_max_value : [32]\n",
      "feat1_dist_prob : 0.004208224063542534\n",
      "[7, 21, 9, 33, 32]\n",
      "[0, 1, 2, 3, 4, 5, 6, 7, 8, 9, 10, 11, 12, 13, 14, 15, 16, 17, 18, 19, 20, 21, 22, 23, 24, 25, 26, 27, 28, 29, 30, 31]\n",
      "keys_with_max_value : [32]\n",
      "feat1_dist_prob : 0.004208224063542534\n",
      "[0, 1, 2, 3, 4, 5, 6, 7, 8, 9, 10, 11, 12, 13, 14, 15, 16, 17, 18, 19, 20, 21, 22, 23, 24, 25, 26, 27, 28, 29, 30]\n",
      "keys_with_max_value : [15]\n",
      "feat1_dist_prob : 0.003970892173563391\n",
      "[0, 1, 2, 3, 4, 5, 6, 7, 8, 9, 10, 11, 12, 13, 14, 15, 16, 17, 18, 19, 20, 21, 22, 23, 24, 25, 26, 27, 28, 29]\n",
      "keys_with_max_value : [36]\n",
      "feat1_dist_prob : 0.0031941196673904277\n",
      "[0, 1, 2, 3, 4, 5, 6, 7, 8, 9, 10, 11, 12, 13, 14, 15, 16, 17, 18, 19, 20, 21, 22, 23, 24, 25, 26, 27, 28]\n",
      "keys_with_max_value : [29]\n",
      "feat1_dist_prob : 0.0028109388829424603\n",
      "[25, 32, 15, 36, 29]\n",
      "[0, 1, 2, 3, 4, 5, 6, 7, 8, 9, 10, 11, 12, 13, 14, 15, 16, 17, 18, 19, 20, 21, 22, 23, 24, 25, 26, 27, 28]\n",
      "keys_with_max_value : [29]\n",
      "feat1_dist_prob : 0.0028109388829424603\n",
      "[0, 1, 2, 3, 4, 5, 6, 7, 8, 9, 10, 11, 12, 13, 14, 15, 16, 17, 18, 19, 20, 21, 22, 23, 24, 25, 26, 27]\n",
      "keys_with_max_value : [31]\n",
      "feat1_dist_prob : 0.0024755991887082675\n",
      "[0, 1, 2, 3, 4, 5, 6, 7, 8, 9, 10, 11, 12, 13, 14, 15, 16, 17, 18, 19, 20, 21, 22, 23, 24, 25, 26]\n",
      "keys_with_max_value : [16]\n",
      "feat1_dist_prob : 0.0024176981408798523\n",
      "[0, 1, 2, 3, 4, 5, 6, 7, 8, 9, 10, 11, 12, 13, 14, 15, 16, 17, 18, 19, 20, 21, 22, 23, 24, 25]\n",
      "keys_with_max_value : [18]\n",
      "feat1_dist_prob : 0.0023599131064591296\n",
      "[33, 29, 31, 16, 18]\n",
      "[0, 1, 2, 3, 4, 5, 6, 7, 8, 9, 10, 11, 12, 13, 14, 15, 16, 17, 18, 19, 20, 21, 22, 23, 24, 25]\n",
      "keys_with_max_value : [18]\n",
      "feat1_dist_prob : 0.0023599131064591296\n",
      "[0, 1, 2, 3, 4, 5, 6, 7, 8, 9, 10, 11, 12, 13, 14, 15, 16, 17, 18, 19, 20, 21, 22, 23, 24]\n",
      "keys_with_max_value : [6]\n",
      "feat1_dist_prob : 0.0022439832552795247\n",
      "[0, 1, 2, 3, 4, 5, 6, 7, 8, 9, 10, 11, 12, 13, 14, 15, 16, 17, 18, 19, 20, 21, 22, 23]\n",
      "keys_with_max_value : [23]\n",
      "feat1_dist_prob : 0.002131013006868446\n",
      "[0, 1, 2, 3, 4, 5, 6, 7, 8, 9, 10, 11, 12, 13, 14, 15, 16, 17, 18, 19, 20, 21, 22]\n",
      "keys_with_max_value : [14]\n",
      "feat1_dist_prob : 0.0019918557764496293\n",
      "[7, 18, 6, 23, 14]\n",
      "[0, 1, 2, 3, 4, 5, 6, 7, 8, 9, 10, 11, 12, 13, 14, 15, 16, 17, 18, 19, 20, 21]\n",
      "keys_with_max_value : [14]\n",
      "feat1_dist_prob : 0.0019918557764496293\n",
      "[0, 1, 2, 3, 4, 5, 6, 7, 8, 9, 10, 11, 12, 13, 14, 15, 16, 17, 18, 19, 20]\n",
      "keys_with_max_value : [35]\n",
      "feat1_dist_prob : 0.0014632796494194094\n",
      "[0, 1, 2, 3, 4, 5, 6, 7, 8, 9, 10, 11, 12, 13, 14, 15, 16, 17, 18, 19]\n",
      "keys_with_max_value : [1]\n",
      "feat1_dist_prob : 0.001401455262310136\n",
      "[0, 1, 2, 3, 4, 5, 6, 7, 8, 9, 10, 11, 12, 13, 14, 15, 16, 17, 18]\n",
      "keys_with_max_value : [27]\n",
      "feat1_dist_prob : 0.001084775290018463\n",
      "[28, 14, 35, 1, 27]\n"
     ]
    },
    {
     "ename": "TypeError",
     "evalue": "Colony.generate_next_ants() got an unexpected keyword argument 'criteria_func'",
     "output_type": "error",
     "traceback": [
      "\u001b[0;31m---------------------------------------------------------------------------\u001b[0m",
      "\u001b[0;31mTypeError\u001b[0m                                 Traceback (most recent call last)",
      "Cell \u001b[0;32mIn[17], line 1\u001b[0m\n\u001b[0;32m----> 1\u001b[0m Colony\u001b[39m.\u001b[39;49mants(make_initialize\u001b[39m=\u001b[39;49m\u001b[39mTrue\u001b[39;49;00m,number_of_ants_first_gen\u001b[39m=\u001b[39;49m\u001b[39m5\u001b[39;49m,number_of_ants_next_gen\u001b[39m=\u001b[39;49m\u001b[39m5\u001b[39;49m,init_criteria\u001b[39m=\u001b[39;49m\u001b[39m5\u001b[39;49m,rate_decay\u001b[39m=\u001b[39;49m\u001b[39m0.3\u001b[39;49m,phero_rate_decay\u001b[39m=\u001b[39;49m\u001b[39m0.2\u001b[39;49m)\n",
      "Cell \u001b[0;32mIn[15], line 166\u001b[0m, in \u001b[0;36mColony.ants\u001b[0;34m(cls, make_initialize, number_of_ants_first_gen, number_of_ants_next_gen, init_criteria, rate_decay, phero_rate_decay)\u001b[0m\n\u001b[1;32m    162\u001b[0m \u001b[39mif\u001b[39;00m \u001b[39mcls\u001b[39m\u001b[39m.\u001b[39mcolony_number \u001b[39m==\u001b[39m \u001b[39m0\u001b[39m \u001b[39mor\u001b[39;00m make_initialize \u001b[39m==\u001b[39m \u001b[39mTrue\u001b[39;00m:\n\u001b[1;32m    163\u001b[0m     \u001b[39mcls\u001b[39m\u001b[39m.\u001b[39minitialize_colony(\n\u001b[1;32m    164\u001b[0m         number_of_ants_first_generation\u001b[39m=\u001b[39mnumber_of_ants_first_gen,\n\u001b[1;32m    165\u001b[0m                         init_criteria\u001b[39m=\u001b[39minit_criteria)\n\u001b[0;32m--> 166\u001b[0m     \u001b[39mcls\u001b[39;49m\u001b[39m.\u001b[39;49mgenerate_next_ants(\n\u001b[1;32m    167\u001b[0m         number_of_ants_next_generation\u001b[39m=\u001b[39;49mnumber_of_ants_next_gen,\n\u001b[1;32m    168\u001b[0m         rate_decay\u001b[39m=\u001b[39;49mrate_decay, phero_rate_decay\u001b[39m=\u001b[39;49mphero_rate_decay,\n\u001b[1;32m    169\u001b[0m         criteria_func\u001b[39m=\u001b[39;49m\u001b[39mcls\u001b[39;49m\u001b[39m.\u001b[39;49mis_rough_set_criteria_met)\n",
      "\u001b[0;31mTypeError\u001b[0m: Colony.generate_next_ants() got an unexpected keyword argument 'criteria_func'"
     ]
    }
   ],
   "source": [
    "Colony.ants(make_initialize=True,number_of_ants_first_gen=5,number_of_ants_next_gen=5,init_criteria=5,rate_decay=0.3,phero_rate_decay=0.2)"
   ]
  },
  {
   "cell_type": "code",
   "execution_count": 51,
   "metadata": {},
   "outputs": [
    {
     "name": "stdout",
     "output_type": "stream",
     "text": [
      "[0, 1, 2, 3, 4, 5, 6, 7, 8, 9, 10, 11, 12, 13, 14, 15, 16, 17, 18, 19, 20, 21, 22, 23, 24, 25, 26, 27, 28, 29, 30, 31, 32, 33, 34, 35]\n",
      "keys_with_max_value : [21]\n",
      "feat1_dist_prob : 0.010176304809302022\n",
      "[0, 1, 2, 3, 4, 5, 6, 7, 8, 9, 10, 11, 12, 13, 14, 15, 16, 17, 18, 19, 20, 21, 22, 23, 24, 25, 26, 27, 28, 29, 30, 31, 32, 33, 34]\n",
      "keys_with_max_value : [9]\n",
      "feat1_dist_prob : 0.00710357754890756\n",
      "[0, 1, 2, 3, 4, 5, 6, 7, 8, 9, 10, 11, 12, 13, 14, 15, 16, 17, 18, 19, 20, 21, 22, 23, 24, 25, 26, 27, 28, 29, 30, 31, 32, 33]\n",
      "keys_with_max_value : [33]\n",
      "feat1_dist_prob : 0.007101379414559333\n",
      "[15, 21, 9, 33]\n",
      "[0, 1, 2, 3, 4, 5, 6, 7, 8, 9, 10, 11, 12, 13, 14, 15, 16, 17, 18, 19, 20, 21, 22, 23, 24, 25, 26, 27, 28, 29, 30, 31, 32]\n",
      "keys_with_max_value : [33]\n",
      "feat1_dist_prob : 0.007101379414559333\n",
      "[0, 1, 2, 3, 4, 5, 6, 7, 8, 9, 10, 11, 12, 13, 14, 15, 16, 17, 18, 19, 20, 21, 22, 23, 24, 25, 26, 27, 28, 29, 30, 31]\n",
      "keys_with_max_value : [32]\n",
      "feat1_dist_prob : 0.004208224063542534\n",
      "[0, 1, 2, 3, 4, 5, 6, 7, 8, 9, 10, 11, 12, 13, 14, 15, 16, 17, 18, 19, 20, 21, 22, 23, 24, 25, 26, 27, 28, 29, 30]\n",
      "keys_with_max_value : [7]\n",
      "feat1_dist_prob : 0.004016667769287638\n",
      "[8, 33, 32, 7]\n",
      "[0, 1, 2, 3, 4, 5, 6, 7, 8, 9, 10, 11, 12, 13, 14, 15, 16, 17, 18, 19, 20, 21, 22, 23, 24, 25, 26, 27, 28, 29]\n",
      "keys_with_max_value : [7]\n",
      "feat1_dist_prob : 0.004016667769287638\n",
      "[0, 1, 2, 3, 4, 5, 6, 7, 8, 9, 10, 11, 12, 13, 14, 15, 16, 17, 18, 19, 20, 21, 22, 23, 24, 25, 26, 27, 28]\n",
      "keys_with_max_value : [36]\n",
      "feat1_dist_prob : 0.0031941196673904277\n",
      "[0, 1, 2, 3, 4, 5, 6, 7, 8, 9, 10, 11, 12, 13, 14, 15, 16, 17, 18, 19, 20, 21, 22, 23, 24, 25, 26, 27]\n",
      "keys_with_max_value : [29]\n",
      "feat1_dist_prob : 0.0028109388829424603\n",
      "[26, 7, 36, 29]\n",
      "[0, 1, 2, 3, 4, 5, 6, 7, 8, 9, 10, 11, 12, 13, 14, 15, 16, 17, 18, 19, 20, 21, 22, 23, 24, 25, 26]\n",
      "keys_with_max_value : [29]\n",
      "feat1_dist_prob : 0.0028109388829424603\n",
      "[0, 1, 2, 3, 4, 5, 6, 7, 8, 9, 10, 11, 12, 13, 14, 15, 16, 17, 18, 19, 20, 21, 22, 23, 24, 25]\n",
      "keys_with_max_value : [31]\n",
      "feat1_dist_prob : 0.0024755991887082675\n",
      "[0, 1, 2, 3, 4, 5, 6, 7, 8, 9, 10, 11, 12, 13, 14, 15, 16, 17, 18, 19, 20, 21, 22, 23, 24]\n",
      "keys_with_max_value : [16]\n",
      "feat1_dist_prob : 0.0024176981408798523\n",
      "[23, 29, 31, 16]\n",
      "[0, 1, 2, 3, 4, 5, 6, 7, 8, 9, 10, 11, 12, 13, 14, 15, 16, 17, 18, 19, 20, 21, 22, 23]\n",
      "keys_with_max_value : [16]\n",
      "feat1_dist_prob : 0.0024176981408798523\n",
      "[0, 1, 2, 3, 4, 5, 6, 7, 8, 9, 10, 11, 12, 13, 14, 15, 16, 17, 18, 19, 20, 21, 22]\n",
      "keys_with_max_value : [18]\n",
      "feat1_dist_prob : 0.0023599131064591296\n",
      "[0, 1, 2, 3, 4, 5, 6, 7, 8, 9, 10, 11, 12, 13, 14, 15, 16, 17, 18, 19, 20, 21]\n",
      "keys_with_max_value : [6]\n",
      "feat1_dist_prob : 0.0022439832552795247\n",
      "[20, 16, 18, 6]\n"
     ]
    }
   ],
   "source": [
    "Colony.initialize_colony(number_of_ants_first_generation=5,init_criteria=4)"
   ]
  },
  {
   "cell_type": "code",
   "execution_count": 44,
   "metadata": {},
   "outputs": [
    {
     "data": {
      "text/plain": [
       "{0: [10, 21, 9, 33],\n",
       " 1: [19, 33, 32, 7],\n",
       " 2: [17, 7, 15, 36],\n",
       " 3: [10, 36, 29, 31],\n",
       " 4: [28, 31, 16, 18]}"
      ]
     },
     "execution_count": 44,
     "metadata": {},
     "output_type": "execute_result"
    }
   ],
   "source": [
    "Colony.overall_ant_route"
   ]
  },
  {
   "cell_type": "code",
   "execution_count": 55,
   "metadata": {},
   "outputs": [
    {
     "name": "stdout",
     "output_type": "stream",
     "text": [
      "[0, 1, 2, 3, 4, 5, 6, 7, 8, 9, 10, 11, 12, 13, 14, 15, 16, 17, 18, 19, 20, 21, 22, 23, 24, 25, 26, 27, 28, 29, 30, 31, 32, 33, 34, 35]\n",
      "keys_with_max_value : [21]\n",
      "feat1_dist_prob : 0.010176304809302022\n",
      "stop with this criteria 0.9906916715335308\n",
      "ant0-[36, 21, 9, 33, 32, 7, 15, 29, 31, 16, 18, 6, 23, 14, 35, 1, 27, 22, 5, 0, 2, 3, 4, 8, 10, 11, 12, 13, 17, 19, 20, 24, 25, 26, 28, 30, 34, 21]-criteria0.9906916715335308\n",
      "[0, 1, 2, 3, 4, 5, 6, 7, 8, 9, 10, 11, 12, 13, 14, 15, 16, 17, 18, 19, 20, 21, 22, 23, 24, 25, 26, 27, 28, 29]\n",
      "keys_with_max_value : [21]\n",
      "feat1_dist_prob : 0.010176304809302022\n",
      "[23, 21]\n",
      "0.6660682226211849\n",
      "[0, 1, 2, 3, 4, 5, 6, 7, 8, 9, 10, 11, 12, 13, 14, 15, 16, 17, 18, 19, 20, 21, 22, 23, 24, 25, 26, 27, 28]\n",
      "keys_with_max_value : [9]\n",
      "feat1_dist_prob : 0.00710357754890756\n",
      "[23, 21, 9]\n",
      "0.8202937422941317\n",
      "[0, 1, 2, 3, 4, 5, 6, 7, 8, 9, 10, 11, 12, 13, 14, 15, 16, 17, 18, 19, 20, 21, 22, 23, 24, 25, 26, 27]\n",
      "keys_with_max_value : [33]\n",
      "feat1_dist_prob : 0.007101379414559333\n",
      "[23, 21, 9, 33]\n",
      "0.8249875624580909\n",
      "[0, 1, 2, 3, 4, 5, 6, 7, 8, 9, 10, 11, 12, 13, 14, 15, 16, 17, 18, 19, 20, 21, 22, 23, 24, 25, 26]\n",
      "keys_with_max_value : [32]\n",
      "feat1_dist_prob : 0.004208224063542534\n",
      "[23, 21, 9, 33, 32]\n",
      "0.8473517048445127\n",
      "[0, 1, 2, 3, 4, 5, 6, 7, 8, 9, 10, 11, 12, 13, 14, 15, 16, 17, 18, 19, 20, 21, 22, 23, 24, 25]\n",
      "keys_with_max_value : [7]\n",
      "feat1_dist_prob : 0.004016667769287638\n",
      "[23, 21, 9, 33, 32, 7]\n",
      "0.8929091590779635\n",
      "[0, 1, 2, 3, 4, 5, 6, 7, 8, 9, 10, 11, 12, 13, 14, 15, 16, 17, 18, 19, 20, 21, 22, 23, 24]\n",
      "keys_with_max_value : [29]\n",
      "feat1_dist_prob : 0.0028109388829424603\n",
      "[23, 21, 9, 33, 32, 7, 29]\n",
      "0.8929416048394656\n",
      "[0, 1, 2, 3, 4, 5, 6, 7, 8, 9, 10, 11, 12, 13, 14, 15, 16, 17, 18, 19, 20, 21, 22, 23]\n",
      "keys_with_max_value : [31]\n",
      "feat1_dist_prob : 0.0024755991887082675\n",
      "stop with this criteria 0.911828643118254\n",
      "ant1-[23, 21, 9, 33, 32, 7, 29, 31]-criteria0.911828643118254\n",
      "[0, 1, 2, 3, 4, 5, 6, 7, 8, 9, 10, 11, 12, 13, 14, 15, 16, 17, 18, 19, 20, 21, 22, 23]\n",
      "keys_with_max_value : [31]\n",
      "feat1_dist_prob : 0.0024755991887082675\n",
      "[34, 31]\n",
      "0.5\n",
      "[0, 1, 2, 3, 4, 5, 6, 7, 8, 9, 10, 11, 12, 13, 14, 15, 16, 17, 18, 19, 20, 21, 22]\n",
      "keys_with_max_value : [16]\n",
      "feat1_dist_prob : 0.0024176981408798523\n",
      "[34, 31, 16]\n",
      "0.5370782952275889\n",
      "[0, 1, 2, 3, 4, 5, 6, 7, 8, 9, 10, 11, 12, 13, 14, 15, 16, 17, 18, 19, 20, 21]\n",
      "keys_with_max_value : [18]\n",
      "feat1_dist_prob : 0.0023599131064591296\n",
      "[34, 31, 16, 18]\n",
      "0.5382589604378014\n",
      "[0, 1, 2, 3, 4, 5, 6, 7, 8, 9, 10, 11, 12, 13, 14, 15, 16, 17, 18, 19, 20]\n",
      "keys_with_max_value : [6]\n",
      "feat1_dist_prob : 0.0022439832552795247\n",
      "[34, 31, 16, 18, 6]\n",
      "0.5700990677251195\n",
      "[0, 1, 2, 3, 4, 5, 6, 7, 8, 9, 10, 11, 12, 13, 14, 15, 16, 17, 18, 19]\n",
      "keys_with_max_value : [14]\n",
      "feat1_dist_prob : 0.0019918557764496293\n",
      "[34, 31, 16, 18, 6, 14]\n",
      "0.6006161089600772\n",
      "[0, 1, 2, 3, 4, 5, 6, 7, 8, 9, 10, 11, 12, 13, 14, 15, 16, 17, 18]\n",
      "keys_with_max_value : [35]\n",
      "feat1_dist_prob : 0.0014632796494194094\n",
      "[34, 31, 16, 18, 6, 14, 35]\n",
      "0.6621422854794402\n",
      "[0, 1, 2, 3, 4, 5, 6, 7, 8, 9, 10, 11, 12, 13, 14, 15, 16, 17]\n",
      "keys_with_max_value : [1]\n",
      "feat1_dist_prob : 0.001401455262310136\n",
      "[34, 31, 16, 18, 6, 14, 35, 1]\n",
      "0.6738516002970589\n",
      "[0, 1, 2, 3, 4, 5, 6, 7, 8, 9, 10, 11, 12, 13, 14, 15, 16]\n",
      "keys_with_max_value : [27]\n",
      "feat1_dist_prob : 0.001084775290018463\n",
      "[34, 31, 16, 18, 6, 14, 35, 1, 27]\n",
      "0.7157913521230344\n",
      "[0, 1, 2, 3, 4, 5, 6, 7, 8, 9, 10, 11, 12, 13, 14, 15]\n",
      "keys_with_max_value : [22]\n",
      "feat1_dist_prob : 0.0009847219318264294\n",
      "[34, 31, 16, 18, 6, 14, 35, 1, 27, 22]\n",
      "0.7362610225461992\n",
      "[0, 1, 2, 3, 4, 5, 6, 7, 8, 9, 10, 11, 12, 13, 14]\n",
      "keys_with_max_value : [5]\n",
      "feat1_dist_prob : 0.0006572908954166817\n",
      "[34, 31, 16, 18, 6, 14, 35, 1, 27, 22, 5]\n",
      "0.7899353247820727\n",
      "[0, 1, 2, 3, 4, 5, 6, 7, 8, 9, 10, 11, 12, 13]\n",
      "keys_with_max_value : [0, 2, 3, 4, 10, 11, 12, 13, 17, 19, 24, 25, 28, 30]\n",
      "feat1_dist_prob : 0.0\n",
      "[34, 31, 16, 18, 6, 14, 35, 1, 27, 22, 5, 0]\n",
      "0.8099723850518773\n",
      "[0, 1, 2, 3, 4, 5, 6, 7, 8, 9, 10, 11, 12]\n",
      "keys_with_max_value : [2, 3, 4, 10, 11, 12, 13, 17, 19, 24, 25, 28, 30]\n",
      "feat1_dist_prob : 0.0\n",
      "[34, 31, 16, 18, 6, 14, 35, 1, 27, 22, 5, 0, 2]\n",
      "0.8115550171962537\n",
      "[0, 1, 2, 3, 4, 5, 6, 7, 8, 9, 10, 11]\n",
      "keys_with_max_value : [3, 4, 10, 11, 12, 13, 17, 19, 24, 25, 28, 30]\n",
      "feat1_dist_prob : 0.0\n",
      "[34, 31, 16, 18, 6, 14, 35, 1, 27, 22, 5, 0, 2, 3]\n",
      "0.8028992090444362\n",
      "[0, 1, 2, 3, 4, 5, 6, 7, 8, 9, 10]\n",
      "keys_with_max_value : [4, 10, 11, 12, 13, 17, 19, 24, 25, 28, 30]\n",
      "feat1_dist_prob : 0.0\n",
      "[34, 31, 16, 18, 6, 14, 35, 1, 27, 22, 5, 0, 2, 3, 4]\n",
      "0.805842760629592\n",
      "[0, 1, 2, 3, 4, 5, 6, 7, 8, 9]\n",
      "keys_with_max_value : [10, 11, 12, 13, 17, 19, 24, 25, 28, 30]\n",
      "feat1_dist_prob : 0.0\n",
      "[34, 31, 16, 18, 6, 14, 35, 1, 27, 22, 5, 0, 2, 3, 4, 10]\n",
      "0.822235080357336\n",
      "[0, 1, 2, 3, 4, 5, 6, 7, 8]\n",
      "keys_with_max_value : [11, 12, 13, 17, 19, 24, 25, 28, 30]\n",
      "feat1_dist_prob : 0.0\n",
      "[34, 31, 16, 18, 6, 14, 35, 1, 27, 22, 5, 0, 2, 3, 4, 10, 11]\n",
      "0.8130547323945694\n",
      "[0, 1, 2, 3, 4, 5, 6, 7]\n",
      "keys_with_max_value : [12, 13, 17, 19, 24, 25, 28, 30]\n",
      "feat1_dist_prob : 0.0\n",
      "[34, 31, 16, 18, 6, 14, 35, 1, 27, 22, 5, 0, 2, 3, 4, 10, 11, 12]\n",
      "0.8097957359059217\n",
      "[0, 1, 2, 3, 4, 5, 6]\n",
      "keys_with_max_value : [13, 17, 19, 24, 25, 28, 30]\n",
      "feat1_dist_prob : 0.0\n",
      "[34, 31, 16, 18, 6, 14, 35, 1, 27, 22, 5, 0, 2, 3, 4, 10, 11, 12, 13]\n",
      "0.8109998341661079\n",
      "[0, 1, 2, 3, 4, 5]\n",
      "keys_with_max_value : [17, 19, 24, 25, 28, 30]\n",
      "feat1_dist_prob : 0.0\n",
      "[34, 31, 16, 18, 6, 14, 35, 1, 27, 22, 5, 0, 2, 3, 4, 10, 11, 12, 13, 17]\n",
      "0.8090548910182922\n",
      "[0, 1, 2, 3, 4]\n",
      "keys_with_max_value : [19, 24, 25, 28, 30]\n",
      "feat1_dist_prob : 0.0\n",
      "[34, 31, 16, 18, 6, 14, 35, 1, 27, 22, 5, 0, 2, 3, 4, 10, 11, 12, 13, 17, 19]\n",
      "0.8092513681296101\n",
      "[0, 1, 2, 3]\n",
      "keys_with_max_value : [24, 25, 28, 30]\n",
      "feat1_dist_prob : 0.0\n",
      "[34, 31, 16, 18, 6, 14, 35, 1, 27, 22, 5, 0, 2, 3, 4, 10, 11, 12, 13, 17, 19, 24]\n",
      "0.8033696725862156\n",
      "[0, 1, 2]\n",
      "keys_with_max_value : [25, 28, 30]\n",
      "feat1_dist_prob : 0.0\n",
      "[34, 31, 16, 18, 6, 14, 35, 1, 27, 22, 5, 0, 2, 3, 4, 10, 11, 12, 13, 17, 19, 24, 25]\n",
      "0.8028721709098512\n",
      "[0, 1]\n",
      "keys_with_max_value : [28, 30]\n",
      "feat1_dist_prob : 0.0\n",
      "[34, 31, 16, 18, 6, 14, 35, 1, 27, 22, 5, 0, 2, 3, 4, 10, 11, 12, 13, 17, 19, 24, 25, 28]\n",
      "0.8028289098945152\n",
      "[0]\n",
      "keys_with_max_value : [30]\n",
      "feat1_dist_prob : 0.0\n",
      "[34, 31, 16, 18, 6, 14, 35, 1, 27, 22, 5, 0, 2, 3, 4, 10, 11, 12, 13, 17, 19, 24, 25, 28, 30]\n",
      "0.8027730310830395\n",
      "[]\n",
      "keys_with_max_value : []\n"
     ]
    },
    {
     "ename": "ValueError",
     "evalue": "max() arg is an empty sequence",
     "output_type": "error",
     "traceback": [
      "\u001b[0;31m---------------------------------------------------------------------------\u001b[0m",
      "\u001b[0;31mValueError\u001b[0m                                Traceback (most recent call last)",
      "Cell \u001b[0;32mIn[55], line 1\u001b[0m\n\u001b[0;32m----> 1\u001b[0m Colony\u001b[39m.\u001b[39;49mgenerate_next_ants(number_of_ants_next_generation\u001b[39m=\u001b[39;49m\u001b[39m5\u001b[39;49m,rate_decay\u001b[39m=\u001b[39;49m\u001b[39m0.1\u001b[39;49m,phero_rate_decay\u001b[39m=\u001b[39;49m\u001b[39m0.3\u001b[39;49m,THRESHOLD\u001b[39m=\u001b[39;49m[\u001b[39m0.9\u001b[39;49m,\u001b[39m'\u001b[39;49m\u001b[39maccuracy\u001b[39;49m\u001b[39m'\u001b[39;49m])\n",
      "Cell \u001b[0;32mIn[50], line 376\u001b[0m, in \u001b[0;36mColony.generate_next_ants\u001b[0;34m(cls, number_of_ants_next_generation, rate_decay, phero_rate_decay, THRESHOLD)\u001b[0m\n\u001b[1;32m    373\u001b[0m i \u001b[39m=\u001b[39m \u001b[39m0\u001b[39m\n\u001b[1;32m    374\u001b[0m \u001b[39mwhile\u001b[39;00m \u001b[39mTrue\u001b[39;00m:\n\u001b[0;32m--> 376\u001b[0m     \u001b[39mcls\u001b[39;49m\u001b[39m.\u001b[39;49mant()\n\u001b[1;32m    377\u001b[0m     \u001b[39mif\u001b[39;00m THRESHOLD[\u001b[39m1\u001b[39m] \u001b[39m==\u001b[39m \u001b[39m'\u001b[39m\u001b[39maccuracy\u001b[39m\u001b[39m'\u001b[39m:\n\u001b[1;32m    378\u001b[0m         is_criteria_met, criteria \u001b[39m=\u001b[39m \u001b[39mcls\u001b[39m\u001b[39m.\u001b[39mis_rough_set_criteria_met(\u001b[39mcls\u001b[39m\u001b[39m.\u001b[39mant_route ,THRESHOLD[\u001b[39m0\u001b[39m])\n",
      "Cell \u001b[0;32mIn[50], line 150\u001b[0m, in \u001b[0;36mColony.ant\u001b[0;34m(cls)\u001b[0m\n\u001b[1;32m    148\u001b[0m \u001b[39mprint\u001b[39m(\u001b[39mf\u001b[39m\u001b[39m'\u001b[39m\u001b[39m{\u001b[39;00m[\u001b[39mcls\u001b[39m\u001b[39m.\u001b[39mfg\u001b[39m.\u001b[39mindex(value)\u001b[39m \u001b[39m\u001b[39mfor\u001b[39;00m\u001b[39m \u001b[39mvalue\u001b[39m \u001b[39m\u001b[39min\u001b[39;00m\u001b[39m \u001b[39m\u001b[39mcls\u001b[39m\u001b[39m.\u001b[39mfg]\u001b[39m}\u001b[39;00m\u001b[39m'\u001b[39m)\n\u001b[1;32m    149\u001b[0m \u001b[39mprint\u001b[39m(\u001b[39mf\u001b[39m\u001b[39m'\u001b[39m\u001b[39mkeys_with_max_value : \u001b[39m\u001b[39m{\u001b[39;00mkeys_with_max_value\u001b[39m}\u001b[39;00m\u001b[39m'\u001b[39m)\n\u001b[0;32m--> 150\u001b[0m \u001b[39mprint\u001b[39m(\u001b[39mf\u001b[39m\u001b[39m'\u001b[39m\u001b[39mfeat1_dist_prob : \u001b[39m\u001b[39m{\u001b[39;00m\u001b[39mmax\u001b[39;49m(feat1_dist_prob\u001b[39m.\u001b[39;49mvalues())\u001b[39m}\u001b[39;00m\u001b[39m'\u001b[39m)\n\u001b[1;32m    151\u001b[0m \u001b[39mif\u001b[39;00m keys_with_max_value:\n\u001b[1;32m    152\u001b[0m     ant_next_target_index \u001b[39m=\u001b[39m keys_with_max_value[\u001b[39m0\u001b[39m]\n",
      "\u001b[0;31mValueError\u001b[0m: max() arg is an empty sequence"
     ]
    }
   ],
   "source": [
    "Colony.generate_next_ants(number_of_ants_next_generation=5,rate_decay=0.1,phero_rate_decay=0.3,THRESHOLD=[0.9,'accuracy'])"
   ]
  },
  {
   "cell_type": "code",
   "execution_count": 57,
   "metadata": {},
   "outputs": [
    {
     "data": {
      "text/plain": [
       "{0: [15, 21, 9, 33],\n",
       " 1: [8, 33, 32, 7],\n",
       " 2: [26, 7, 36, 29],\n",
       " 3: [23, 29, 31, 16],\n",
       " 4: [20, 16, 18, 6],\n",
       " 'landa': 0.5006788444880256,\n",
       " 'acc': 0.911828643118254,\n",
       " 'generated_ant_num : 0': [36,\n",
       "  21,\n",
       "  9,\n",
       "  33,\n",
       "  32,\n",
       "  7,\n",
       "  15,\n",
       "  29,\n",
       "  31,\n",
       "  16,\n",
       "  18,\n",
       "  6,\n",
       "  23,\n",
       "  14,\n",
       "  35,\n",
       "  1,\n",
       "  27,\n",
       "  22,\n",
       "  5,\n",
       "  0,\n",
       "  2,\n",
       "  3,\n",
       "  4,\n",
       "  8,\n",
       "  10,\n",
       "  11,\n",
       "  12,\n",
       "  13,\n",
       "  17,\n",
       "  19,\n",
       "  20,\n",
       "  24,\n",
       "  25,\n",
       "  26,\n",
       "  28,\n",
       "  30,\n",
       "  34,\n",
       "  21],\n",
       " 'accuracycriteria 0:': 0.9906916715335308,\n",
       " 'generated_ant_num : 1': [23, 21, 9, 33, 32, 7, 29, 31],\n",
       " 'accuracycriteria 1:': 0.911828643118254}"
      ]
     },
     "execution_count": 57,
     "metadata": {},
     "output_type": "execute_result"
    }
   ],
   "source": [
    "Colony.log"
   ]
  },
  {
   "cell_type": "code",
   "execution_count": 6,
   "metadata": {},
   "outputs": [],
   "source": [
    "from __future__ import annotations\n",
    "\n",
    "from typing import Callable\n",
    "\n",
    "import numpy as np\n",
    "\n",
    "from frlearn.base import DataDescriptor, FeatureSelector, ClassSupervised\n",
    "from frlearn.statistics.feature_preprocessors import Standardiser\n",
    "from frlearn.array_functions import soft_min\n",
    "from frlearn.t_norms import lukasiewicz_t_norm\n",
    "from frlearn.uncategorised.quantifiers import QuadraticSigmoid\n",
    "from frlearn.weights import QuantifierWeights\n",
    "from frlearn.base import MultiClassClassifier\n",
    "fr = MultiClassClassifier"
   ]
  },
  {
   "cell_type": "code",
   "execution_count": 8,
   "metadata": {},
   "outputs": [],
   "source": [
    "index = [\"bkblk\",\"bknwy\",\"bkon8\",\"bkona\",\"bkspr\",\"bkxbq\",\"bkxcr\",\"bkxwp\",\"blxwp\",\"bxqsq\",\"cntxt\",\"dsopp\",\"dwipd\",\n",
    " \"hdchk\",\"katri\",\"mulch\",\"qxmsq\",\"r2ar8\",\"reskd\",\"reskr\",\"rimmx\",\"rkxwp\",\"rxmsq\",\"simpl\",\"skach\",\"skewr\",\n",
    " \"skrxp\",\"spcop\",\"stlmt\",\"thrsk\",\"wkcti\",\"wkna8\",\"wknck\",\"wkovl\",\"wkpos\",\"wtoeg\",\"win\"]\n",
    "\n",
    "\n",
    "data = pd.read_csv('/home/hamid/hamash_amir/research/rough_set/kr-vs-kp_csv.csv')\n",
    "data.rename(columns = {'class':\"win\"}, inplace=True)\n",
    "\n",
    "ns = pd.get_dummies(data[data.columns[:-1]], prefix=data.columns[:-1],drop_first=True, dtype=int)\n",
    "\n",
    "ns_y = data['win'].copy()\n",
    "Y = pd.get_dummies(ns_y,prefix='win',drop_first=True, dtype=int)"
   ]
  },
  {
   "cell_type": "code",
   "execution_count": 36,
   "metadata": {},
   "outputs": [],
   "source": [
    "# X = ns.values\n",
    "# y = Y.values.squeeze()\n",
    "# # Calculate the fuzzy similarity relation\n",
    "# R_a = np.minimum(np.maximum(1 - np.abs(X[:, None, :] - X), 0), y[:, None, None] != y[:, None])\n",
    "\n",
    "# # Define a threshold for the lower approximation\n",
    "# threshold = 0.8\n",
    "\n",
    "# # Calculate the lower approximations for each decision class\n",
    "# lower_approximations = []\n",
    "# for class_label in np.unique(y):\n",
    "#     # Calculate the lower approximation for this class\n",
    "#     lower_approximation = np.all(R_a[y == class_label] >= threshold, axis=0)\n",
    "#     lower_approximations.append(lower_approximation)\n",
    "\n",
    "# # Calculate the POS as the union of the lower approximations\n",
    "# POS = np.any(lower_approximations, axis=0)\n",
    "\n",
    "# # Calculate the size of the POS\n",
    "# pos_size = np.sum(POS)\n",
    "# landa = pos_size/ns.shape[0]"
   ]
  },
  {
   "cell_type": "code",
   "execution_count": 12,
   "metadata": {},
   "outputs": [
    {
     "data": {
      "text/plain": [
       "{'l': 5}"
      ]
     },
     "execution_count": 12,
     "metadata": {},
     "output_type": "execute_result"
    }
   ],
   "source": [
    "pp = {'l':5}\n",
    "pp"
   ]
  },
  {
   "cell_type": "code",
   "execution_count": 13,
   "metadata": {},
   "outputs": [
    {
     "data": {
      "text/plain": [
       "{}"
      ]
     },
     "execution_count": 13,
     "metadata": {},
     "output_type": "execute_result"
    }
   ],
   "source": [
    "pp = {}\n",
    "pp"
   ]
  },
  {
   "cell_type": "code",
   "execution_count": 39,
   "metadata": {},
   "outputs": [
    {
     "data": {
      "text/plain": [
       "(3196, 3196, 37)"
      ]
     },
     "execution_count": 39,
     "metadata": {},
     "output_type": "execute_result"
    }
   ],
   "source": [
    "R_a.shape"
   ]
  },
  {
   "cell_type": "code",
   "execution_count": 46,
   "metadata": {},
   "outputs": [
    {
     "data": {
      "text/plain": [
       "5603"
      ]
     },
     "execution_count": 46,
     "metadata": {},
     "output_type": "execute_result"
    }
   ],
   "source": [
    "pos_size"
   ]
  },
  {
   "cell_type": "code",
   "execution_count": 40,
   "metadata": {},
   "outputs": [
    {
     "data": {
      "text/plain": [
       "1.7531289111389237"
      ]
     },
     "execution_count": 40,
     "metadata": {},
     "output_type": "execute_result"
    }
   ],
   "source": [
    "landa = pos_size/ns.shape[0]\n",
    "landa"
   ]
  },
  {
   "cell_type": "code",
   "execution_count": 5,
   "metadata": {},
   "outputs": [],
   "source": [
    "X = ns.values\n",
    "y = Y.values.squeeze()\n",
    "max = np.maximum(1 - np.abs(X[:, None, :] - X), 0)"
   ]
  },
  {
   "cell_type": "code",
   "execution_count": 6,
   "metadata": {},
   "outputs": [
    {
     "data": {
      "text/plain": [
       "(3196, 3196, 37)"
      ]
     },
     "execution_count": 6,
     "metadata": {},
     "output_type": "execute_result"
    }
   ],
   "source": [
    "max.shape"
   ]
  },
  {
   "cell_type": "code",
   "execution_count": 7,
   "metadata": {},
   "outputs": [
    {
     "data": {
      "text/plain": [
       "(3196, 3196, 1)"
      ]
     },
     "execution_count": 7,
     "metadata": {},
     "output_type": "execute_result"
    }
   ],
   "source": [
    "r = y[:, None, None] != y[:, None]\n",
    "r.shape"
   ]
  },
  {
   "cell_type": "code",
   "execution_count": 15,
   "metadata": {},
   "outputs": [
    {
     "data": {
      "text/plain": [
       "(3196, 3196)"
      ]
     },
     "execution_count": 15,
     "metadata": {},
     "output_type": "execute_result"
    }
   ],
   "source": [
    "R.shape"
   ]
  },
  {
   "cell_type": "code",
   "execution_count": 19,
   "metadata": {},
   "outputs": [
    {
     "data": {
      "text/plain": [
       "0"
      ]
     },
     "execution_count": 19,
     "metadata": {},
     "output_type": "execute_result"
    }
   ],
   "source": [
    "X = ns.values\n",
    "y = Y.values.squeeze()\n",
    "co_Cs = [X[np.where(y != c)] for c in [0,1]]"
   ]
  },
  {
   "cell_type": "code",
   "execution_count": 94,
   "metadata": {},
   "outputs": [
    {
     "name": "stdout",
     "output_type": "stream",
     "text": [
      "0.8938136061816946\n"
     ]
    }
   ],
   "source": [
    "import numpy as np\n",
    "# def is_landa_met(cls) -> bool:\n",
    "# Assume X is your dataset with shape (n_samples, n_features)\n",
    "# and y is the corresponding target labels\n",
    "\n",
    "# Calculate the fuzzy similarity relation\n",
    "R_a = np.minimum(np.maximum(1 - np.abs(X[:, None, :] - X), 0), y[:, None, None] != y[:, None])\n",
    "\n",
    "# Define a threshold for the lower approximation\n",
    "sim_threshold = 0.2\n",
    "\n",
    "# Calculate the differences between pairs of instances\n",
    "differences = []\n",
    "all = []\n",
    "for i in range(len(X)):\n",
    "    for j in range(i+1, len(X)):\n",
    "        difference = np.count_nonzero(R_a[i, j])\n",
    "        similarity_percent = 1 - (difference/X.shape[1])\n",
    "        if similarity_percent > sim_threshold and i != j:\n",
    "            differences.append(difference)\n",
    "        all.append(difference)\n",
    "\n",
    "# Calculate the average difference\n",
    "criteria = len(differences) / ((X.shape[0]**2)/2)\n",
    "\n",
    "print(criteria)\n"
   ]
  },
  {
   "cell_type": "code",
   "execution_count": 77,
   "metadata": {},
   "outputs": [
    {
     "data": {
      "image/png": "[encoded data removed]",
      "text/plain": [
       "<Figure size 640x480 with 1 Axes>"
      ]
     },
     "metadata": {},
     "output_type": "display_data"
    }
   ],
   "source": [
    "import matplotlib.pyplot as plt\n",
    "\n",
    "# Example list of data\n",
    "data = differences\n",
    "\n",
    "# Plotting the histogram\n",
    "plt.hist(data, bins=37)  # Adjust the number of bins as needed\n",
    "plt.xlabel('Values')\n",
    "plt.ylabel('Frequency')\n",
    "plt.title('Distribution of Data')\n",
    "plt.show()"
   ]
  },
  {
   "cell_type": "code",
   "execution_count": 91,
   "metadata": {},
   "outputs": [
    {
     "data": {
      "text/plain": [
       "0.5006741452472662"
      ]
     },
     "execution_count": 91,
     "metadata": {},
     "output_type": "execute_result"
    }
   ],
   "source": [
    "len(differences)/((3196*3196)/2)"
   ]
  },
  {
   "cell_type": "code",
   "execution_count": 92,
   "metadata": {},
   "outputs": [
    {
     "data": {
      "text/plain": [
       "0.5006741452472662"
      ]
     },
     "execution_count": 92,
     "metadata": {},
     "output_type": "execute_result"
    }
   ],
   "source": [
    "len(differences) / ((X.shape[0]**2)/2)"
   ]
  },
  {
   "cell_type": "code",
   "execution_count": 90,
   "metadata": {},
   "outputs": [
    {
     "data": {
      "text/plain": [
       "5105610"
      ]
     },
     "execution_count": 90,
     "metadata": {},
     "output_type": "execute_result"
    }
   ],
   "source": [
    "len(all)"
   ]
  },
  {
   "cell_type": "code",
   "execution_count": 88,
   "metadata": {},
   "outputs": [
    {
     "data": {
      "text/plain": [
       "5107208.0"
      ]
     },
     "execution_count": 88,
     "metadata": {},
     "output_type": "execute_result"
    }
   ],
   "source": [
    "(3196*3196)/2"
   ]
  },
  {
   "cell_type": "code",
   "execution_count": 27,
   "metadata": {},
   "outputs": [],
   "source": [
    "Colon.make_change()"
   ]
  },
  {
   "cell_type": "code",
   "execution_count": 28,
   "metadata": {},
   "outputs": [
    {
     "data": {
      "text/plain": [
       "5"
      ]
     },
     "execution_count": 28,
     "metadata": {},
     "output_type": "execute_result"
    }
   ],
   "source": [
    "Colon.pherom"
   ]
  },
  {
   "cell_type": "code",
   "execution_count": 29,
   "metadata": {},
   "outputs": [
    {
     "data": {
      "text/plain": [
       "10"
      ]
     },
     "execution_count": 29,
     "metadata": {},
     "output_type": "execute_result"
    }
   ],
   "source": [
    "ant = Ant()\n",
    "ant.multiple()\n",
    "Colon.pherom"
   ]
  }
 ],
 "metadata": {
  "kernelspec": {
   "display_name": ".venv",
   "language": "python",
   "name": "python3"
  },
  "language_info": {
   "codemirror_mode": {
    "name": "ipython",
    "version": 3
   },
   "file_extension": ".py",
   "mimetype": "text/x-python",
   "name": "python",
   "nbconvert_exporter": "python",
   "pygments_lexer": "ipython3",
   "version": "3.10.10"
  },
  "orig_nbformat": 4
 },
 "nbformat": 4,
 "nbformat_minor": 2
}
