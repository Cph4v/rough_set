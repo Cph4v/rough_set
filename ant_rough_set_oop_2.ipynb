{
 "cells": [
  {
   "cell_type": "code",
   "execution_count": 126,
   "metadata": {},
   "outputs": [],
   "source": [
    "import pandas as pd\n",
    "import numpy as np\n",
    "from sklearn.feature_selection import mutual_info_classif\n",
    "from pathlib import Path\n",
    "from frlearn.classifiers import FRNN\n",
    "from sklearn.model_selection import train_test_split\n",
    "from frlearn.base import probabilities_from_scores\n",
    "from sklearn.metrics import roc_auc_score\n",
    "import tqdm,time\n",
    "from tqdm import tqdm\n",
    "\n",
    "\n",
    "index = [\"bkblk\",\"bknwy\",\"bkon8\",\"bkona\",\"bkspr\",\"bkxbq\",\"bkxcr\",\"bkxwp\",\"blxwp\",\"bxqsq\",\"cntxt\",\"dsopp\",\"dwipd\",\n",
    " \"hdchk\",\"katri\",\"mulch\",\"qxmsq\",\"r2ar8\",\"reskd\",\"reskr\",\"rimmx\",\"rkxwp\",\"rxmsq\",\"simpl\",\"skach\",\"skewr\",\n",
    " \"skrxp\",\"spcop\",\"stlmt\",\"thrsk\",\"wkcti\",\"wkna8\",\"wknck\",\"wkovl\",\"wkpos\",\"wtoeg\",\"win\"]\n",
    "\n",
    "\n",
    "data = pd.read_csv('/home/hamid/hamash_amir/research/rough_set/kr-vs-kp_csv.csv')\n",
    "data.rename(columns = {'class':\"win\"}, inplace=True)\n",
    "\n",
    "ns = pd.get_dummies(data[data.columns[:-1]], prefix=data.columns[:-1],drop_first=True, dtype=int)\n",
    "\n",
    "ns_y = data['win'].copy()\n",
    "Y = pd.get_dummies(ns_y,prefix='win',drop_first=True, dtype=int)\n",
    "\n",
    "\n",
    "class Colony:\n",
    "    \n",
    "\n",
    "\n",
    "    dataframe: object = ns\n",
    "    pheromone = np.ones((ns.shape[1], ns.shape[1]))\n",
    "    traversed_nodes = np.zeros((ns.shape[1],ns.shape[1]))\n",
    "    ant_route: list[int] = []\n",
    "    alpha: int = 0\n",
    "    beta: int = 0\n",
    "    feature_choices: list[str] = dataframe.columns.tolist()\n",
    "    feature1: str\n",
    "    log: list[str] = []\n",
    "    fg: list[str] = feature_choices.copy()\n",
    "    acc_criteria: float\n",
    "    rho: int | float\n",
    "    delta = np.zeros((ns.shape[0],ns.shape[1]))\n",
    "    colony_number: int = 0\n",
    "    overall_ant_route: dict = {}\n",
    "    \n",
    "    # def __init__(self):\n",
    "    #     self.ant_route = ant_route\n",
    "    #     self.feature1 = feature1\n",
    "    #     self.fg = fg\n",
    "    \n",
    "    \n",
    "    @classmethod\n",
    "    def set_stopping_criteria(cls, criteria):\n",
    "        cls.acc_criteria = criteria\n",
    "    \n",
    "    @classmethod\n",
    "    def set_rate_decay(cls, rate_decay):\n",
    "        cls.rho = rate_decay\n",
    "    \n",
    "    @classmethod\n",
    "    def add_generation(cls):\n",
    "        cls.colony_number += 1\n",
    "\n",
    "    \n",
    "    @classmethod\n",
    "    def get_log(cls):\n",
    "        print(cls.log)\n",
    "    \n",
    "    @classmethod\n",
    "    def reset_colony(cls):\n",
    "        \n",
    "        Colony.pheromone = np.ones((ns.shape[1], ns.shape[1]))\n",
    "        Colony.traversed_nodes = np.zeros((ns.shape[1], ns.shape[1]))\n",
    "\n",
    "        Colony.overall_ant_route.clear()\n",
    "        Colony.log = []\n",
    "        Colony.fg = cls.feature_choices.copy()\n",
    "        \n",
    "    @classmethod\n",
    "    def initialization_alpha_beta(cls, alpha, beta):\n",
    "        \n",
    "        cls.alpha = alpha\n",
    "        cls.beta = beta\n",
    "\n",
    "    @classmethod\n",
    "    def reset_ant_route(cls):\n",
    "        cls.ant_route = []\n",
    "\n",
    "    @classmethod\n",
    "    def initialize_feature1(cls):\n",
    "        ant_route = cls.ant_route\n",
    "        if not ant_route:\n",
    "            cls.feature1 = np.random.choice(cls.feature_choices)\n",
    "        else:\n",
    "            cls.feature1 = cls.feature_choices[cls.ant_route[-1]]\n",
    "    \n",
    "    \n",
    "    @classmethod\n",
    "    def ant(cls):\n",
    "\n",
    "        cls.initialization_alpha_beta(0.5, 0.5)\n",
    "        cls.initialize_feature1()\n",
    "        feature1 = cls.feature1\n",
    "        features = cls.dataframe.columns.tolist()\n",
    "        if any(feature1 in x for x in cls.fg):\n",
    "            cls.fg.remove(feature1)\n",
    "        i = features.index(feature1)\n",
    "        if i not in cls.ant_route:\n",
    "            cls.ant_route.append(i)\n",
    "\n",
    "        feat1_dist_prob = {}\n",
    "        for feature2 in cls.fg:\n",
    "           \n",
    "            pij = cls.__probability_transition_rule(cls.feature1, feature2)\n",
    "      \n",
    "            j = features.index(feature2)\n",
    "            feat1_dist_prob[j] = pij\n",
    "\n",
    "        \n",
    "            cls.log.append(f'{features.index(cls.feature1)}' \n",
    "                           f'--{features.index(feature2)}--{float(pij)}')\n",
    "\n",
    "    \n",
    "        ant_next_target_index = [key for key, value in feat1_dist_prob.items()\\\n",
    "            if value == max(feat1_dist_prob.values())][0]\n",
    "        cls.traversed_nodes[i,ant_next_target_index] = 1\n",
    "        # mitting criterion\n",
    "        cls.ant_route.append(ant_next_target_index)\n",
    "        fg_index = [key for key,value in feat1_dist_prob.items()]\n",
    "\n",
    "    \n",
    "    @classmethod\n",
    "    def ants(\n",
    "        cls, make_initialize: bool | None=None,\n",
    "            number_of_ants_first_gen: int | None=None,\n",
    "            number_of_ants_next_gen: int | None=None, \n",
    "            init_criteria: int | str | None=None,\n",
    "            rate_decay: float | None=None, \n",
    "            phero_rate_decay: float | None=None):\n",
    "\n",
    "        if cls.colony_number == 0 or make_initialize == True:\n",
    "            cls.initialize_colony(\n",
    "                number_of_ants_first_generation=number_of_ants_first_gen,\n",
    "                                init_criteria=init_criteria)\n",
    "            cls.generate_next_ants(\n",
    "                number_of_ants_next_generation=number_of_ants_next_gen,\n",
    "                rate_decay=rate_decay, phero_rate_decay=phero_rate_decay,\n",
    "                criteria_func=cls.is_rough_set_criteria_met)\n",
    "            \n",
    "\n",
    "        \n",
    "    @classmethod\n",
    "    def change_pheromone(cls, q, rho):\n",
    "        \"\"\"\n",
    "        After each generation of several ants or after each generation \n",
    "        it update pheromone matrix according to following formula:\n",
    "         \n",
    "        phromone[i,j](t+1) = (1-rho)*phromone[i,j](t) + Delta(ij)(t)\n",
    "        \n",
    "        rho is pheromone decay coefficient along time\n",
    "        \n",
    "        Delta(ij)(t) = |_| = Delta(ij)(t) = \n",
    "                       |_|   q/sigma(landa_prime(ant_route)/len(ant_route)) ,if traversed_node[i,j] = 1\n",
    "                       |_| = 0                                            ,if traversed_node[i,j] = 0\n",
    "        \n",
    "        landa_prime is rough_set_measure           \n",
    "        \"\"\"\n",
    "        cls.set_rate_decay = rho\n",
    "        minimum_ant_route_len = np.min([len(x) for x in cls.overall_ant_route.values])\n",
    "        for i in range(cls.delta.shape[0]):\n",
    "            for j in range(cls.delta.shape[0]):\n",
    "                if cls.traversed_nodes[i,j] == 1:\n",
    "                    cls.delta[i,j] = q/minimum_ant_route_len\n",
    "                    cls.pheromone[i,j] = (1 - cls.rho)*cls.pheromone[i,j] + cls.delta[i,j]\n",
    "                elif cls.traversed_nodes[i,j] == 0:\n",
    "                    cls.delta[i,j] = 0\n",
    "                    cls.pheromone[i,j] = (1 - cls.rho)*cls.pheromone[i,j] + cls.delta[i,j]\n",
    "        \n",
    "\n",
    "    @classmethod\n",
    "    def positive_region(cls):\n",
    "        # assuming df is your DataFrame\n",
    "        # assuming the last column is the decision column\n",
    "        # partition dataframe based on decision classes\n",
    "        df = cls.dataframe\n",
    "        partitions = [group for _, group in df.groupby(df.iloc[:,-1])]\n",
    "    \n",
    "        # find positive region for each partition\n",
    "        positive_regions = [group[group.duplicated(df.columns[:-1], keep=False)] for group in partitions]\n",
    "    \n",
    "        # return union of all positive regions\n",
    "        return pd.concat(positive_regions)\n",
    "\n",
    "\n",
    "    \n",
    "    @classmethod\n",
    "    def __probability_transition_rule(cls, feature1, feature2):\n",
    "        col_index = ns.columns.tolist()\n",
    "        i = col_index.index(feature1)\n",
    "        j = col_index.index(feature2)\n",
    "        l = col_index.copy()\n",
    "        \n",
    "\n",
    "        feat1 = feature1\n",
    "        feat2 = feature2\n",
    "\n",
    "        mic_ij = mutual_info_classif(ns[[feat1, feat2]], y=Y['win_won'], random_state=0)[1]\n",
    "        phrmn_ij = cls.pheromone[i,j]\n",
    "        init = 0\n",
    "        for k in range(0,len(l)):\n",
    "            if k != l.index(feature2):\n",
    "                phrmn_il = cls.pheromone[i,k]\n",
    "                mic_il = cls.pheromone[i,k]\n",
    "                init += (phrmn_il**cls.alpha) * (mic_il**cls.beta)\n",
    "        pij = ((mic_ij**cls.beta) * (phrmn_ij**cls.alpha)) / init\n",
    "        return pij\n",
    "\n",
    "    @classmethod \n",
    "    def initialize_colony(cls, number_of_ants_first_generation, init_criteria):\n",
    "        \"\"\"\n",
    "        ivar: init_criteria: how much steps an ant in initialization must have.\n",
    "        first of all we run this method for initialize first generation of colony\n",
    "        in this method we set manually number_of_ants_first_generation variable\n",
    "        to a number As a CRITERIA just for initialize pheromone matrix.in next \n",
    "        generations we set rough set feature selection CRITERIA and when \n",
    "        selected features by each ant in a colony met this limit that ant stop\n",
    "        exploration and next ant begins.\n",
    "        CAUTIONS!: RUN THIS METHOD JUST ONE TIME IN EACH COLONY!\n",
    "        \"\"\" \n",
    "        \n",
    "        # cls.overal_ant_route = {}\n",
    "        \n",
    "        j = 0\n",
    "        while j < number_of_ants_first_generation:\n",
    "            i = 0\n",
    "            while i < init_criteria-1: \n",
    "                cls.ant()\n",
    "                i += 1\n",
    "            cls.overall_ant_route[j] = cls.ant_route\n",
    "            print(cls.ant_route)\n",
    "            cls.reset_ant_route()\n",
    "            j += 1\n",
    "        cls.add_generation()\n",
    "\n",
    "    @classmethod\n",
    "    def is_rough_set_criteria_met(cls, selected_feature: list[int]) -> bool:\n",
    "        \n",
    "        data = ns.iloc[:, selected_feature]\n",
    "        X_train, X_test, y_train, y_test = train_test_split(data.values, Y.values.squeeze(), test_size=0.33, random_state=42)\n",
    "        \n",
    "        clf = FRNN()\n",
    "        model = clf(X_train, y_train)\n",
    "\n",
    "\n",
    "        scores = model(X_test)\n",
    "\n",
    "        probabilities = probabilities_from_scores(scores)\n",
    "        auroc = roc_auc_score(y_test, probabilities[:,-1])\n",
    "\n",
    "        if auroc >= cls.acc_criteria:\n",
    "            return True\n",
    "        else:\n",
    "            return False \n",
    "        \n",
    "    @classmethod\n",
    "    def is_landa_met(\n",
    "        cls, selected_feature: list[int]) -> bool:\n",
    "        \"\"\"\n",
    "        sim_threshold: similarity of each pair of instances that more than that\n",
    "        these pairs trace as Similar together\n",
    "        landa_criteria: stop one ant route exploration if met.  \n",
    "        \"\"\"\n",
    "        \n",
    "        landa_criteria = 0.7\n",
    "        sim_threshold = 0.8\n",
    "        # if selected_feature != []:\n",
    "        X = ns.iloc[:, selected_feature].values\n",
    "        y = Y.values.squeeze()\n",
    "        R_a = np.minimum(np.maximum(1 - np.abs(X[:, None, :] - X), 0), \n",
    "                         y[:, None, None] != y[:, None])\n",
    "        # Define a threshold for the lower approximation\n",
    "        \n",
    "\n",
    "        # Calculate the differences between pairs of instances\n",
    "        differences = []\n",
    "        all = []\n",
    "        for i in range(len(X)):\n",
    "            for j in range(i+1, len(X)):\n",
    "                difference = np.count_nonzero(R_a[i, j])\n",
    "                similarity_percent = 1 - (difference/X.shape[1])\n",
    "                if similarity_percent > sim_threshold and i != j:\n",
    "                    differences.append(difference)\n",
    "                all.append(difference)\n",
    "\n",
    "        # Calculate the average difference\n",
    "        criteria = len(differences) / ((X.shape[0]**2)/2)\n",
    "\n",
    "        landa = criteria\n",
    "        if landa >= landa_criteria:\n",
    "            return True\n",
    "        elif landa < landa_criteria or cls.ant_route == []:\n",
    "            return False \n",
    "\n",
    "        \n",
    "    @classmethod \n",
    "    def generate_next_ants(\n",
    "        cls, number_of_ants_next_generation: int,\n",
    "        rate_decay,\n",
    "        phero_rate_decay\n",
    "        # ,criteria_func\n",
    "        ):\n",
    "        \n",
    "        try:\n",
    "            if cls.colony_number > 0:\n",
    "                j = 0\n",
    "                while j < number_of_ants_next_generation:\n",
    "                    i = 0\n",
    "                    while not cls.is_landa_met(cls.ant_route) or (cls.ant_route == [] and cls.colony_number == 0):\n",
    "                    # while True:  \n",
    "                    # for j in range(number_of_ants_first_generation):\n",
    "                        cls.ant()\n",
    "                        # if cls.is_landa_met(cls.ant_route):\n",
    "                        #     break\n",
    "                        i += 1\n",
    "                    cls.overall_ant_route[f'g{j}'] = cls.ant_route\n",
    "                    print(cls.ant_route)\n",
    "                    j += 1\n",
    "                    cls.reset_ant_route()\n",
    "                cls.change_pheromone(q=rate_decay, rho=phero_rate_decay)\n",
    "            else:\n",
    "                raise Exception(\"Colony generation doesnt initialized first!\")\n",
    "        except Exception as e:\n",
    "            print(e)\n"
   ]
  },
  {
   "cell_type": "code",
   "execution_count": 115,
   "metadata": {},
   "outputs": [
    {
     "data": {
      "text/plain": [
       "[]"
      ]
     },
     "execution_count": 115,
     "metadata": {},
     "output_type": "execute_result"
    }
   ],
   "source": [
    "Colony.ant_route"
   ]
  },
  {
   "cell_type": "code",
   "execution_count": 111,
   "metadata": {},
   "outputs": [
    {
     "name": "stdout",
     "output_type": "stream",
     "text": [
      "Found array with 0 feature(s) (shape=(1029, 0)) while a minimum of 1 is required by NearestNeighbors.\n"
     ]
    }
   ],
   "source": [
    "Colony.ants(make_initialize=True,number_of_ants_first_gen=5,number_of_ants_next_gen=5,init_criteria=5,rate_decay=0.3,phero_rate_decay=0.2)"
   ]
  },
  {
   "cell_type": "code",
   "execution_count": 127,
   "metadata": {},
   "outputs": [
    {
     "name": "stdout",
     "output_type": "stream",
     "text": [
      "[13, 21, 9, 33, 32]\n",
      "[20, 32, 7, 15, 36]\n",
      "[28, 36, 29, 31, 16]\n",
      "[35, 16, 18, 6, 23]\n",
      "[23, 14, 1, 27, 22]\n"
     ]
    }
   ],
   "source": [
    "Colony.initialize_colony(number_of_ants_first_generation=5,init_criteria=5)"
   ]
  },
  {
   "cell_type": "code",
   "execution_count": 128,
   "metadata": {},
   "outputs": [
    {
     "name": "stdout",
     "output_type": "stream",
     "text": [
      "division by zero\n"
     ]
    }
   ],
   "source": [
    "Colony.generate_next_ants(number_of_ants_next_generation=5,rate_decay=0.1,phero_rate_decay=0.3)"
   ]
  },
  {
   "cell_type": "code",
   "execution_count": 125,
   "metadata": {},
   "outputs": [
    {
     "data": {
      "text/plain": [
       "{0: [15, 21, 9, 33, 32],\n",
       " 1: [32, 7, 36, 29, 31],\n",
       " 2: [17, 31, 16, 18, 6],\n",
       " 3: [4, 6, 23, 14, 35],\n",
       " 4: [1, 35, 27, 22, 5],\n",
       " 'g0': [6, 5],\n",
       " 'g1': [23, 5],\n",
       " 'g2': [32, 5],\n",
       " 'g3': [25, 5],\n",
       " 'g4': [10, 5]}"
      ]
     },
     "execution_count": 125,
     "metadata": {},
     "output_type": "execute_result"
    }
   ],
   "source": [
    "Colony.overall_ant_route"
   ]
  },
  {
   "cell_type": "code",
   "execution_count": 6,
   "metadata": {},
   "outputs": [],
   "source": [
    "from __future__ import annotations\n",
    "\n",
    "from typing import Callable\n",
    "\n",
    "import numpy as np\n",
    "\n",
    "from frlearn.base import DataDescriptor, FeatureSelector, ClassSupervised\n",
    "from frlearn.statistics.feature_preprocessors import Standardiser\n",
    "from frlearn.array_functions import soft_min\n",
    "from frlearn.t_norms import lukasiewicz_t_norm\n",
    "from frlearn.uncategorised.quantifiers import QuadraticSigmoid\n",
    "from frlearn.weights import QuantifierWeights\n",
    "from frlearn.base import MultiClassClassifier\n",
    "fr = MultiClassClassifier"
   ]
  },
  {
   "cell_type": "code",
   "execution_count": 8,
   "metadata": {},
   "outputs": [],
   "source": [
    "index = [\"bkblk\",\"bknwy\",\"bkon8\",\"bkona\",\"bkspr\",\"bkxbq\",\"bkxcr\",\"bkxwp\",\"blxwp\",\"bxqsq\",\"cntxt\",\"dsopp\",\"dwipd\",\n",
    " \"hdchk\",\"katri\",\"mulch\",\"qxmsq\",\"r2ar8\",\"reskd\",\"reskr\",\"rimmx\",\"rkxwp\",\"rxmsq\",\"simpl\",\"skach\",\"skewr\",\n",
    " \"skrxp\",\"spcop\",\"stlmt\",\"thrsk\",\"wkcti\",\"wkna8\",\"wknck\",\"wkovl\",\"wkpos\",\"wtoeg\",\"win\"]\n",
    "\n",
    "\n",
    "data = pd.read_csv('/home/hamid/hamash_amir/research/rough_set/kr-vs-kp_csv.csv')\n",
    "data.rename(columns = {'class':\"win\"}, inplace=True)\n",
    "\n",
    "ns = pd.get_dummies(data[data.columns[:-1]], prefix=data.columns[:-1],drop_first=True, dtype=int)\n",
    "\n",
    "ns_y = data['win'].copy()\n",
    "Y = pd.get_dummies(ns_y,prefix='win',drop_first=True, dtype=int)"
   ]
  },
  {
   "cell_type": "code",
   "execution_count": 36,
   "metadata": {},
   "outputs": [],
   "source": [
    "# X = ns.values\n",
    "# y = Y.values.squeeze()\n",
    "# # Calculate the fuzzy similarity relation\n",
    "# R_a = np.minimum(np.maximum(1 - np.abs(X[:, None, :] - X), 0), y[:, None, None] != y[:, None])\n",
    "\n",
    "# # Define a threshold for the lower approximation\n",
    "# threshold = 0.8\n",
    "\n",
    "# # Calculate the lower approximations for each decision class\n",
    "# lower_approximations = []\n",
    "# for class_label in np.unique(y):\n",
    "#     # Calculate the lower approximation for this class\n",
    "#     lower_approximation = np.all(R_a[y == class_label] >= threshold, axis=0)\n",
    "#     lower_approximations.append(lower_approximation)\n",
    "\n",
    "# # Calculate the POS as the union of the lower approximations\n",
    "# POS = np.any(lower_approximations, axis=0)\n",
    "\n",
    "# # Calculate the size of the POS\n",
    "# pos_size = np.sum(POS)\n",
    "# landa = pos_size/ns.shape[0]"
   ]
  },
  {
   "cell_type": "code",
   "execution_count": 37,
   "metadata": {},
   "outputs": [
    {
     "data": {
      "text/plain": [
       "(3196, 37)"
      ]
     },
     "execution_count": 37,
     "metadata": {},
     "output_type": "execute_result"
    }
   ],
   "source": [
    "lower_approximations[1].shape"
   ]
  },
  {
   "cell_type": "code",
   "execution_count": 38,
   "metadata": {},
   "outputs": [
    {
     "data": {
      "text/plain": [
       "(3196, 37)"
      ]
     },
     "execution_count": 38,
     "metadata": {},
     "output_type": "execute_result"
    }
   ],
   "source": [
    "POS.shape"
   ]
  },
  {
   "cell_type": "code",
   "execution_count": 39,
   "metadata": {},
   "outputs": [
    {
     "data": {
      "text/plain": [
       "(3196, 3196, 37)"
      ]
     },
     "execution_count": 39,
     "metadata": {},
     "output_type": "execute_result"
    }
   ],
   "source": [
    "R_a.shape"
   ]
  },
  {
   "cell_type": "code",
   "execution_count": 46,
   "metadata": {},
   "outputs": [
    {
     "data": {
      "text/plain": [
       "5603"
      ]
     },
     "execution_count": 46,
     "metadata": {},
     "output_type": "execute_result"
    }
   ],
   "source": [
    "pos_size"
   ]
  },
  {
   "cell_type": "code",
   "execution_count": 40,
   "metadata": {},
   "outputs": [
    {
     "data": {
      "text/plain": [
       "1.7531289111389237"
      ]
     },
     "execution_count": 40,
     "metadata": {},
     "output_type": "execute_result"
    }
   ],
   "source": [
    "landa = pos_size/ns.shape[0]\n",
    "landa"
   ]
  },
  {
   "cell_type": "code",
   "execution_count": 5,
   "metadata": {},
   "outputs": [],
   "source": [
    "X = ns.values\n",
    "y = Y.values.squeeze()\n",
    "max = np.maximum(1 - np.abs(X[:, None, :] - X), 0)"
   ]
  },
  {
   "cell_type": "code",
   "execution_count": 6,
   "metadata": {},
   "outputs": [
    {
     "data": {
      "text/plain": [
       "(3196, 3196, 37)"
      ]
     },
     "execution_count": 6,
     "metadata": {},
     "output_type": "execute_result"
    }
   ],
   "source": [
    "max.shape"
   ]
  },
  {
   "cell_type": "code",
   "execution_count": 7,
   "metadata": {},
   "outputs": [
    {
     "data": {
      "text/plain": [
       "(3196, 3196, 1)"
      ]
     },
     "execution_count": 7,
     "metadata": {},
     "output_type": "execute_result"
    }
   ],
   "source": [
    "r = y[:, None, None] != y[:, None]\n",
    "r.shape"
   ]
  },
  {
   "cell_type": "code",
   "execution_count": 15,
   "metadata": {},
   "outputs": [
    {
     "data": {
      "text/plain": [
       "(3196, 3196)"
      ]
     },
     "execution_count": 15,
     "metadata": {},
     "output_type": "execute_result"
    }
   ],
   "source": [
    "R.shape"
   ]
  },
  {
   "cell_type": "code",
   "execution_count": 19,
   "metadata": {},
   "outputs": [
    {
     "data": {
      "text/plain": [
       "0"
      ]
     },
     "execution_count": 19,
     "metadata": {},
     "output_type": "execute_result"
    }
   ],
   "source": [
    "X = ns.values\n",
    "y = Y.values.squeeze()\n",
    "co_Cs = [X[np.where(y != c)] for c in [0,1]]"
   ]
  },
  {
   "cell_type": "code",
   "execution_count": 94,
   "metadata": {},
   "outputs": [
    {
     "name": "stdout",
     "output_type": "stream",
     "text": [
      "0.8938136061816946\n"
     ]
    }
   ],
   "source": [
    "import numpy as np\n",
    "# def is_landa_met(cls) -> bool:\n",
    "# Assume X is your dataset with shape (n_samples, n_features)\n",
    "# and y is the corresponding target labels\n",
    "\n",
    "# Calculate the fuzzy similarity relation\n",
    "R_a = np.minimum(np.maximum(1 - np.abs(X[:, None, :] - X), 0), y[:, None, None] != y[:, None])\n",
    "\n",
    "# Define a threshold for the lower approximation\n",
    "sim_threshold = 0.2\n",
    "\n",
    "# Calculate the differences between pairs of instances\n",
    "differences = []\n",
    "all = []\n",
    "for i in range(len(X)):\n",
    "    for j in range(i+1, len(X)):\n",
    "        difference = np.count_nonzero(R_a[i, j])\n",
    "        similarity_percent = 1 - (difference/X.shape[1])\n",
    "        if similarity_percent > sim_threshold and i != j:\n",
    "            differences.append(difference)\n",
    "        all.append(difference)\n",
    "\n",
    "# Calculate the average difference\n",
    "criteria = len(differences) / ((X.shape[0]**2)/2)\n",
    "\n",
    "print(criteria)\n"
   ]
  },
  {
   "cell_type": "code",
   "execution_count": 77,
   "metadata": {},
   "outputs": [
    {
     "data": {
      "image/png": "[encoded data removed]",
      "text/plain": [
       "<Figure size 640x480 with 1 Axes>"
      ]
     },
     "metadata": {},
     "output_type": "display_data"
    }
   ],
   "source": [
    "import matplotlib.pyplot as plt\n",
    "\n",
    "# Example list of data\n",
    "data = differences\n",
    "\n",
    "# Plotting the histogram\n",
    "plt.hist(data, bins=37)  # Adjust the number of bins as needed\n",
    "plt.xlabel('Values')\n",
    "plt.ylabel('Frequency')\n",
    "plt.title('Distribution of Data')\n",
    "plt.show()"
   ]
  },
  {
   "cell_type": "code",
   "execution_count": 91,
   "metadata": {},
   "outputs": [
    {
     "data": {
      "text/plain": [
       "0.5006741452472662"
      ]
     },
     "execution_count": 91,
     "metadata": {},
     "output_type": "execute_result"
    }
   ],
   "source": [
    "len(differences)/((3196*3196)/2)"
   ]
  },
  {
   "cell_type": "code",
   "execution_count": 92,
   "metadata": {},
   "outputs": [
    {
     "data": {
      "text/plain": [
       "0.5006741452472662"
      ]
     },
     "execution_count": 92,
     "metadata": {},
     "output_type": "execute_result"
    }
   ],
   "source": [
    "len(differences) / ((X.shape[0]**2)/2)"
   ]
  },
  {
   "cell_type": "code",
   "execution_count": 90,
   "metadata": {},
   "outputs": [
    {
     "data": {
      "text/plain": [
       "5105610"
      ]
     },
     "execution_count": 90,
     "metadata": {},
     "output_type": "execute_result"
    }
   ],
   "source": [
    "len(all)"
   ]
  },
  {
   "cell_type": "code",
   "execution_count": 88,
   "metadata": {},
   "outputs": [
    {
     "data": {
      "text/plain": [
       "5107208.0"
      ]
     },
     "execution_count": 88,
     "metadata": {},
     "output_type": "execute_result"
    }
   ],
   "source": [
    "(3196*3196)/2"
   ]
  },
  {
   "cell_type": "code",
   "execution_count": 27,
   "metadata": {},
   "outputs": [],
   "source": [
    "Colon.make_change()"
   ]
  },
  {
   "cell_type": "code",
   "execution_count": 28,
   "metadata": {},
   "outputs": [
    {
     "data": {
      "text/plain": [
       "5"
      ]
     },
     "execution_count": 28,
     "metadata": {},
     "output_type": "execute_result"
    }
   ],
   "source": [
    "Colon.pherom"
   ]
  },
  {
   "cell_type": "code",
   "execution_count": 29,
   "metadata": {},
   "outputs": [
    {
     "data": {
      "text/plain": [
       "10"
      ]
     },
     "execution_count": 29,
     "metadata": {},
     "output_type": "execute_result"
    }
   ],
   "source": [
    "ant = Ant()\n",
    "ant.multiple()\n",
    "Colon.pherom"
   ]
  }
 ],
 "metadata": {
  "kernelspec": {
   "display_name": ".venv",
   "language": "python",
   "name": "python3"
  },
  "language_info": {
   "codemirror_mode": {
    "name": "ipython",
    "version": 3
   },
   "file_extension": ".py",
   "mimetype": "text/x-python",
   "name": "python",
   "nbconvert_exporter": "python",
   "pygments_lexer": "ipython3",
   "version": "3.10.10"
  },
  "orig_nbformat": 4
 },
 "nbformat": 4,
 "nbformat_minor": 2
}
