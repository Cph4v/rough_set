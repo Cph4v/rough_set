{
 "cells": [
  {
   "cell_type": "code",
   "execution_count": 93,
   "metadata": {},
   "outputs": [],
   "source": [
    "import networkx as nx\n",
    "import pandas as pd\n",
    "import numpy as np\n",
    "from sklearn.feature_selection import mutual_info_classif\n",
    "from pathlib import Path\n",
    "from frlearn.classifiers import FRNN\n",
    "from sklearn.model_selection import train_test_split\n",
    "from frlearn.base import probabilities_from_scores\n",
    "from sklearn.metrics import roc_auc_score\n",
    "from frlearn.neighbours.instance_preprocessors import FRPS\n",
    "import time\n",
    "\n",
    "from Ant import Colony\n"
   ]
  },
  {
   "cell_type": "code",
   "execution_count": 3,
   "metadata": {},
   "outputs": [],
   "source": [
    "class "
   ]
  },
  {
   "cell_type": "code",
   "execution_count": 89,
   "metadata": {},
   "outputs": [],
   "source": []
  },
  {
   "cell_type": "code",
   "execution_count": 90,
   "metadata": {},
   "outputs": [
    {
     "name": "stdout",
     "output_type": "stream",
     "text": [
      "9\n",
      "21\n",
      "33\n",
      "[9, 21, 33]\n",
      "ant_route: [19, 22, 6]\n",
      "ant_instance.fg: [0, 1, 2, 3, 4, 5, 7, 8, 9, 10, 11, 12, 13, 14, 15, 16, 17, 18, 20, 21, 23, 24, 25, 26, 27, 28, 29, 30, 31, 32, 33, 34, 35, 36]\n",
      "ant_route: [13, 32, 18]\n",
      "ant_instance.fg: [0, 1, 2, 3, 4, 5, 6, 7, 8, 9, 10, 11, 12, 14, 15, 16, 17, 19, 20, 21, 22, 23, 24, 25, 26, 27, 28, 29, 30, 31, 33, 34, 35, 36]\n",
      "ant_route: [12, 7, 15]\n",
      "ant_instance.fg: [0, 1, 2, 3, 4, 5, 6, 8, 9, 10, 11, 13, 14, 16, 17, 18, 19, 20, 21, 22, 23, 24, 25, 26, 27, 28, 29, 30, 31, 32, 33, 34, 35, 36]\n",
      "ant_route: [1, 0, 29]\n",
      "ant_instance.fg: [2, 3, 4, 5, 6, 7, 8, 9, 10, 11, 12, 13, 14, 15, 16, 17, 18, 19, 20, 21, 22, 23, 24, 25, 26, 27, 28, 30, 31, 32, 33, 34, 35, 36]\n",
      "ant_route: [28, 9, 15]\n",
      "ant_instance.fg: [0, 1, 2, 3, 4, 5, 6, 7, 8, 10, 11, 12, 13, 14, 16, 17, 18, 19, 20, 21, 22, 23, 24, 25, 26, 27, 29, 30, 31, 32, 33, 34, 35, 36]\n",
      "initiall final: [0, 1, 2, 3, 4, 5, 6, 7, 8, 10, 11, 12, 13, 14, 16, 17, 18, 19, 20, 21, 22, 23, 24, 25, 26, 27, 29, 30, 31, 32, 33, 34, 35, 36]\n",
      "#~~~~~~~~~~~~~~~~~~~~~~~~~~~~~~~~~~~~~~~~~~~~~~~~~~~~~~~~~~~~~~~~~~~~~~~~~#\n"
     ]
    }
   ],
   "source": [
    "Colony.initialize_colony(5, 3, with_core=True, core_accuracy=0.75) "
   ]
  },
  {
   "cell_type": "code",
   "execution_count": 91,
   "metadata": {},
   "outputs": [
    {
     "name": "stdout",
     "output_type": "stream",
     "text": [
      "cls.fg_core in ant class: [0, 1, 2, 3, 4, 5, 6, 7, 8, 10, 11, 12, 13, 14, 15, 16, 17, 18, 19, 20, 22, 23, 24, 25, 26, 27, 28, 29, 30, 31, 32, 34, 35, 36]\n",
      "cls.fg_core in ant class: [0, 1, 2, 3, 4, 5, 6, 7, 8, 10, 11, 12, 13, 14, 15, 16, 17, 18, 19, 20, 22, 23, 24, 25, 26, 27, 28, 29, 30, 31, 34, 35, 36]\n",
      "cls.fg_core in ant class: [0, 1, 2, 3, 4, 5, 6, 8, 10, 11, 12, 13, 14, 15, 16, 17, 18, 19, 20, 22, 23, 24, 25, 26, 27, 28, 29, 30, 31, 34, 35, 36]\n",
      "cls.fg_core in ant class: [0, 1, 2, 3, 4, 5, 6, 8, 10, 11, 12, 13, 14, 16, 17, 18, 19, 20, 22, 23, 24, 25, 26, 27, 28, 29, 30, 31, 34, 35, 36]\n",
      "cls.fg_core in ant class: [0, 1, 2, 3, 4, 5, 6, 8, 10, 11, 12, 13, 14, 16, 17, 18, 19, 20, 22, 23, 24, 25, 26, 27, 28, 29, 30, 31, 34, 35]\n",
      "cls.fg_core in ant class: [0, 1, 2, 3, 4, 5, 6, 8, 10, 11, 12, 13, 14, 16, 17, 18, 19, 20, 22, 23, 24, 25, 26, 27, 28, 30, 31, 34, 35]\n",
      "cls.fg_core in ant class: [0, 1, 2, 3, 4, 5, 6, 8, 10, 11, 12, 13, 14, 16, 17, 18, 19, 20, 22, 23, 24, 25, 26, 27, 28, 30, 34, 35]\n",
      "cls.fg_core in ant class: [0, 1, 2, 3, 4, 5, 6, 8, 10, 11, 12, 13, 14, 17, 18, 19, 20, 22, 23, 24, 25, 26, 27, 28, 30, 34, 35]\n",
      "cls.fg_core in ant class: [0, 1, 2, 3, 4, 5, 6, 8, 10, 11, 12, 13, 14, 17, 19, 20, 22, 23, 24, 25, 26, 27, 28, 30, 34, 35]\n",
      "cls.fg_core in ant class: [0, 1, 2, 3, 4, 5, 8, 10, 11, 12, 13, 14, 17, 19, 20, 22, 23, 24, 25, 26, 27, 28, 30, 34, 35]\n",
      "cls.fg_core in ant class: [0, 1, 2, 3, 4, 5, 8, 10, 11, 12, 13, 14, 17, 19, 20, 22, 24, 25, 26, 27, 28, 30, 34, 35]\n",
      "cls.fg_core in ant class: [0, 1, 2, 3, 4, 5, 8, 10, 11, 12, 13, 17, 19, 20, 22, 24, 25, 26, 27, 28, 30, 34, 35]\n",
      "cls.fg_core in ant class: [0, 1, 2, 3, 4, 5, 8, 10, 11, 12, 13, 17, 19, 20, 22, 24, 25, 26, 27, 28, 30, 34]\n",
      "cls.fg_core in ant class: [0, 2, 3, 4, 5, 8, 10, 11, 12, 13, 17, 19, 20, 22, 24, 25, 26, 27, 28, 30, 34]\n",
      "cls.fg_core in ant class: [0, 2, 3, 4, 5, 8, 10, 11, 12, 13, 17, 19, 20, 22, 24, 25, 26, 28, 30, 34]\n",
      "cls.fg_core in ant class: [0, 2, 3, 4, 5, 8, 10, 11, 12, 13, 17, 19, 20, 24, 25, 26, 28, 30, 34]\n",
      "cls.fg_core in ant class: [0, 2, 3, 4, 8, 10, 11, 12, 13, 17, 19, 20, 24, 25, 26, 28, 30, 34]\n",
      "cls.fg_core in ant class: [2, 3, 4, 8, 10, 11, 12, 13, 17, 19, 20, 24, 25, 26, 28, 30, 34]\n",
      "cls.fg_core in ant class: [3, 4, 8, 10, 11, 12, 13, 17, 19, 20, 24, 25, 26, 28, 30, 34]\n",
      "ant couldnt find route with 0.7112015018773467 accuracy\n",
      "time_per_thesh: 413.21933698654175\n",
      "ant_route: [33, 32, 7, 15, 36, 29, 31, 16, 18, 6, 23, 14, 35, 1, 27, 22, 5, 0, 2, 3]\n",
      "cls.fg_core in ant class: [0, 1, 2, 3, 4, 5, 6, 7, 8, 10, 11, 12, 13, 14, 15, 16, 17, 18, 19, 20, 22, 23, 24, 25, 26, 27, 28, 29, 30, 31, 32, 34, 35, 36]\n",
      "cls.fg_core in ant class: [0, 1, 2, 3, 4, 5, 6, 7, 8, 10, 11, 12, 13, 14, 15, 16, 17, 18, 19, 20, 22, 23, 24, 25, 26, 27, 28, 29, 30, 31, 34, 35, 36]\n",
      "cls.fg_core in ant class: [0, 1, 2, 3, 4, 5, 6, 8, 10, 11, 12, 13, 14, 15, 16, 17, 18, 19, 20, 22, 23, 24, 25, 26, 27, 28, 29, 30, 31, 34, 35, 36]\n",
      "cls.fg_core in ant class: [0, 1, 2, 3, 4, 5, 6, 8, 10, 11, 12, 13, 14, 16, 17, 18, 19, 20, 22, 23, 24, 25, 26, 27, 28, 29, 30, 31, 34, 35, 36]\n",
      "cls.fg_core in ant class: [0, 1, 2, 3, 4, 5, 6, 8, 10, 11, 12, 13, 14, 16, 17, 18, 19, 20, 22, 23, 24, 25, 26, 27, 28, 29, 30, 31, 34, 35]\n",
      "cls.fg_core in ant class: [0, 1, 2, 3, 4, 5, 6, 8, 10, 11, 12, 13, 14, 16, 17, 18, 19, 20, 22, 23, 24, 25, 26, 27, 28, 30, 31, 34, 35]\n",
      "cls.fg_core in ant class: [0, 1, 2, 3, 4, 5, 6, 8, 10, 11, 12, 13, 14, 16, 17, 18, 19, 20, 22, 23, 24, 25, 26, 27, 28, 30, 34, 35]\n",
      "cls.fg_core in ant class: [0, 1, 2, 3, 4, 5, 6, 8, 10, 11, 12, 13, 14, 17, 18, 19, 20, 22, 23, 24, 25, 26, 27, 28, 30, 34, 35]\n",
      "cls.fg_core in ant class: [0, 1, 2, 3, 4, 5, 6, 8, 10, 11, 12, 13, 14, 17, 19, 20, 22, 23, 24, 25, 26, 27, 28, 30, 34, 35]\n",
      "cls.fg_core in ant class: [0, 1, 2, 3, 4, 5, 8, 10, 11, 12, 13, 14, 17, 19, 20, 22, 23, 24, 25, 26, 27, 28, 30, 34, 35]\n",
      "cls.fg_core in ant class: [0, 1, 2, 3, 4, 5, 8, 10, 11, 12, 13, 14, 17, 19, 20, 22, 24, 25, 26, 27, 28, 30, 34, 35]\n",
      "cls.fg_core in ant class: [0, 1, 2, 3, 4, 5, 8, 10, 11, 12, 13, 17, 19, 20, 22, 24, 25, 26, 27, 28, 30, 34, 35]\n",
      "cls.fg_core in ant class: [0, 1, 2, 3, 4, 5, 8, 10, 11, 12, 13, 17, 19, 20, 22, 24, 25, 26, 27, 28, 30, 34]\n",
      "cls.fg_core in ant class: [0, 2, 3, 4, 5, 8, 10, 11, 12, 13, 17, 19, 20, 22, 24, 25, 26, 27, 28, 30, 34]\n",
      "cls.fg_core in ant class: [0, 2, 3, 4, 5, 8, 10, 11, 12, 13, 17, 19, 20, 22, 24, 25, 26, 28, 30, 34]\n",
      "cls.fg_core in ant class: [0, 2, 3, 4, 5, 8, 10, 11, 12, 13, 17, 19, 20, 24, 25, 26, 28, 30, 34]\n",
      "cls.fg_core in ant class: [0, 2, 3, 4, 8, 10, 11, 12, 13, 17, 19, 20, 24, 25, 26, 28, 30, 34]\n",
      "cls.fg_core in ant class: [2, 3, 4, 8, 10, 11, 12, 13, 17, 19, 20, 24, 25, 26, 28, 30, 34]\n",
      "cls.fg_core in ant class: [3, 4, 8, 10, 11, 12, 13, 17, 19, 20, 24, 25, 26, 28, 30, 34]\n",
      "ant couldnt find route with 0.7112015018773467 accuracy\n",
      "time_per_thesh: 420.64283180236816\n",
      "ant_route: [33, 32, 7, 15, 36, 29, 31, 16, 18, 6, 23, 14, 35, 1, 27, 22, 5, 0, 2, 3]\n",
      "cls.fg_core in ant class: [0, 1, 2, 3, 4, 5, 6, 7, 8, 10, 11, 12, 13, 14, 15, 16, 17, 18, 19, 20, 22, 23, 24, 25, 26, 27, 28, 29, 30, 31, 32, 34, 35, 36]\n",
      "cls.fg_core in ant class: [0, 1, 2, 3, 4, 5, 6, 7, 8, 10, 11, 12, 13, 14, 15, 16, 17, 18, 19, 20, 22, 23, 24, 25, 26, 27, 28, 29, 30, 31, 34, 35, 36]\n",
      "cls.fg_core in ant class: [0, 1, 2, 3, 4, 5, 6, 8, 10, 11, 12, 13, 14, 15, 16, 17, 18, 19, 20, 22, 23, 24, 25, 26, 27, 28, 29, 30, 31, 34, 35, 36]\n",
      "cls.fg_core in ant class: [0, 1, 2, 3, 4, 5, 6, 8, 10, 11, 12, 13, 14, 16, 17, 18, 19, 20, 22, 23, 24, 25, 26, 27, 28, 29, 30, 31, 34, 35, 36]\n",
      "cls.fg_core in ant class: [0, 1, 2, 3, 4, 5, 6, 8, 10, 11, 12, 13, 14, 16, 17, 18, 19, 20, 22, 23, 24, 25, 26, 27, 28, 29, 30, 31, 34, 35]\n",
      "cls.fg_core in ant class: [0, 1, 2, 3, 4, 5, 6, 8, 10, 11, 12, 13, 14, 16, 17, 18, 19, 20, 22, 23, 24, 25, 26, 27, 28, 30, 31, 34, 35]\n",
      "cls.fg_core in ant class: [0, 1, 2, 3, 4, 5, 6, 8, 10, 11, 12, 13, 14, 16, 17, 18, 19, 20, 22, 23, 24, 25, 26, 27, 28, 30, 34, 35]\n",
      "cls.fg_core in ant class: [0, 1, 2, 3, 4, 5, 6, 8, 10, 11, 12, 13, 14, 17, 18, 19, 20, 22, 23, 24, 25, 26, 27, 28, 30, 34, 35]\n",
      "cls.fg_core in ant class: [0, 1, 2, 3, 4, 5, 6, 8, 10, 11, 12, 13, 14, 17, 19, 20, 22, 23, 24, 25, 26, 27, 28, 30, 34, 35]\n",
      "cls.fg_core in ant class: [0, 1, 2, 3, 4, 5, 8, 10, 11, 12, 13, 14, 17, 19, 20, 22, 23, 24, 25, 26, 27, 28, 30, 34, 35]\n",
      "cls.fg_core in ant class: [0, 1, 2, 3, 4, 5, 8, 10, 11, 12, 13, 14, 17, 19, 20, 22, 24, 25, 26, 27, 28, 30, 34, 35]\n",
      "cls.fg_core in ant class: [0, 1, 2, 3, 4, 5, 8, 10, 11, 12, 13, 17, 19, 20, 22, 24, 25, 26, 27, 28, 30, 34, 35]\n",
      "cls.fg_core in ant class: [0, 1, 2, 3, 4, 5, 8, 10, 11, 12, 13, 17, 19, 20, 22, 24, 25, 26, 27, 28, 30, 34]\n",
      "cls.fg_core in ant class: [0, 2, 3, 4, 5, 8, 10, 11, 12, 13, 17, 19, 20, 22, 24, 25, 26, 27, 28, 30, 34]\n",
      "cls.fg_core in ant class: [0, 2, 3, 4, 5, 8, 10, 11, 12, 13, 17, 19, 20, 22, 24, 25, 26, 28, 30, 34]\n",
      "cls.fg_core in ant class: [0, 2, 3, 4, 5, 8, 10, 11, 12, 13, 17, 19, 20, 24, 25, 26, 28, 30, 34]\n",
      "cls.fg_core in ant class: [0, 2, 3, 4, 8, 10, 11, 12, 13, 17, 19, 20, 24, 25, 26, 28, 30, 34]\n",
      "cls.fg_core in ant class: [2, 3, 4, 8, 10, 11, 12, 13, 17, 19, 20, 24, 25, 26, 28, 30, 34]\n"
     ]
    },
    {
     "ename": "KeyboardInterrupt",
     "evalue": "",
     "output_type": "error",
     "traceback": [
      "\u001b[0;31m---------------------------------------------------------------------------\u001b[0m",
      "\u001b[0;31mKeyboardInterrupt\u001b[0m                         Traceback (most recent call last)",
      "Cell \u001b[0;32mIn[91], line 1\u001b[0m\n\u001b[0;32m----> 1\u001b[0m Colony\u001b[39m.\u001b[39;49mgenerate_next_ants(number_of_ants_next_generation\u001b[39m=\u001b[39;49m\u001b[39m4\u001b[39;49m,\n\u001b[1;32m      2\u001b[0m                           q\u001b[39m=\u001b[39;49m\u001b[39m0.8\u001b[39;49m,\n\u001b[1;32m      3\u001b[0m                           phero_rate_decay\u001b[39m=\u001b[39;49m\u001b[39m0.5\u001b[39;49m,\n\u001b[1;32m      4\u001b[0m                           THRESHOLD\u001b[39m=\u001b[39;49m[\u001b[39m0.95\u001b[39;49m, \u001b[39m'\u001b[39;49m\u001b[39mlanda\u001b[39;49m\u001b[39m'\u001b[39;49m, \u001b[39m0.80\u001b[39;49m],\n\u001b[1;32m      5\u001b[0m                           alpha\u001b[39m=\u001b[39;49m\u001b[39m0.8\u001b[39;49m,\n\u001b[1;32m      6\u001b[0m                           beta\u001b[39m=\u001b[39;49m\u001b[39m0.01\u001b[39;49m,\n\u001b[1;32m      7\u001b[0m                           with_core\u001b[39m=\u001b[39;49m\u001b[39mTrue\u001b[39;49;00m)\n\u001b[1;32m      8\u001b[0m \u001b[39m# Colony.generate_next_ants(4, 1, 0.5, [0.97, 'landa', 0.90], 0.8, 0.2)\u001b[39;00m\n\u001b[1;32m      9\u001b[0m \u001b[39m# Colony.generate_next_ants(4, 1, 0.5, [0.97, 'landa', 0.95], 0.8, 0.2)\u001b[39;00m\n",
      "Cell \u001b[0;32mIn[89], line 554\u001b[0m, in \u001b[0;36mColony.generate_next_ants\u001b[0;34m(cls, number_of_ants_next_generation, q, phero_rate_decay, THRESHOLD, alpha, beta, with_core)\u001b[0m\n\u001b[1;32m    550\u001b[0m next_ant \u001b[39m=\u001b[39m Ant(\u001b[39mcls\u001b[39m)\n\u001b[1;32m    551\u001b[0m \u001b[39m# if with_core == True:\u001b[39;00m\n\u001b[1;32m    552\u001b[0m \u001b[39m#     next_ant.choose_feature_gen_with_core(alpha, beta)\u001b[39;00m\n\u001b[1;32m    553\u001b[0m \u001b[39m# else:\u001b[39;00m\n\u001b[0;32m--> 554\u001b[0m next_ant\u001b[39m.\u001b[39;49mbuild_route_next_gen(THRESHOLD, alpha, beta, with_core)\n\u001b[1;32m    555\u001b[0m Colonies\u001b[39m.\u001b[39moverall_ant_route[\u001b[39mf\u001b[39m\u001b[39m'\u001b[39m\u001b[39mColony Number:\u001b[39m\u001b[39m{\u001b[39;00m\u001b[39mcls\u001b[39m\u001b[39m.\u001b[39mcolony_number\u001b[39m}\u001b[39;00m\u001b[39m ant-num:\u001b[39m\u001b[39m{\u001b[39;00mj\u001b[39m}\u001b[39;00m\u001b[39m'\u001b[39m] \u001b[39m=\u001b[39m next_ant\u001b[39m.\u001b[39mant_route\n\u001b[1;32m    556\u001b[0m \u001b[39mcls\u001b[39m\u001b[39m.\u001b[39mlog[j] \u001b[39m=\u001b[39m next_ant\u001b[39m.\u001b[39mant_route\n",
      "Cell \u001b[0;32mIn[89], line 161\u001b[0m, in \u001b[0;36mAnt.build_route_next_gen\u001b[0;34m(self, THRESHOLD, alpha, beta, with_core)\u001b[0m\n\u001b[1;32m    159\u001b[0m     is_criteria_met, criteria \u001b[39m=\u001b[39m \u001b[39mself\u001b[39m\u001b[39m.\u001b[39mcolony\u001b[39m.\u001b[39mis_rough_set_criteria_met(\u001b[39mself\u001b[39m\u001b[39m.\u001b[39mant_route ,THRESHOLD[\u001b[39m0\u001b[39m], with_core)\n\u001b[1;32m    160\u001b[0m \u001b[39mif\u001b[39;00m THRESHOLD[\u001b[39m1\u001b[39m] \u001b[39m==\u001b[39m \u001b[39m'\u001b[39m\u001b[39mlanda\u001b[39m\u001b[39m'\u001b[39m:\n\u001b[0;32m--> 161\u001b[0m     is_criteria_met, criteria \u001b[39m=\u001b[39m \u001b[39mself\u001b[39;49m\u001b[39m.\u001b[39;49mcolony\u001b[39m.\u001b[39;49mis_landa_met(\u001b[39mself\u001b[39;49m\u001b[39m.\u001b[39;49mant_route , THRESHOLD[\u001b[39m0\u001b[39;49m], with_core)\n\u001b[1;32m    162\u001b[0m stop \u001b[39m=\u001b[39m time\u001b[39m.\u001b[39mtime()\n\u001b[1;32m    163\u001b[0m thresh \u001b[39m=\u001b[39m \u001b[39mabs\u001b[39m(stop \u001b[39m-\u001b[39m start)\n",
      "Cell \u001b[0;32mIn[89], line 475\u001b[0m, in \u001b[0;36mColony.is_landa_met\u001b[0;34m(cls, selected_feature, landa_criteria, with_core)\u001b[0m\n\u001b[1;32m    456\u001b[0m \u001b[39m## use knn as classifier \u001b[39;00m\n\u001b[1;32m    457\u001b[0m \u001b[39m#~~~~~~~~~~~~~~~~~~~~~~~~~\u001b[39;00m\n\u001b[1;32m    458\u001b[0m \u001b[39m# classes = np.unique(y)\u001b[39;00m\n\u001b[0;32m   (...)\u001b[0m\n\u001b[1;32m    472\u001b[0m \u001b[39m# count = np.count_nonzero(in_range)\u001b[39;00m\n\u001b[1;32m    473\u001b[0m \u001b[39m#~~~~~~~~~~~~~~~~~~~~~~~~~~~~~~~~~~\u001b[39;00m\n\u001b[1;32m    474\u001b[0m frps_instance \u001b[39m=\u001b[39m FRPS()\n\u001b[0;32m--> 475\u001b[0m X_new, y_new \u001b[39m=\u001b[39m frps_instance(X, y)\n\u001b[1;32m    476\u001b[0m count \u001b[39m=\u001b[39m \u001b[39mlen\u001b[39m(X_new)\n\u001b[1;32m    478\u001b[0m criteria \u001b[39m=\u001b[39m count\u001b[39m/\u001b[39m\u001b[39mlen\u001b[39m(ns)\n",
      "File \u001b[0;32m~/.pyenv/versions/3.10.10/lib/python3.10/site-packages/frlearn/neighbours/instance_preprocessors.py:142\u001b[0m, in \u001b[0;36mFRPS.__call__\u001b[0;34m(self, X, y)\u001b[0m\n\u001b[1;32m    140\u001b[0m deselected \u001b[39m=\u001b[39m X[Q \u001b[39m<\u001b[39m tau]\n\u001b[1;32m    141\u001b[0m \u001b[39mif\u001b[39;00m \u001b[39mlen\u001b[39m(deselected) \u001b[39m>\u001b[39m\u001b[39m=\u001b[39m \u001b[39m1\u001b[39m:\n\u001b[0;32m--> 142\u001b[0m     neighbours \u001b[39m=\u001b[39m np\u001b[39m.\u001b[39mconcatenate([neighbours, nn_model(deselected, k\u001b[39m=\u001b[39;49m\u001b[39m1\u001b[39;49m)[\u001b[39m0\u001b[39m][:, \u001b[39m0\u001b[39m]])\n\u001b[1;32m    143\u001b[0m S_y \u001b[39m=\u001b[39m y[Q \u001b[39m>\u001b[39m\u001b[39m=\u001b[39m tau]\n\u001b[1;32m    144\u001b[0m y_neighbours \u001b[39m=\u001b[39m S_y[neighbours]\n",
      "File \u001b[0;32m~/.pyenv/versions/3.10.10/lib/python3.10/site-packages/frlearn/neighbours/neighbour_search_methods.py:79\u001b[0m, in \u001b[0;36mNeighbourSearchMethod.Model.__call__\u001b[0;34m(self, X, k)\u001b[0m\n\u001b[1;32m     57\u001b[0m \u001b[39mdef\u001b[39;00m \u001b[39m__call__\u001b[39m(\u001b[39mself\u001b[39m, X, k: \u001b[39mint\u001b[39m):\n\u001b[1;32m     58\u001b[0m \u001b[39m    \u001b[39m\u001b[39m\"\"\"\u001b[39;00m\n\u001b[1;32m     59\u001b[0m \u001b[39m    Identify the k nearest neighbours for each of the instances in X.\u001b[39;00m\n\u001b[1;32m     60\u001b[0m \n\u001b[0;32m   (...)\u001b[0m\n\u001b[1;32m     77\u001b[0m \u001b[39m        instances for each query instance.\u001b[39;00m\n\u001b[1;32m     78\u001b[0m \u001b[39m    \"\"\"\u001b[39;00m\n\u001b[0;32m---> 79\u001b[0m     \u001b[39mreturn\u001b[39;00m \u001b[39msuper\u001b[39;49m()\u001b[39m.\u001b[39;49m\u001b[39m__call__\u001b[39;49m(X, k)\n",
      "File \u001b[0;32m~/.pyenv/versions/3.10.10/lib/python3.10/site-packages/frlearn/base.py:60\u001b[0m, in \u001b[0;36mSoftMachine.Model.__call__\u001b[0;34m(self, X, *args, **kwargs)\u001b[0m\n\u001b[1;32m     58\u001b[0m \u001b[39mfor\u001b[39;00m preprocessing_model \u001b[39min\u001b[39;00m \u001b[39mself\u001b[39m\u001b[39m.\u001b[39mpreprocessing_models:\n\u001b[1;32m     59\u001b[0m     X \u001b[39m=\u001b[39m preprocessing_model(X)\n\u001b[0;32m---> 60\u001b[0m \u001b[39mreturn\u001b[39;00m \u001b[39mself\u001b[39;49m\u001b[39m.\u001b[39;49m_query(X, \u001b[39m*\u001b[39;49margs, \u001b[39m*\u001b[39;49m\u001b[39m*\u001b[39;49mkwargs)\n",
      "File \u001b[0;32m~/.pyenv/versions/3.10.10/lib/python3.10/site-packages/frlearn/neighbours/neighbour_search_methods.py:146\u001b[0m, in \u001b[0;36m_SKLearnTree.Model._query\u001b[0;34m(self, X, k)\u001b[0m\n\u001b[1;32m    145\u001b[0m \u001b[39mdef\u001b[39;00m \u001b[39m_query\u001b[39m(\u001b[39mself\u001b[39m, X, k: \u001b[39mint\u001b[39m):\n\u001b[0;32m--> 146\u001b[0m     indices, distances \u001b[39m=\u001b[39m \u001b[39mself\u001b[39;49m\u001b[39m.\u001b[39;49mtree\u001b[39m.\u001b[39;49mkneighbors(X, n_neighbors\u001b[39m=\u001b[39;49mk)[::\u001b[39m-\u001b[39m\u001b[39m1\u001b[39m]\n\u001b[1;32m    147\u001b[0m     \u001b[39mif\u001b[39;00m \u001b[39misinstance\u001b[39m(\u001b[39mself\u001b[39m\u001b[39m.\u001b[39mdissimilarity, MinkowskiSize):\n\u001b[1;32m    148\u001b[0m         \u001b[39mif\u001b[39;00m \u001b[39mself\u001b[39m\u001b[39m.\u001b[39mdissimilarity\u001b[39m.\u001b[39mscale_by_dimensionality:\n",
      "File \u001b[0;32m~/.pyenv/versions/3.10.10/lib/python3.10/site-packages/sklearn/neighbors/_base.py:879\u001b[0m, in \u001b[0;36mKNeighborsMixin.kneighbors\u001b[0;34m(self, X, n_neighbors, return_distance)\u001b[0m\n\u001b[1;32m    873\u001b[0m     \u001b[39mif\u001b[39;00m issparse(X):\n\u001b[1;32m    874\u001b[0m         \u001b[39mraise\u001b[39;00m \u001b[39mValueError\u001b[39;00m(\n\u001b[1;32m    875\u001b[0m             \u001b[39m\"\u001b[39m\u001b[39m%s\u001b[39;00m\u001b[39m does not work with sparse matrices. Densify the data, \u001b[39m\u001b[39m\"\u001b[39m\n\u001b[1;32m    876\u001b[0m             \u001b[39m\"\u001b[39m\u001b[39mor set algorithm=\u001b[39m\u001b[39m'\u001b[39m\u001b[39mbrute\u001b[39m\u001b[39m'\u001b[39m\u001b[39m\"\u001b[39m\n\u001b[1;32m    877\u001b[0m             \u001b[39m%\u001b[39m \u001b[39mself\u001b[39m\u001b[39m.\u001b[39m_fit_method\n\u001b[1;32m    878\u001b[0m         )\n\u001b[0;32m--> 879\u001b[0m     chunked_results \u001b[39m=\u001b[39m Parallel(n_jobs, prefer\u001b[39m=\u001b[39;49m\u001b[39m\"\u001b[39;49m\u001b[39mthreads\u001b[39;49m\u001b[39m\"\u001b[39;49m)(\n\u001b[1;32m    880\u001b[0m         delayed(_tree_query_parallel_helper)(\n\u001b[1;32m    881\u001b[0m             \u001b[39mself\u001b[39;49m\u001b[39m.\u001b[39;49m_tree, X[s], n_neighbors, return_distance\n\u001b[1;32m    882\u001b[0m         )\n\u001b[1;32m    883\u001b[0m         \u001b[39mfor\u001b[39;49;00m s \u001b[39min\u001b[39;49;00m gen_even_slices(X\u001b[39m.\u001b[39;49mshape[\u001b[39m0\u001b[39;49m], n_jobs)\n\u001b[1;32m    884\u001b[0m     )\n\u001b[1;32m    885\u001b[0m \u001b[39melse\u001b[39;00m:\n\u001b[1;32m    886\u001b[0m     \u001b[39mraise\u001b[39;00m \u001b[39mValueError\u001b[39;00m(\u001b[39m\"\u001b[39m\u001b[39minternal: _fit_method not recognized\u001b[39m\u001b[39m\"\u001b[39m)\n",
      "File \u001b[0;32m~/.pyenv/versions/3.10.10/lib/python3.10/site-packages/sklearn/utils/parallel.py:63\u001b[0m, in \u001b[0;36mParallel.__call__\u001b[0;34m(self, iterable)\u001b[0m\n\u001b[1;32m     58\u001b[0m config \u001b[39m=\u001b[39m get_config()\n\u001b[1;32m     59\u001b[0m iterable_with_config \u001b[39m=\u001b[39m (\n\u001b[1;32m     60\u001b[0m     (_with_config(delayed_func, config), args, kwargs)\n\u001b[1;32m     61\u001b[0m     \u001b[39mfor\u001b[39;00m delayed_func, args, kwargs \u001b[39min\u001b[39;00m iterable\n\u001b[1;32m     62\u001b[0m )\n\u001b[0;32m---> 63\u001b[0m \u001b[39mreturn\u001b[39;00m \u001b[39msuper\u001b[39;49m()\u001b[39m.\u001b[39;49m\u001b[39m__call__\u001b[39;49m(iterable_with_config)\n",
      "File \u001b[0;32m~/.pyenv/versions/3.10.10/lib/python3.10/site-packages/joblib/parallel.py:1085\u001b[0m, in \u001b[0;36mParallel.__call__\u001b[0;34m(self, iterable)\u001b[0m\n\u001b[1;32m   1076\u001b[0m \u001b[39mtry\u001b[39;00m:\n\u001b[1;32m   1077\u001b[0m     \u001b[39m# Only set self._iterating to True if at least a batch\u001b[39;00m\n\u001b[1;32m   1078\u001b[0m     \u001b[39m# was dispatched. In particular this covers the edge\u001b[39;00m\n\u001b[0;32m   (...)\u001b[0m\n\u001b[1;32m   1082\u001b[0m     \u001b[39m# was very quick and its callback already dispatched all the\u001b[39;00m\n\u001b[1;32m   1083\u001b[0m     \u001b[39m# remaining jobs.\u001b[39;00m\n\u001b[1;32m   1084\u001b[0m     \u001b[39mself\u001b[39m\u001b[39m.\u001b[39m_iterating \u001b[39m=\u001b[39m \u001b[39mFalse\u001b[39;00m\n\u001b[0;32m-> 1085\u001b[0m     \u001b[39mif\u001b[39;00m \u001b[39mself\u001b[39;49m\u001b[39m.\u001b[39;49mdispatch_one_batch(iterator):\n\u001b[1;32m   1086\u001b[0m         \u001b[39mself\u001b[39m\u001b[39m.\u001b[39m_iterating \u001b[39m=\u001b[39m \u001b[39mself\u001b[39m\u001b[39m.\u001b[39m_original_iterator \u001b[39mis\u001b[39;00m \u001b[39mnot\u001b[39;00m \u001b[39mNone\u001b[39;00m\n\u001b[1;32m   1088\u001b[0m     \u001b[39mwhile\u001b[39;00m \u001b[39mself\u001b[39m\u001b[39m.\u001b[39mdispatch_one_batch(iterator):\n",
      "File \u001b[0;32m~/.pyenv/versions/3.10.10/lib/python3.10/site-packages/joblib/parallel.py:901\u001b[0m, in \u001b[0;36mParallel.dispatch_one_batch\u001b[0;34m(self, iterator)\u001b[0m\n\u001b[1;32m    899\u001b[0m     \u001b[39mreturn\u001b[39;00m \u001b[39mFalse\u001b[39;00m\n\u001b[1;32m    900\u001b[0m \u001b[39melse\u001b[39;00m:\n\u001b[0;32m--> 901\u001b[0m     \u001b[39mself\u001b[39;49m\u001b[39m.\u001b[39;49m_dispatch(tasks)\n\u001b[1;32m    902\u001b[0m     \u001b[39mreturn\u001b[39;00m \u001b[39mTrue\u001b[39;00m\n",
      "File \u001b[0;32m~/.pyenv/versions/3.10.10/lib/python3.10/site-packages/joblib/parallel.py:819\u001b[0m, in \u001b[0;36mParallel._dispatch\u001b[0;34m(self, batch)\u001b[0m\n\u001b[1;32m    817\u001b[0m \u001b[39mwith\u001b[39;00m \u001b[39mself\u001b[39m\u001b[39m.\u001b[39m_lock:\n\u001b[1;32m    818\u001b[0m     job_idx \u001b[39m=\u001b[39m \u001b[39mlen\u001b[39m(\u001b[39mself\u001b[39m\u001b[39m.\u001b[39m_jobs)\n\u001b[0;32m--> 819\u001b[0m     job \u001b[39m=\u001b[39m \u001b[39mself\u001b[39;49m\u001b[39m.\u001b[39;49m_backend\u001b[39m.\u001b[39;49mapply_async(batch, callback\u001b[39m=\u001b[39;49mcb)\n\u001b[1;32m    820\u001b[0m     \u001b[39m# A job can complete so quickly than its callback is\u001b[39;00m\n\u001b[1;32m    821\u001b[0m     \u001b[39m# called before we get here, causing self._jobs to\u001b[39;00m\n\u001b[1;32m    822\u001b[0m     \u001b[39m# grow. To ensure correct results ordering, .insert is\u001b[39;00m\n\u001b[1;32m    823\u001b[0m     \u001b[39m# used (rather than .append) in the following line\u001b[39;00m\n\u001b[1;32m    824\u001b[0m     \u001b[39mself\u001b[39m\u001b[39m.\u001b[39m_jobs\u001b[39m.\u001b[39minsert(job_idx, job)\n",
      "File \u001b[0;32m~/.pyenv/versions/3.10.10/lib/python3.10/site-packages/joblib/_parallel_backends.py:208\u001b[0m, in \u001b[0;36mSequentialBackend.apply_async\u001b[0;34m(self, func, callback)\u001b[0m\n\u001b[1;32m    206\u001b[0m \u001b[39mdef\u001b[39;00m \u001b[39mapply_async\u001b[39m(\u001b[39mself\u001b[39m, func, callback\u001b[39m=\u001b[39m\u001b[39mNone\u001b[39;00m):\n\u001b[1;32m    207\u001b[0m \u001b[39m    \u001b[39m\u001b[39m\"\"\"Schedule a func to be run\"\"\"\u001b[39;00m\n\u001b[0;32m--> 208\u001b[0m     result \u001b[39m=\u001b[39m ImmediateResult(func)\n\u001b[1;32m    209\u001b[0m     \u001b[39mif\u001b[39;00m callback:\n\u001b[1;32m    210\u001b[0m         callback(result)\n",
      "File \u001b[0;32m~/.pyenv/versions/3.10.10/lib/python3.10/site-packages/joblib/_parallel_backends.py:597\u001b[0m, in \u001b[0;36mImmediateResult.__init__\u001b[0;34m(self, batch)\u001b[0m\n\u001b[1;32m    594\u001b[0m \u001b[39mdef\u001b[39;00m \u001b[39m__init__\u001b[39m(\u001b[39mself\u001b[39m, batch):\n\u001b[1;32m    595\u001b[0m     \u001b[39m# Don't delay the application, to avoid keeping the input\u001b[39;00m\n\u001b[1;32m    596\u001b[0m     \u001b[39m# arguments in memory\u001b[39;00m\n\u001b[0;32m--> 597\u001b[0m     \u001b[39mself\u001b[39m\u001b[39m.\u001b[39mresults \u001b[39m=\u001b[39m batch()\n",
      "File \u001b[0;32m~/.pyenv/versions/3.10.10/lib/python3.10/site-packages/joblib/parallel.py:288\u001b[0m, in \u001b[0;36mBatchedCalls.__call__\u001b[0;34m(self)\u001b[0m\n\u001b[1;32m    284\u001b[0m \u001b[39mdef\u001b[39;00m \u001b[39m__call__\u001b[39m(\u001b[39mself\u001b[39m):\n\u001b[1;32m    285\u001b[0m     \u001b[39m# Set the default nested backend to self._backend but do not set the\u001b[39;00m\n\u001b[1;32m    286\u001b[0m     \u001b[39m# change the default number of processes to -1\u001b[39;00m\n\u001b[1;32m    287\u001b[0m     \u001b[39mwith\u001b[39;00m parallel_backend(\u001b[39mself\u001b[39m\u001b[39m.\u001b[39m_backend, n_jobs\u001b[39m=\u001b[39m\u001b[39mself\u001b[39m\u001b[39m.\u001b[39m_n_jobs):\n\u001b[0;32m--> 288\u001b[0m         \u001b[39mreturn\u001b[39;00m [func(\u001b[39m*\u001b[39margs, \u001b[39m*\u001b[39m\u001b[39m*\u001b[39mkwargs)\n\u001b[1;32m    289\u001b[0m                 \u001b[39mfor\u001b[39;00m func, args, kwargs \u001b[39min\u001b[39;00m \u001b[39mself\u001b[39m\u001b[39m.\u001b[39mitems]\n",
      "File \u001b[0;32m~/.pyenv/versions/3.10.10/lib/python3.10/site-packages/joblib/parallel.py:288\u001b[0m, in \u001b[0;36m<listcomp>\u001b[0;34m(.0)\u001b[0m\n\u001b[1;32m    284\u001b[0m \u001b[39mdef\u001b[39;00m \u001b[39m__call__\u001b[39m(\u001b[39mself\u001b[39m):\n\u001b[1;32m    285\u001b[0m     \u001b[39m# Set the default nested backend to self._backend but do not set the\u001b[39;00m\n\u001b[1;32m    286\u001b[0m     \u001b[39m# change the default number of processes to -1\u001b[39;00m\n\u001b[1;32m    287\u001b[0m     \u001b[39mwith\u001b[39;00m parallel_backend(\u001b[39mself\u001b[39m\u001b[39m.\u001b[39m_backend, n_jobs\u001b[39m=\u001b[39m\u001b[39mself\u001b[39m\u001b[39m.\u001b[39m_n_jobs):\n\u001b[0;32m--> 288\u001b[0m         \u001b[39mreturn\u001b[39;00m [func(\u001b[39m*\u001b[39;49margs, \u001b[39m*\u001b[39;49m\u001b[39m*\u001b[39;49mkwargs)\n\u001b[1;32m    289\u001b[0m                 \u001b[39mfor\u001b[39;00m func, args, kwargs \u001b[39min\u001b[39;00m \u001b[39mself\u001b[39m\u001b[39m.\u001b[39mitems]\n",
      "File \u001b[0;32m~/.pyenv/versions/3.10.10/lib/python3.10/site-packages/sklearn/utils/parallel.py:123\u001b[0m, in \u001b[0;36m_FuncWrapper.__call__\u001b[0;34m(self, *args, **kwargs)\u001b[0m\n\u001b[1;32m    121\u001b[0m     config \u001b[39m=\u001b[39m {}\n\u001b[1;32m    122\u001b[0m \u001b[39mwith\u001b[39;00m config_context(\u001b[39m*\u001b[39m\u001b[39m*\u001b[39mconfig):\n\u001b[0;32m--> 123\u001b[0m     \u001b[39mreturn\u001b[39;00m \u001b[39mself\u001b[39;49m\u001b[39m.\u001b[39;49mfunction(\u001b[39m*\u001b[39;49margs, \u001b[39m*\u001b[39;49m\u001b[39m*\u001b[39;49mkwargs)\n",
      "File \u001b[0;32m~/.pyenv/versions/3.10.10/lib/python3.10/site-packages/sklearn/neighbors/_base.py:685\u001b[0m, in \u001b[0;36m_tree_query_parallel_helper\u001b[0;34m(tree, *args, **kwargs)\u001b[0m\n\u001b[1;32m    679\u001b[0m \u001b[39mdef\u001b[39;00m \u001b[39m_tree_query_parallel_helper\u001b[39m(tree, \u001b[39m*\u001b[39margs, \u001b[39m*\u001b[39m\u001b[39m*\u001b[39mkwargs):\n\u001b[1;32m    680\u001b[0m \u001b[39m    \u001b[39m\u001b[39m\"\"\"Helper for the Parallel calls in KNeighborsMixin.kneighbors.\u001b[39;00m\n\u001b[1;32m    681\u001b[0m \n\u001b[1;32m    682\u001b[0m \u001b[39m    The Cython method tree.query is not directly picklable by cloudpickle\u001b[39;00m\n\u001b[1;32m    683\u001b[0m \u001b[39m    under PyPy.\u001b[39;00m\n\u001b[1;32m    684\u001b[0m \u001b[39m    \"\"\"\u001b[39;00m\n\u001b[0;32m--> 685\u001b[0m     \u001b[39mreturn\u001b[39;00m tree\u001b[39m.\u001b[39;49mquery(\u001b[39m*\u001b[39;49margs, \u001b[39m*\u001b[39;49m\u001b[39m*\u001b[39;49mkwargs)\n",
      "\u001b[0;31mKeyboardInterrupt\u001b[0m: "
     ]
    }
   ],
   "source": [
    "Colony.generate_next_ants(number_of_ants_next_generation=4,\n",
    "                          q=0.8,\n",
    "                          phero_rate_decay=0.5,\n",
    "                          THRESHOLD=[0.95, 'landa', 0.80],\n",
    "                          alpha=0.8,\n",
    "                          beta=0.01,\n",
    "                          with_core=True,\n",
    "                          change_pheromone=True)\n",
    "# Colony.generate_next_ants(4, 1, 0.5, [0.97, 'landa', 0.90], 0.8, 0.2)\n",
    "# Colony.generate_next_ants(4, 1, 0.5, [0.97, 'landa', 0.95], 0.8, 0.2)"
   ]
  },
  {
   "cell_type": "code",
   "execution_count": 45,
   "metadata": {},
   "outputs": [
    {
     "data": {
      "text/plain": [
       "{'Colony Number:2 ant-num:0': [9], 'Colony Number:2 ant-num:1': [21]}"
      ]
     },
     "execution_count": 45,
     "metadata": {},
     "output_type": "execute_result"
    }
   ],
   "source": [
    "Colonies.overall_ant_route"
   ]
  },
  {
   "cell_type": "code",
   "execution_count": 123,
   "metadata": {},
   "outputs": [
    {
     "name": "stdout",
     "output_type": "stream",
     "text": [
      "initial : {0: [31, 26, 0], 1: [15, 24, 30], 2: [23, 2, 0], 3: [7, 30, 1], 4: [2, 14, 1]}\n",
      "next GEN : {'Colony Number:2 ant-num:0': [21, 9, 33, 32, 7, 15, 36, 29, 31, 16, 18, 6, 23, 14, 35, 1, 27, 22, 5, 0], 'Colony Number:2 ant-num:1': [21, 9, 33, 32, 7, 15, 36, 29, 31, 16, 18, 6, 23, 14, 35, 1, 27, 22, 5, 0]}\n"
     ]
    }
   ],
   "source": [
    "print(f'initial : {Colonies.overall_ant_route_init}')\n",
    "print(f'next GEN : {Colonies.overall_ant_route}')"
   ]
  },
  {
   "cell_type": "code",
   "execution_count": 125,
   "metadata": {},
   "outputs": [
    {
     "name": "stdout",
     "output_type": "stream",
     "text": [
      "pheromone : [[0.5  0.5  0.5  0.5  0.5  0.5  0.5  0.5  0.5  0.5  0.5  0.5  0.5  0.5\n",
      "  0.5  0.5  0.5  0.5  0.5  0.5  0.5  0.5  0.5  0.5  0.5  0.5  0.5  0.5\n",
      "  0.5  0.5  0.5  0.5  0.5  0.5  0.5  0.5  0.5 ]\n",
      " [0.5  0.5  0.5  0.5  0.5  0.5  0.5  0.5  0.5  0.5  0.5  0.5  0.5  0.5\n",
      "  0.5  0.5  0.5  0.5  0.5  0.5  0.5  0.5  0.5  0.5  0.5  0.5  0.5  0.54\n",
      "  0.5  0.5  0.5  0.5  0.5  0.5  0.5  0.5  0.5 ]\n",
      " [0.5  0.5  0.5  0.5  0.5  0.5  0.5  0.5  0.5  0.5  0.5  0.5  0.5  0.5\n",
      "  0.5  0.5  0.5  0.5  0.5  0.5  0.5  0.5  0.5  0.5  0.5  0.5  0.5  0.5\n",
      "  0.5  0.5  0.5  0.5  0.5  0.5  0.5  0.5  0.5 ]\n",
      " [0.5  0.5  0.5  0.5  0.5  0.5  0.5  0.5  0.5  0.5  0.5  0.5  0.5  0.5\n",
      "  0.5  0.5  0.5  0.5  0.5  0.5  0.5  0.5  0.5  0.5  0.5  0.5  0.5  0.5\n",
      "  0.5  0.5  0.5  0.5  0.5  0.5  0.5  0.5  0.5 ]\n",
      " [0.5  0.5  0.5  0.5  0.5  0.5  0.5  0.5  0.5  0.5  0.5  0.5  0.5  0.5\n",
      "  0.5  0.5  0.5  0.5  0.5  0.5  0.5  0.5  0.5  0.5  0.5  0.5  0.5  0.5\n",
      "  0.5  0.5  0.5  0.5  0.5  0.5  0.5  0.5  0.5 ]\n",
      " [0.54 0.5  0.5  0.5  0.5  0.5  0.5  0.5  0.5  0.5  0.5  0.5  0.5  0.5\n",
      "  0.5  0.5  0.5  0.5  0.5  0.5  0.5  0.5  0.5  0.5  0.5  0.5  0.5  0.5\n",
      "  0.5  0.5  0.5  0.5  0.5  0.5  0.5  0.5  0.5 ]\n",
      " [0.5  0.5  0.5  0.5  0.5  0.5  0.5  0.5  0.5  0.5  0.5  0.5  0.5  0.5\n",
      "  0.5  0.5  0.5  0.5  0.5  0.5  0.5  0.5  0.5  0.54 0.5  0.5  0.5  0.5\n",
      "  0.5  0.5  0.5  0.5  0.5  0.5  0.5  0.5  0.5 ]\n",
      " [0.5  0.5  0.5  0.5  0.5  0.5  0.5  0.5  0.5  0.5  0.5  0.5  0.5  0.5\n",
      "  0.5  0.54 0.5  0.5  0.5  0.5  0.5  0.5  0.5  0.5  0.5  0.5  0.5  0.5\n",
      "  0.5  0.5  0.5  0.5  0.5  0.5  0.5  0.5  0.5 ]\n",
      " [0.5  0.5  0.5  0.5  0.5  0.5  0.5  0.5  0.5  0.5  0.5  0.5  0.5  0.5\n",
      "  0.5  0.5  0.5  0.5  0.5  0.5  0.5  0.5  0.5  0.5  0.5  0.5  0.5  0.5\n",
      "  0.5  0.5  0.5  0.5  0.5  0.5  0.5  0.5  0.5 ]\n",
      " [0.5  0.5  0.5  0.5  0.5  0.5  0.5  0.5  0.5  0.5  0.5  0.5  0.5  0.5\n",
      "  0.5  0.5  0.5  0.5  0.5  0.5  0.5  0.5  0.5  0.5  0.5  0.5  0.5  0.5\n",
      "  0.5  0.5  0.5  0.5  0.5  0.54 0.5  0.5  0.5 ]\n",
      " [0.5  0.5  0.5  0.5  0.5  0.5  0.5  0.5  0.5  0.5  0.5  0.5  0.5  0.5\n",
      "  0.5  0.5  0.5  0.5  0.5  0.5  0.5  0.5  0.5  0.5  0.5  0.5  0.5  0.5\n",
      "  0.5  0.5  0.5  0.5  0.5  0.5  0.5  0.5  0.5 ]\n",
      " [0.5  0.5  0.5  0.5  0.5  0.5  0.5  0.5  0.5  0.5  0.5  0.5  0.5  0.5\n",
      "  0.5  0.5  0.5  0.5  0.5  0.5  0.5  0.5  0.5  0.5  0.5  0.5  0.5  0.5\n",
      "  0.5  0.5  0.5  0.5  0.5  0.5  0.5  0.5  0.5 ]\n",
      " [0.5  0.5  0.5  0.5  0.5  0.5  0.5  0.5  0.5  0.5  0.5  0.5  0.5  0.5\n",
      "  0.5  0.5  0.5  0.5  0.5  0.5  0.5  0.5  0.5  0.5  0.5  0.5  0.5  0.5\n",
      "  0.5  0.5  0.5  0.5  0.5  0.5  0.5  0.5  0.5 ]\n",
      " [0.5  0.5  0.5  0.5  0.5  0.5  0.5  0.5  0.5  0.5  0.5  0.5  0.5  0.5\n",
      "  0.5  0.5  0.5  0.5  0.5  0.5  0.5  0.5  0.5  0.5  0.5  0.5  0.5  0.5\n",
      "  0.5  0.5  0.5  0.5  0.5  0.5  0.5  0.5  0.5 ]\n",
      " [0.5  0.5  0.5  0.5  0.5  0.5  0.5  0.5  0.5  0.5  0.5  0.5  0.5  0.5\n",
      "  0.5  0.5  0.5  0.5  0.5  0.5  0.5  0.5  0.5  0.5  0.5  0.5  0.5  0.5\n",
      "  0.5  0.5  0.5  0.5  0.5  0.5  0.5  0.54 0.5 ]\n",
      " [0.5  0.5  0.5  0.5  0.5  0.5  0.5  0.5  0.5  0.5  0.5  0.5  0.5  0.5\n",
      "  0.5  0.5  0.5  0.5  0.5  0.5  0.5  0.5  0.5  0.5  0.5  0.5  0.5  0.5\n",
      "  0.5  0.5  0.5  0.5  0.5  0.5  0.5  0.5  0.54]\n",
      " [0.5  0.5  0.5  0.5  0.5  0.5  0.5  0.5  0.5  0.5  0.5  0.5  0.5  0.5\n",
      "  0.5  0.5  0.5  0.5  0.54 0.5  0.5  0.5  0.5  0.5  0.5  0.5  0.5  0.5\n",
      "  0.5  0.5  0.5  0.5  0.5  0.5  0.5  0.5  0.5 ]\n",
      " [0.5  0.5  0.5  0.5  0.5  0.5  0.5  0.5  0.5  0.5  0.5  0.5  0.5  0.5\n",
      "  0.5  0.5  0.5  0.5  0.5  0.5  0.5  0.5  0.5  0.5  0.5  0.5  0.5  0.5\n",
      "  0.5  0.5  0.5  0.5  0.5  0.5  0.5  0.5  0.5 ]\n",
      " [0.5  0.5  0.5  0.5  0.5  0.5  0.54 0.5  0.5  0.5  0.5  0.5  0.5  0.5\n",
      "  0.5  0.5  0.5  0.5  0.5  0.5  0.5  0.5  0.5  0.5  0.5  0.5  0.5  0.5\n",
      "  0.5  0.5  0.5  0.5  0.5  0.5  0.5  0.5  0.5 ]\n",
      " [0.5  0.5  0.5  0.5  0.5  0.5  0.5  0.5  0.5  0.5  0.5  0.5  0.5  0.5\n",
      "  0.5  0.5  0.5  0.5  0.5  0.5  0.5  0.5  0.5  0.5  0.5  0.5  0.5  0.5\n",
      "  0.5  0.5  0.5  0.5  0.5  0.5  0.5  0.5  0.5 ]\n",
      " [0.5  0.5  0.5  0.5  0.5  0.5  0.5  0.5  0.5  0.5  0.5  0.5  0.5  0.5\n",
      "  0.5  0.5  0.5  0.5  0.5  0.5  0.5  0.5  0.5  0.5  0.5  0.5  0.5  0.5\n",
      "  0.5  0.5  0.5  0.5  0.5  0.5  0.5  0.5  0.5 ]\n",
      " [0.5  0.5  0.5  0.5  0.5  0.5  0.5  0.5  0.5  0.54 0.5  0.5  0.5  0.5\n",
      "  0.5  0.5  0.5  0.5  0.5  0.5  0.5  0.5  0.5  0.5  0.5  0.5  0.5  0.5\n",
      "  0.5  0.5  0.5  0.5  0.5  0.5  0.5  0.5  0.5 ]\n",
      " [0.5  0.5  0.5  0.5  0.5  0.54 0.5  0.5  0.5  0.5  0.5  0.5  0.5  0.5\n",
      "  0.5  0.5  0.5  0.5  0.5  0.5  0.5  0.5  0.5  0.5  0.5  0.5  0.5  0.5\n",
      "  0.5  0.5  0.5  0.5  0.5  0.5  0.5  0.5  0.5 ]\n",
      " [0.5  0.5  0.5  0.5  0.5  0.5  0.5  0.5  0.5  0.5  0.5  0.5  0.5  0.5\n",
      "  0.54 0.5  0.5  0.5  0.5  0.5  0.5  0.5  0.5  0.5  0.5  0.5  0.5  0.5\n",
      "  0.5  0.5  0.5  0.5  0.5  0.5  0.5  0.5  0.5 ]\n",
      " [0.5  0.5  0.5  0.5  0.5  0.5  0.5  0.5  0.5  0.5  0.5  0.5  0.5  0.5\n",
      "  0.5  0.5  0.5  0.5  0.5  0.5  0.5  0.5  0.5  0.5  0.5  0.5  0.5  0.5\n",
      "  0.5  0.5  0.5  0.5  0.5  0.5  0.5  0.5  0.5 ]\n",
      " [0.5  0.5  0.5  0.5  0.5  0.5  0.5  0.5  0.5  0.5  0.5  0.5  0.5  0.5\n",
      "  0.5  0.5  0.5  0.5  0.5  0.5  0.5  0.5  0.5  0.5  0.5  0.5  0.5  0.5\n",
      "  0.5  0.5  0.5  0.5  0.5  0.5  0.5  0.5  0.5 ]\n",
      " [0.5  0.5  0.5  0.5  0.5  0.5  0.5  0.5  0.5  0.5  0.5  0.5  0.5  0.5\n",
      "  0.5  0.5  0.5  0.5  0.5  0.5  0.5  0.5  0.5  0.5  0.5  0.5  0.5  0.5\n",
      "  0.5  0.5  0.5  0.5  0.5  0.5  0.5  0.5  0.5 ]\n",
      " [0.5  0.5  0.5  0.5  0.5  0.5  0.5  0.5  0.5  0.5  0.5  0.5  0.5  0.5\n",
      "  0.5  0.5  0.5  0.5  0.5  0.5  0.5  0.5  0.54 0.5  0.5  0.5  0.5  0.5\n",
      "  0.5  0.5  0.5  0.5  0.5  0.5  0.5  0.5  0.5 ]\n",
      " [0.5  0.5  0.5  0.5  0.5  0.5  0.5  0.5  0.5  0.5  0.5  0.5  0.5  0.5\n",
      "  0.5  0.5  0.5  0.5  0.5  0.5  0.5  0.5  0.5  0.5  0.5  0.5  0.5  0.5\n",
      "  0.5  0.5  0.5  0.5  0.5  0.5  0.5  0.5  0.5 ]\n",
      " [0.5  0.5  0.5  0.5  0.5  0.5  0.5  0.5  0.5  0.5  0.5  0.5  0.5  0.5\n",
      "  0.5  0.5  0.5  0.5  0.5  0.5  0.5  0.5  0.5  0.5  0.5  0.5  0.5  0.5\n",
      "  0.5  0.5  0.5  0.54 0.5  0.5  0.5  0.5  0.5 ]\n",
      " [0.5  0.5  0.5  0.5  0.5  0.5  0.5  0.5  0.5  0.5  0.5  0.5  0.5  0.5\n",
      "  0.5  0.5  0.5  0.5  0.5  0.5  0.5  0.5  0.5  0.5  0.5  0.5  0.5  0.5\n",
      "  0.5  0.5  0.5  0.5  0.5  0.5  0.5  0.5  0.5 ]\n",
      " [0.5  0.5  0.5  0.5  0.5  0.5  0.5  0.5  0.5  0.5  0.5  0.5  0.5  0.5\n",
      "  0.5  0.5  0.54 0.5  0.5  0.5  0.5  0.5  0.5  0.5  0.5  0.5  0.5  0.5\n",
      "  0.5  0.5  0.5  0.5  0.5  0.5  0.5  0.5  0.5 ]\n",
      " [0.5  0.5  0.5  0.5  0.5  0.5  0.5  0.54 0.5  0.5  0.5  0.5  0.5  0.5\n",
      "  0.5  0.5  0.5  0.5  0.5  0.5  0.5  0.5  0.5  0.5  0.5  0.5  0.5  0.5\n",
      "  0.5  0.5  0.5  0.5  0.5  0.5  0.5  0.5  0.5 ]\n",
      " [0.5  0.5  0.5  0.5  0.5  0.5  0.5  0.5  0.5  0.5  0.5  0.5  0.5  0.5\n",
      "  0.5  0.5  0.5  0.5  0.5  0.5  0.5  0.5  0.5  0.5  0.5  0.5  0.5  0.5\n",
      "  0.5  0.5  0.5  0.5  0.54 0.5  0.5  0.5  0.5 ]\n",
      " [0.5  0.5  0.5  0.5  0.5  0.5  0.5  0.5  0.5  0.5  0.5  0.5  0.5  0.5\n",
      "  0.5  0.5  0.5  0.5  0.5  0.5  0.5  0.5  0.5  0.5  0.5  0.5  0.5  0.5\n",
      "  0.5  0.5  0.5  0.5  0.5  0.5  0.5  0.5  0.5 ]\n",
      " [0.5  0.54 0.5  0.5  0.5  0.5  0.5  0.5  0.5  0.5  0.5  0.5  0.5  0.5\n",
      "  0.5  0.5  0.5  0.5  0.5  0.5  0.5  0.5  0.5  0.5  0.5  0.5  0.5  0.5\n",
      "  0.5  0.5  0.5  0.5  0.5  0.5  0.5  0.5  0.5 ]\n",
      " [0.5  0.5  0.5  0.5  0.5  0.5  0.5  0.5  0.5  0.5  0.5  0.5  0.5  0.5\n",
      "  0.5  0.5  0.5  0.5  0.5  0.5  0.5  0.5  0.5  0.5  0.5  0.5  0.5  0.5\n",
      "  0.5  0.54 0.5  0.5  0.5  0.5  0.5  0.5  0.5 ]]\n"
     ]
    }
   ],
   "source": [
    "np.set_printoptions(threshold=np.inf)\n",
    "print(f'pheromone : {Colonies.pheromone}') "
   ]
  },
  {
   "cell_type": "code",
   "execution_count": null,
   "metadata": {},
   "outputs": [],
   "source": []
  },
  {
   "attachments": {},
   "cell_type": "markdown",
   "metadata": {},
   "source": [
    "# transfer to GAN"
   ]
  },
  {
   "cell_type": "code",
   "execution_count": 5,
   "metadata": {},
   "outputs": [],
   "source": [
    "D = Lf*(1 + landa)\n",
    "Lf = max(ant_route accuracy)\n",
    "G = Li\n",
    "if Li < D:\n",
    "    change_phromone()"
   ]
  },
  {
   "cell_type": "code",
   "execution_count": 44,
   "metadata": {},
   "outputs": [
    {
     "data": {
      "text/plain": [
       "3196"
      ]
     },
     "execution_count": 44,
     "metadata": {},
     "output_type": "execute_result"
    }
   ],
   "source": [
    "len(ns)"
   ]
  },
  {
   "cell_type": "code",
   "execution_count": 49,
   "metadata": {},
   "outputs": [
    {
     "name": "stdout",
     "output_type": "stream",
     "text": [
      "0.6874217772215269\n"
     ]
    }
   ],
   "source": [
    "\n",
    "X = ns.iloc[:, [36, 1, 2]].values\n",
    "y = Y.values.squeeze()\n",
    "clf = FRPS()\n",
    "## FRPS() choose instances that are not ROUGH!\n",
    "## instances with quality measure more than maximum tau\n",
    "selected_dataset = clf(X, y)\n",
    "print(len(selected_dataset[0])/len(ns))\n",
    "# len(selected_dataset[1])"
   ]
  },
  {
   "cell_type": "code",
   "execution_count": 46,
   "metadata": {},
   "outputs": [
    {
     "data": {
      "text/plain": [
       "3196"
      ]
     },
     "execution_count": 46,
     "metadata": {},
     "output_type": "execute_result"
    }
   ],
   "source": [
    "len(selected_dataset[0])"
   ]
  },
  {
   "cell_type": "code",
   "execution_count": 21,
   "metadata": {},
   "outputs": [
    {
     "data": {
      "text/plain": [
       "1824"
      ]
     },
     "execution_count": 21,
     "metadata": {},
     "output_type": "execute_result"
    }
   ],
   "source": [
    "X = ns.iloc[:, [32]].values\n",
    "y = Y.values.squeeze()\n",
    "clf = FRPS()\n",
    "## FRPS() choose instances that are not ROUGH!\n",
    "## instances with quality measure more than maximum tau\n",
    "selected_dataset = clf(X, y)\n",
    "len(selected_dataset)/len(X)\n",
    "len(selected_dataset[0])\n",
    "# round(625 / len(X),3)"
   ]
  },
  {
   "cell_type": "code",
   "execution_count": 14,
   "metadata": {},
   "outputs": [
    {
     "data": {
      "text/plain": [
       "3196"
      ]
     },
     "execution_count": 14,
     "metadata": {},
     "output_type": "execute_result"
    }
   ],
   "source": [
    "selected_dataset[]\n",
    "len(selected_dataset[1])"
   ]
  },
  {
   "cell_type": "code",
   "execution_count": 88,
   "metadata": {},
   "outputs": [
    {
     "data": {
      "text/plain": [
       "{0: [32, 21],\n",
       " 1: [0, 21],\n",
       " 2: [30, 21],\n",
       " 3: [36, 21],\n",
       " 4: [11, 12, 6],\n",
       " 'landa': 0.840738423028786}"
      ]
     },
     "execution_count": 88,
     "metadata": {},
     "output_type": "execute_result"
    }
   ],
   "source": [
    "Colony.log"
   ]
  },
  {
   "cell_type": "code",
   "execution_count": null,
   "metadata": {},
   "outputs": [],
   "source": []
  }
 ],
 "metadata": {
  "kernelspec": {
   "display_name": "Python 3",
   "language": "python",
   "name": "python3"
  },
  "language_info": {
   "codemirror_mode": {
    "name": "ipython",
    "version": 3
   },
   "file_extension": ".py",
   "mimetype": "text/x-python",
   "name": "python",
   "nbconvert_exporter": "python",
   "pygments_lexer": "ipython3",
   "version": "3.10.10"
  },
  "orig_nbformat": 4
 },
 "nbformat": 4,
 "nbformat_minor": 2
}
