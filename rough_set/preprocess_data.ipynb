{
 "cells": [
  {
   "cell_type": "code",
   "execution_count": 29,
   "metadata": {},
   "outputs": [],
   "source": [
    "import networkx as nx\n",
    "import pandas as pd\n",
    "import numpy as np\n",
    "from pathlib import Path\n",
    "from frlearn.classifiers import FRNN\n",
    "from sklearn.model_selection import train_test_split\n",
    "from frlearn.base import probabilities_from_scores\n",
    "from sklearn.metrics import roc_auc_score\n",
    "from frlearn.neighbours.instance_preprocessors import FRPS\n",
    "from sklearn.neural_network import MLPClassifier\n",
    "import tensorflow as tf\n",
    "from sklearn.metrics import (accuracy_score,completeness_score,\n",
    "                            get_scorer,mean_absolute_error,r2_score,ConfusionMatrixDisplay)\n",
    "from sklearn import datasets\n",
    "from Main import Colony as Colony\n"
   ]
  },
  {
   "cell_type": "markdown",
   "metadata": {},
   "source": [
    "# ZOO DATASET"
   ]
  },
  {
   "cell_type": "code",
   "execution_count": 51,
   "metadata": {},
   "outputs": [
    {
     "data": {
      "text/plain": [
       "0     1\n",
       "1     4\n",
       "2     1\n",
       "3     1\n",
       "4     1\n",
       "     ..\n",
       "95    1\n",
       "96    6\n",
       "97    1\n",
       "98    7\n",
       "99    2\n",
       "Name: 1.7, Length: 100, dtype: int64"
      ]
     },
     "execution_count": 51,
     "metadata": {},
     "output_type": "execute_result"
    }
   ],
   "source": [
    "zoo = pd.read_csv('C:/Users/TESLATOR/projects/rough_set/datasts/zoo/zoo.data')\n",
    "ns = zoo\n",
    "y = zoo.iloc[:,[-1]]\n",
    "Y = y[y.columns[-1]]\n",
    "Y\n"
   ]
  },
  {
   "cell_type": "code",
   "execution_count": null,
   "metadata": {},
   "outputs": [],
   "source": []
  }
 ],
 "metadata": {
  "kernelspec": {
   "display_name": "Python 3",
   "language": "python",
   "name": "python3"
  },
  "language_info": {
   "codemirror_mode": {
    "name": "ipython",
    "version": 3
   },
   "file_extension": ".py",
   "mimetype": "text/x-python",
   "name": "python",
   "nbconvert_exporter": "python",
   "pygments_lexer": "ipython3",
   "version": "3.11.5"
  },
  "orig_nbformat": 4
 },
 "nbformat": 4,
 "nbformat_minor": 2
}
