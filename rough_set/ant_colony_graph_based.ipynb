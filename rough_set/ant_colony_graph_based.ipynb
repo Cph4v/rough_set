{
 "cells": [
  {
   "cell_type": "code",
   "execution_count": 1,
   "metadata": {},
   "outputs": [],
   "source": [
    "import networkx as nx\n",
    "import pandas as pd\n",
    "import numpy as np\n",
    "from sklearn.feature_selection import mutual_info_classif\n",
    "from pathlib import Path\n",
    "from frlearn.classifiers import FRNN\n",
    "from sklearn.model_selection import train_test_split\n",
    "from frlearn.base import probabilities_from_scores\n",
    "from sklearn.metrics import roc_auc_score\n",
    "from frlearn.neighbours.instance_preprocessors import FRPS\n",
    "import time\n",
    "\n",
    "from Ant import Colony as Colony1\n",
    "from Ant import Colonies as Colonies1\n",
    "from Main import Colony,Colonies\n"
   ]
  },
  {
   "cell_type": "code",
   "execution_count": 2,
   "metadata": {},
   "outputs": [],
   "source": [
    "main_colony = Colony()\n",
    "ant_colony1 = Colony1()\n",
    "main_colony2 = Colony()"
   ]
  },
  {
   "cell_type": "code",
   "execution_count": 3,
   "metadata": {},
   "outputs": [
    {
     "name": "stdout",
     "output_type": "stream",
     "text": [
      "9\n",
      "21\n",
      "33\n",
      "[9, 21, 33]\n",
      "ant_route: [24, 18, 36]\n",
      "ant_instance.fg: [0, 1, 2, 3, 4, 5, 6, 7, 8, 9, 10, 11, 12, 13, 14, 15, 16, 17, 19, 20, 21, 22, 23, 25, 26, 27, 28, 29, 30, 31, 32, 33, 34, 35]\n",
      "ant_route: [19, 22, 17]\n",
      "ant_instance.fg: [0, 1, 2, 3, 4, 5, 6, 7, 8, 9, 10, 11, 12, 13, 14, 15, 16, 18, 20, 21, 23, 24, 25, 26, 27, 28, 29, 30, 31, 32, 33, 34, 35, 36]\n",
      "ant_route: [29, 15, 18]\n",
      "ant_instance.fg: [0, 1, 2, 3, 4, 5, 6, 7, 8, 9, 10, 11, 12, 13, 14, 16, 17, 19, 20, 21, 22, 23, 24, 25, 26, 27, 28, 30, 31, 32, 33, 34, 35, 36]\n",
      "ant_route: [13, 18, 27]\n",
      "ant_instance.fg: [0, 1, 2, 3, 4, 5, 6, 7, 8, 9, 10, 11, 12, 14, 15, 16, 17, 19, 20, 21, 22, 23, 24, 25, 26, 28, 29, 30, 31, 32, 33, 34, 35, 36]\n",
      "ant_route: [35, 20, 28]\n",
      "ant_instance.fg: [0, 1, 2, 3, 4, 5, 6, 7, 8, 9, 10, 11, 12, 13, 14, 15, 16, 17, 18, 19, 21, 22, 23, 24, 25, 26, 27, 29, 30, 31, 32, 33, 34, 36]\n",
      "initiall final: [0, 1, 2, 3, 4, 5, 6, 7, 8, 9, 10, 11, 12, 13, 14, 15, 16, 17, 18, 19, 21, 22, 23, 24, 25, 26, 27, 29, 30, 31, 32, 33, 34, 36]\n",
      "#~~~~~~~~~~~~~~~~~~~~~~~~~~~~~~~~~~~~~~~~~~~~~~~~~~~~~~~~~~~~~~~~~~~~~~~~~#\n"
     ]
    }
   ],
   "source": [
    "main_colony.initialize_colony(5, 3, with_core=True, core_accuracy=0.75) "
   ]
  },
  {
   "cell_type": "code",
   "execution_count": 4,
   "metadata": {},
   "outputs": [
    {
     "name": "stdout",
     "output_type": "stream",
     "text": [
      "9\n",
      "21\n",
      "33\n",
      "[9, 21, 33]\n",
      "ant_route: [29, 35, 3]\n",
      "ant_instance.fg: [0, 1, 2, 4, 5, 6, 7, 8, 9, 10, 11, 12, 13, 14, 15, 16, 17, 18, 19, 20, 21, 22, 23, 24, 25, 26, 27, 28, 30, 31, 32, 33, 34, 36]\n",
      "ant_route: [33, 35, 30]\n",
      "ant_instance.fg: [0, 1, 2, 3, 4, 5, 6, 7, 8, 9, 10, 11, 12, 13, 14, 15, 16, 17, 18, 19, 20, 21, 22, 23, 24, 25, 26, 27, 28, 29, 31, 32, 34, 36]\n",
      "ant_route: [22, 19, 11]\n",
      "ant_instance.fg: [0, 1, 2, 3, 4, 5, 6, 7, 8, 9, 10, 12, 13, 14, 15, 16, 17, 18, 20, 21, 23, 24, 25, 26, 27, 28, 29, 30, 31, 32, 33, 34, 35, 36]\n",
      "ant_route: [29, 21, 16]\n",
      "ant_instance.fg: [0, 1, 2, 3, 4, 5, 6, 7, 8, 9, 10, 11, 12, 13, 14, 15, 17, 18, 19, 20, 22, 23, 24, 25, 26, 27, 28, 30, 31, 32, 33, 34, 35, 36]\n",
      "ant_route: [5, 20, 23]\n",
      "ant_instance.fg: [0, 1, 2, 3, 4, 6, 7, 8, 9, 10, 11, 12, 13, 14, 15, 16, 17, 18, 19, 21, 22, 24, 25, 26, 27, 28, 29, 30, 31, 32, 33, 34, 35, 36]\n",
      "initiall final: [0, 1, 2, 3, 4, 6, 7, 8, 9, 10, 11, 12, 13, 14, 15, 16, 17, 18, 19, 21, 22, 24, 25, 26, 27, 28, 29, 30, 31, 32, 33, 34, 35, 36]\n",
      "#~~~~~~~~~~~~~~~~~~~~~~~~~~~~~~~~~~~~~~~~~~~~~~~~~~~~~~~~~~~~~~~~~~~~~~~~~#\n"
     ]
    }
   ],
   "source": [
    "main_colony2.initialize_colony(5, 3, with_core=True, core_accuracy=0.75) "
   ]
  },
  {
   "cell_type": "code",
   "execution_count": 5,
   "metadata": {},
   "outputs": [
    {
     "name": "stdout",
     "output_type": "stream",
     "text": [
      "cls.fg_core in ant class: [0, 1, 2, 3, 4, 5, 6, 7, 8, 10, 11, 12, 13, 14, 15, 16, 17, 18, 19, 20, 22, 23, 24, 25, 26, 27, 28, 29, 30, 31, 32, 34, 35, 36]\n",
      "cls.fg_core in ant class: [0, 1, 2, 3, 4, 5, 6, 7, 8, 10, 11, 12, 13, 14, 15, 16, 17, 18, 19, 20, 22, 23, 24, 25, 26, 27, 28, 29, 30, 31, 34, 35, 36]\n",
      "cls.fg_core in ant class: [0, 1, 2, 3, 4, 5, 6, 8, 10, 11, 12, 13, 14, 15, 16, 17, 18, 19, 20, 22, 23, 24, 25, 26, 27, 28, 29, 30, 31, 34, 35, 36]\n",
      "cls.fg_core in ant class: [0, 1, 2, 3, 4, 5, 6, 8, 10, 11, 12, 13, 14, 16, 17, 18, 19, 20, 22, 23, 24, 25, 26, 27, 28, 29, 30, 31, 34, 35, 36]\n",
      "cls.fg_core in ant class: [0, 1, 2, 3, 4, 5, 6, 8, 10, 11, 12, 13, 14, 16, 17, 18, 19, 20, 22, 23, 24, 25, 26, 27, 28, 29, 30, 31, 34, 35]\n",
      "cls.fg_core in ant class: [0, 1, 2, 3, 4, 5, 6, 8, 10, 11, 12, 13, 14, 16, 17, 18, 19, 20, 22, 23, 24, 25, 26, 27, 28, 30, 31, 34, 35]\n",
      "cls.fg_core in ant class: [0, 1, 2, 3, 4, 5, 6, 8, 10, 11, 12, 13, 14, 16, 17, 18, 19, 20, 22, 23, 24, 25, 26, 27, 28, 30, 34, 35]\n",
      "cls.fg_core in ant class: [0, 1, 2, 3, 4, 5, 6, 8, 10, 11, 12, 13, 14, 17, 18, 19, 20, 22, 23, 24, 25, 26, 27, 28, 30, 34, 35]\n",
      "cls.fg_core in ant class: [0, 1, 2, 3, 4, 5, 6, 8, 10, 11, 12, 13, 14, 17, 19, 20, 22, 23, 24, 25, 26, 27, 28, 30, 34, 35]\n",
      "cls.fg_core in ant class: [0, 1, 2, 3, 4, 5, 8, 10, 11, 12, 13, 14, 17, 19, 20, 22, 23, 24, 25, 26, 27, 28, 30, 34, 35]\n",
      "cls.fg_core in ant class: [0, 1, 2, 3, 4, 5, 8, 10, 11, 12, 13, 14, 17, 19, 20, 22, 24, 25, 26, 27, 28, 30, 34, 35]\n",
      "cls.fg_core in ant class: [0, 1, 2, 3, 4, 5, 8, 10, 11, 12, 13, 17, 19, 20, 22, 24, 25, 26, 27, 28, 30, 34, 35]\n",
      "cls.fg_core in ant class: [0, 1, 2, 3, 4, 5, 8, 10, 11, 12, 13, 17, 19, 20, 22, 24, 25, 26, 27, 28, 30, 34]\n",
      "cls.fg_core in ant class: [0, 2, 3, 4, 5, 8, 10, 11, 12, 13, 17, 19, 20, 22, 24, 25, 26, 27, 28, 30, 34]\n",
      "cls.fg_core in ant class: [0, 2, 3, 4, 5, 8, 10, 11, 12, 13, 17, 19, 20, 22, 24, 25, 26, 28, 30, 34]\n",
      "cls.fg_core in ant class: [0, 2, 3, 4, 5, 8, 10, 11, 12, 13, 17, 19, 20, 24, 25, 26, 28, 30, 34]\n",
      "cls.fg_core in ant class: [0, 2, 3, 4, 8, 10, 11, 12, 13, 17, 19, 20, 24, 25, 26, 28, 30, 34]\n",
      "cls.fg_core in ant class: [2, 3, 4, 8, 10, 11, 12, 13, 17, 19, 20, 24, 25, 26, 28, 30, 34]\n",
      "cls.fg_core in ant class: [3, 4, 8, 10, 11, 12, 13, 17, 19, 20, 24, 25, 26, 28, 30, 34]\n",
      "cls.fg_core in ant class: [4, 8, 10, 11, 12, 13, 17, 19, 20, 24, 25, 26, 28, 30, 34]\n",
      "cls.fg_core in ant class: [8, 10, 11, 12, 13, 17, 19, 20, 24, 25, 26, 28, 30, 34]\n",
      "cls.fg_core in ant class: [10, 11, 12, 13, 17, 19, 20, 24, 25, 26, 28, 30, 34]\n",
      "cls.fg_core in ant class: [11, 12, 13, 17, 19, 20, 24, 25, 26, 28, 30, 34]\n",
      "cls.fg_core in ant class: [12, 13, 17, 19, 20, 24, 25, 26, 28, 30, 34]\n",
      "cls.fg_core in ant class: [13, 17, 19, 20, 24, 25, 26, 28, 30, 34]\n",
      "cls.fg_core in ant class: [17, 19, 20, 24, 25, 26, 28, 30, 34]\n",
      "cls.fg_core in ant class: [19, 20, 24, 25, 26, 28, 30, 34]\n",
      "cls.fg_core in ant class: [20, 24, 25, 26, 28, 30, 34]\n",
      "cls.fg_core in ant class: [24, 25, 26, 28, 30, 34]\n",
      "cls.fg_core in ant class: [25, 26, 28, 30, 34]\n",
      "cls.fg_core in ant class: [26, 28, 30, 34]\n",
      "cls.fg_core in ant class: [28, 30, 34]\n",
      "cls.fg_core in ant class: [30, 34]\n",
      "cls.fg_core in ant class: [34]\n",
      "ant couldnt find route with 0.8245711751854816 accuracy\n",
      "time_per_thesh: 27.13516068458557\n",
      "ant_route: [21, 32, 7, 15, 36, 29, 31, 16, 18, 6, 23, 14, 35, 1, 27, 22, 5, 0, 2, 3, 4, 8, 10, 11, 12, 13, 17, 19, 20, 24, 25, 26, 28, 30, 34]\n",
      "cls.fg_core in ant class: [0, 1, 2, 3, 4, 5, 6, 7, 8, 10, 11, 12, 13, 14, 15, 16, 17, 18, 19, 20, 22, 23, 24, 25, 26, 27, 28, 29, 30, 31, 32, 34, 35, 36]\n",
      "cls.fg_core in ant class: [0, 1, 2, 3, 4, 5, 6, 7, 8, 10, 11, 12, 13, 14, 15, 16, 17, 18, 19, 20, 22, 23, 24, 25, 26, 27, 28, 29, 30, 31, 34, 35, 36]\n",
      "cls.fg_core in ant class: [0, 1, 2, 3, 4, 5, 6, 8, 10, 11, 12, 13, 14, 15, 16, 17, 18, 19, 20, 22, 23, 24, 25, 26, 27, 28, 29, 30, 31, 34, 35, 36]\n",
      "cls.fg_core in ant class: [0, 1, 2, 3, 4, 5, 6, 8, 10, 11, 12, 13, 14, 16, 17, 18, 19, 20, 22, 23, 24, 25, 26, 27, 28, 29, 30, 31, 34, 35, 36]\n",
      "cls.fg_core in ant class: [0, 1, 2, 3, 4, 5, 6, 8, 10, 11, 12, 13, 14, 16, 17, 18, 19, 20, 22, 23, 24, 25, 26, 27, 28, 29, 30, 31, 34, 35]\n",
      "cls.fg_core in ant class: [0, 1, 2, 3, 4, 5, 6, 8, 10, 11, 12, 13, 14, 16, 17, 18, 19, 20, 22, 23, 24, 25, 26, 27, 28, 30, 31, 34, 35]\n",
      "cls.fg_core in ant class: [0, 1, 2, 3, 4, 5, 6, 8, 10, 11, 12, 13, 14, 16, 17, 18, 19, 20, 22, 23, 24, 25, 26, 27, 28, 30, 34, 35]\n",
      "cls.fg_core in ant class: [0, 1, 2, 3, 4, 5, 6, 8, 10, 11, 12, 13, 14, 17, 18, 19, 20, 22, 23, 24, 25, 26, 27, 28, 30, 34, 35]\n",
      "cls.fg_core in ant class: [0, 1, 2, 3, 4, 5, 6, 8, 10, 11, 12, 13, 14, 17, 19, 20, 22, 23, 24, 25, 26, 27, 28, 30, 34, 35]\n",
      "cls.fg_core in ant class: [0, 1, 2, 3, 4, 5, 8, 10, 11, 12, 13, 14, 17, 19, 20, 22, 23, 24, 25, 26, 27, 28, 30, 34, 35]\n",
      "cls.fg_core in ant class: [0, 1, 2, 3, 4, 5, 8, 10, 11, 12, 13, 14, 17, 19, 20, 22, 24, 25, 26, 27, 28, 30, 34, 35]\n",
      "cls.fg_core in ant class: [0, 1, 2, 3, 4, 5, 8, 10, 11, 12, 13, 17, 19, 20, 22, 24, 25, 26, 27, 28, 30, 34, 35]\n",
      "cls.fg_core in ant class: [0, 1, 2, 3, 4, 5, 8, 10, 11, 12, 13, 17, 19, 20, 22, 24, 25, 26, 27, 28, 30, 34]\n",
      "cls.fg_core in ant class: [0, 2, 3, 4, 5, 8, 10, 11, 12, 13, 17, 19, 20, 22, 24, 25, 26, 27, 28, 30, 34]\n",
      "cls.fg_core in ant class: [0, 2, 3, 4, 5, 8, 10, 11, 12, 13, 17, 19, 20, 22, 24, 25, 26, 28, 30, 34]\n",
      "cls.fg_core in ant class: [0, 2, 3, 4, 5, 8, 10, 11, 12, 13, 17, 19, 20, 24, 25, 26, 28, 30, 34]\n",
      "cls.fg_core in ant class: [0, 2, 3, 4, 8, 10, 11, 12, 13, 17, 19, 20, 24, 25, 26, 28, 30, 34]\n",
      "cls.fg_core in ant class: [2, 3, 4, 8, 10, 11, 12, 13, 17, 19, 20, 24, 25, 26, 28, 30, 34]\n",
      "cls.fg_core in ant class: [3, 4, 8, 10, 11, 12, 13, 17, 19, 20, 24, 25, 26, 28, 30, 34]\n",
      "cls.fg_core in ant class: [4, 8, 10, 11, 12, 13, 17, 19, 20, 24, 25, 26, 28, 30, 34]\n",
      "cls.fg_core in ant class: [8, 10, 11, 12, 13, 17, 19, 20, 24, 25, 26, 28, 30, 34]\n",
      "cls.fg_core in ant class: [10, 11, 12, 13, 17, 19, 20, 24, 25, 26, 28, 30, 34]\n",
      "cls.fg_core in ant class: [11, 12, 13, 17, 19, 20, 24, 25, 26, 28, 30, 34]\n",
      "cls.fg_core in ant class: [12, 13, 17, 19, 20, 24, 25, 26, 28, 30, 34]\n",
      "cls.fg_core in ant class: [13, 17, 19, 20, 24, 25, 26, 28, 30, 34]\n",
      "cls.fg_core in ant class: [17, 19, 20, 24, 25, 26, 28, 30, 34]\n",
      "cls.fg_core in ant class: [19, 20, 24, 25, 26, 28, 30, 34]\n",
      "cls.fg_core in ant class: [20, 24, 25, 26, 28, 30, 34]\n",
      "cls.fg_core in ant class: [24, 25, 26, 28, 30, 34]\n",
      "cls.fg_core in ant class: [25, 26, 28, 30, 34]\n",
      "cls.fg_core in ant class: [26, 28, 30, 34]\n",
      "cls.fg_core in ant class: [28, 30, 34]\n",
      "cls.fg_core in ant class: [30, 34]\n",
      "cls.fg_core in ant class: [34]\n",
      "ant couldnt find route with 0.8245711751854816 accuracy\n",
      "time_per_thesh: 28.12088942527771\n",
      "ant_route: [33, 32, 7, 15, 36, 29, 31, 16, 18, 6, 23, 14, 35, 1, 27, 22, 5, 0, 2, 3, 4, 8, 10, 11, 12, 13, 17, 19, 20, 24, 25, 26, 28, 30, 34]\n"
     ]
    }
   ],
   "source": [
    "main_colony2.generate_next_ants(number_of_ants_next_generation=2,\n",
    "                          q=0.8,\n",
    "                          phero_rate_decay=0.5,\n",
    "                          THRESHOLD=[0.95, 'accuracy', 0.80],\n",
    "                          alpha=0.8,\n",
    "                          beta=0.01,\n",
    "                          with_core=True,\n",
    "                          change_pheromone=True)"
   ]
  },
  {
   "cell_type": "code",
   "execution_count": 6,
   "metadata": {},
   "outputs": [
    {
     "ename": "AttributeError",
     "evalue": "type object 'Colonies' has no attribute 'overall_ant_route_init'",
     "output_type": "error",
     "traceback": [
      "\u001b[0;31m---------------------------------------------------------------------------\u001b[0m",
      "\u001b[0;31mAttributeError\u001b[0m                            Traceback (most recent call last)",
      "Cell \u001b[0;32mIn[6], line 1\u001b[0m\n\u001b[0;32m----> 1\u001b[0m \u001b[39mprint\u001b[39m(\u001b[39mf\u001b[39m\u001b[39m'\u001b[39m\u001b[39minitial : \u001b[39m\u001b[39m{\u001b[39;00mColonies\u001b[39m.\u001b[39;49moverall_ant_route_init\u001b[39m}\u001b[39;00m\u001b[39m'\u001b[39m)\n\u001b[1;32m      2\u001b[0m \u001b[39mprint\u001b[39m(\u001b[39mf\u001b[39m\u001b[39m'\u001b[39m\u001b[39mnext GEN : \u001b[39m\u001b[39m{\u001b[39;00mColonies\u001b[39m.\u001b[39moverall_ant_route\u001b[39m}\u001b[39;00m\u001b[39m'\u001b[39m)\n",
      "\u001b[0;31mAttributeError\u001b[0m: type object 'Colonies' has no attribute 'overall_ant_route_init'"
     ]
    }
   ],
   "source": [
    "print(f'initial : {Colonies.overall_ant_route_init}')\n",
    "print(f'next GEN : {Colonies.overall_ant_route}')"
   ]
  },
  {
   "cell_type": "code",
   "execution_count": 45,
   "metadata": {},
   "outputs": [
    {
     "data": {
      "text/plain": [
       "{'Colony Number:2 ant-num:0': [9], 'Colony Number:2 ant-num:1': [21]}"
      ]
     },
     "execution_count": 45,
     "metadata": {},
     "output_type": "execute_result"
    }
   ],
   "source": [
    "Colonies.overall_ant_route"
   ]
  },
  {
   "cell_type": "code",
   "execution_count": 123,
   "metadata": {},
   "outputs": [
    {
     "name": "stdout",
     "output_type": "stream",
     "text": [
      "initial : {0: [31, 26, 0], 1: [15, 24, 30], 2: [23, 2, 0], 3: [7, 30, 1], 4: [2, 14, 1]}\n",
      "next GEN : {'Colony Number:2 ant-num:0': [21, 9, 33, 32, 7, 15, 36, 29, 31, 16, 18, 6, 23, 14, 35, 1, 27, 22, 5, 0], 'Colony Number:2 ant-num:1': [21, 9, 33, 32, 7, 15, 36, 29, 31, 16, 18, 6, 23, 14, 35, 1, 27, 22, 5, 0]}\n"
     ]
    }
   ],
   "source": [
    "print(f'initial : {Colonies.overall_ant_route_init}')\n",
    "print(f'next GEN : {Colonies.overall_ant_route}')"
   ]
  },
  {
   "cell_type": "code",
   "execution_count": 125,
   "metadata": {},
   "outputs": [
    {
     "name": "stdout",
     "output_type": "stream",
     "text": [
      "pheromone : [[0.5  0.5  0.5  0.5  0.5  0.5  0.5  0.5  0.5  0.5  0.5  0.5  0.5  0.5\n",
      "  0.5  0.5  0.5  0.5  0.5  0.5  0.5  0.5  0.5  0.5  0.5  0.5  0.5  0.5\n",
      "  0.5  0.5  0.5  0.5  0.5  0.5  0.5  0.5  0.5 ]\n",
      " [0.5  0.5  0.5  0.5  0.5  0.5  0.5  0.5  0.5  0.5  0.5  0.5  0.5  0.5\n",
      "  0.5  0.5  0.5  0.5  0.5  0.5  0.5  0.5  0.5  0.5  0.5  0.5  0.5  0.54\n",
      "  0.5  0.5  0.5  0.5  0.5  0.5  0.5  0.5  0.5 ]\n",
      " [0.5  0.5  0.5  0.5  0.5  0.5  0.5  0.5  0.5  0.5  0.5  0.5  0.5  0.5\n",
      "  0.5  0.5  0.5  0.5  0.5  0.5  0.5  0.5  0.5  0.5  0.5  0.5  0.5  0.5\n",
      "  0.5  0.5  0.5  0.5  0.5  0.5  0.5  0.5  0.5 ]\n",
      " [0.5  0.5  0.5  0.5  0.5  0.5  0.5  0.5  0.5  0.5  0.5  0.5  0.5  0.5\n",
      "  0.5  0.5  0.5  0.5  0.5  0.5  0.5  0.5  0.5  0.5  0.5  0.5  0.5  0.5\n",
      "  0.5  0.5  0.5  0.5  0.5  0.5  0.5  0.5  0.5 ]\n",
      " [0.5  0.5  0.5  0.5  0.5  0.5  0.5  0.5  0.5  0.5  0.5  0.5  0.5  0.5\n",
      "  0.5  0.5  0.5  0.5  0.5  0.5  0.5  0.5  0.5  0.5  0.5  0.5  0.5  0.5\n",
      "  0.5  0.5  0.5  0.5  0.5  0.5  0.5  0.5  0.5 ]\n",
      " [0.54 0.5  0.5  0.5  0.5  0.5  0.5  0.5  0.5  0.5  0.5  0.5  0.5  0.5\n",
      "  0.5  0.5  0.5  0.5  0.5  0.5  0.5  0.5  0.5  0.5  0.5  0.5  0.5  0.5\n",
      "  0.5  0.5  0.5  0.5  0.5  0.5  0.5  0.5  0.5 ]\n",
      " [0.5  0.5  0.5  0.5  0.5  0.5  0.5  0.5  0.5  0.5  0.5  0.5  0.5  0.5\n",
      "  0.5  0.5  0.5  0.5  0.5  0.5  0.5  0.5  0.5  0.54 0.5  0.5  0.5  0.5\n",
      "  0.5  0.5  0.5  0.5  0.5  0.5  0.5  0.5  0.5 ]\n",
      " [0.5  0.5  0.5  0.5  0.5  0.5  0.5  0.5  0.5  0.5  0.5  0.5  0.5  0.5\n",
      "  0.5  0.54 0.5  0.5  0.5  0.5  0.5  0.5  0.5  0.5  0.5  0.5  0.5  0.5\n",
      "  0.5  0.5  0.5  0.5  0.5  0.5  0.5  0.5  0.5 ]\n",
      " [0.5  0.5  0.5  0.5  0.5  0.5  0.5  0.5  0.5  0.5  0.5  0.5  0.5  0.5\n",
      "  0.5  0.5  0.5  0.5  0.5  0.5  0.5  0.5  0.5  0.5  0.5  0.5  0.5  0.5\n",
      "  0.5  0.5  0.5  0.5  0.5  0.5  0.5  0.5  0.5 ]\n",
      " [0.5  0.5  0.5  0.5  0.5  0.5  0.5  0.5  0.5  0.5  0.5  0.5  0.5  0.5\n",
      "  0.5  0.5  0.5  0.5  0.5  0.5  0.5  0.5  0.5  0.5  0.5  0.5  0.5  0.5\n",
      "  0.5  0.5  0.5  0.5  0.5  0.54 0.5  0.5  0.5 ]\n",
      " [0.5  0.5  0.5  0.5  0.5  0.5  0.5  0.5  0.5  0.5  0.5  0.5  0.5  0.5\n",
      "  0.5  0.5  0.5  0.5  0.5  0.5  0.5  0.5  0.5  0.5  0.5  0.5  0.5  0.5\n",
      "  0.5  0.5  0.5  0.5  0.5  0.5  0.5  0.5  0.5 ]\n",
      " [0.5  0.5  0.5  0.5  0.5  0.5  0.5  0.5  0.5  0.5  0.5  0.5  0.5  0.5\n",
      "  0.5  0.5  0.5  0.5  0.5  0.5  0.5  0.5  0.5  0.5  0.5  0.5  0.5  0.5\n",
      "  0.5  0.5  0.5  0.5  0.5  0.5  0.5  0.5  0.5 ]\n",
      " [0.5  0.5  0.5  0.5  0.5  0.5  0.5  0.5  0.5  0.5  0.5  0.5  0.5  0.5\n",
      "  0.5  0.5  0.5  0.5  0.5  0.5  0.5  0.5  0.5  0.5  0.5  0.5  0.5  0.5\n",
      "  0.5  0.5  0.5  0.5  0.5  0.5  0.5  0.5  0.5 ]\n",
      " [0.5  0.5  0.5  0.5  0.5  0.5  0.5  0.5  0.5  0.5  0.5  0.5  0.5  0.5\n",
      "  0.5  0.5  0.5  0.5  0.5  0.5  0.5  0.5  0.5  0.5  0.5  0.5  0.5  0.5\n",
      "  0.5  0.5  0.5  0.5  0.5  0.5  0.5  0.5  0.5 ]\n",
      " [0.5  0.5  0.5  0.5  0.5  0.5  0.5  0.5  0.5  0.5  0.5  0.5  0.5  0.5\n",
      "  0.5  0.5  0.5  0.5  0.5  0.5  0.5  0.5  0.5  0.5  0.5  0.5  0.5  0.5\n",
      "  0.5  0.5  0.5  0.5  0.5  0.5  0.5  0.54 0.5 ]\n",
      " [0.5  0.5  0.5  0.5  0.5  0.5  0.5  0.5  0.5  0.5  0.5  0.5  0.5  0.5\n",
      "  0.5  0.5  0.5  0.5  0.5  0.5  0.5  0.5  0.5  0.5  0.5  0.5  0.5  0.5\n",
      "  0.5  0.5  0.5  0.5  0.5  0.5  0.5  0.5  0.54]\n",
      " [0.5  0.5  0.5  0.5  0.5  0.5  0.5  0.5  0.5  0.5  0.5  0.5  0.5  0.5\n",
      "  0.5  0.5  0.5  0.5  0.54 0.5  0.5  0.5  0.5  0.5  0.5  0.5  0.5  0.5\n",
      "  0.5  0.5  0.5  0.5  0.5  0.5  0.5  0.5  0.5 ]\n",
      " [0.5  0.5  0.5  0.5  0.5  0.5  0.5  0.5  0.5  0.5  0.5  0.5  0.5  0.5\n",
      "  0.5  0.5  0.5  0.5  0.5  0.5  0.5  0.5  0.5  0.5  0.5  0.5  0.5  0.5\n",
      "  0.5  0.5  0.5  0.5  0.5  0.5  0.5  0.5  0.5 ]\n",
      " [0.5  0.5  0.5  0.5  0.5  0.5  0.54 0.5  0.5  0.5  0.5  0.5  0.5  0.5\n",
      "  0.5  0.5  0.5  0.5  0.5  0.5  0.5  0.5  0.5  0.5  0.5  0.5  0.5  0.5\n",
      "  0.5  0.5  0.5  0.5  0.5  0.5  0.5  0.5  0.5 ]\n",
      " [0.5  0.5  0.5  0.5  0.5  0.5  0.5  0.5  0.5  0.5  0.5  0.5  0.5  0.5\n",
      "  0.5  0.5  0.5  0.5  0.5  0.5  0.5  0.5  0.5  0.5  0.5  0.5  0.5  0.5\n",
      "  0.5  0.5  0.5  0.5  0.5  0.5  0.5  0.5  0.5 ]\n",
      " [0.5  0.5  0.5  0.5  0.5  0.5  0.5  0.5  0.5  0.5  0.5  0.5  0.5  0.5\n",
      "  0.5  0.5  0.5  0.5  0.5  0.5  0.5  0.5  0.5  0.5  0.5  0.5  0.5  0.5\n",
      "  0.5  0.5  0.5  0.5  0.5  0.5  0.5  0.5  0.5 ]\n",
      " [0.5  0.5  0.5  0.5  0.5  0.5  0.5  0.5  0.5  0.54 0.5  0.5  0.5  0.5\n",
      "  0.5  0.5  0.5  0.5  0.5  0.5  0.5  0.5  0.5  0.5  0.5  0.5  0.5  0.5\n",
      "  0.5  0.5  0.5  0.5  0.5  0.5  0.5  0.5  0.5 ]\n",
      " [0.5  0.5  0.5  0.5  0.5  0.54 0.5  0.5  0.5  0.5  0.5  0.5  0.5  0.5\n",
      "  0.5  0.5  0.5  0.5  0.5  0.5  0.5  0.5  0.5  0.5  0.5  0.5  0.5  0.5\n",
      "  0.5  0.5  0.5  0.5  0.5  0.5  0.5  0.5  0.5 ]\n",
      " [0.5  0.5  0.5  0.5  0.5  0.5  0.5  0.5  0.5  0.5  0.5  0.5  0.5  0.5\n",
      "  0.54 0.5  0.5  0.5  0.5  0.5  0.5  0.5  0.5  0.5  0.5  0.5  0.5  0.5\n",
      "  0.5  0.5  0.5  0.5  0.5  0.5  0.5  0.5  0.5 ]\n",
      " [0.5  0.5  0.5  0.5  0.5  0.5  0.5  0.5  0.5  0.5  0.5  0.5  0.5  0.5\n",
      "  0.5  0.5  0.5  0.5  0.5  0.5  0.5  0.5  0.5  0.5  0.5  0.5  0.5  0.5\n",
      "  0.5  0.5  0.5  0.5  0.5  0.5  0.5  0.5  0.5 ]\n",
      " [0.5  0.5  0.5  0.5  0.5  0.5  0.5  0.5  0.5  0.5  0.5  0.5  0.5  0.5\n",
      "  0.5  0.5  0.5  0.5  0.5  0.5  0.5  0.5  0.5  0.5  0.5  0.5  0.5  0.5\n",
      "  0.5  0.5  0.5  0.5  0.5  0.5  0.5  0.5  0.5 ]\n",
      " [0.5  0.5  0.5  0.5  0.5  0.5  0.5  0.5  0.5  0.5  0.5  0.5  0.5  0.5\n",
      "  0.5  0.5  0.5  0.5  0.5  0.5  0.5  0.5  0.5  0.5  0.5  0.5  0.5  0.5\n",
      "  0.5  0.5  0.5  0.5  0.5  0.5  0.5  0.5  0.5 ]\n",
      " [0.5  0.5  0.5  0.5  0.5  0.5  0.5  0.5  0.5  0.5  0.5  0.5  0.5  0.5\n",
      "  0.5  0.5  0.5  0.5  0.5  0.5  0.5  0.5  0.54 0.5  0.5  0.5  0.5  0.5\n",
      "  0.5  0.5  0.5  0.5  0.5  0.5  0.5  0.5  0.5 ]\n",
      " [0.5  0.5  0.5  0.5  0.5  0.5  0.5  0.5  0.5  0.5  0.5  0.5  0.5  0.5\n",
      "  0.5  0.5  0.5  0.5  0.5  0.5  0.5  0.5  0.5  0.5  0.5  0.5  0.5  0.5\n",
      "  0.5  0.5  0.5  0.5  0.5  0.5  0.5  0.5  0.5 ]\n",
      " [0.5  0.5  0.5  0.5  0.5  0.5  0.5  0.5  0.5  0.5  0.5  0.5  0.5  0.5\n",
      "  0.5  0.5  0.5  0.5  0.5  0.5  0.5  0.5  0.5  0.5  0.5  0.5  0.5  0.5\n",
      "  0.5  0.5  0.5  0.54 0.5  0.5  0.5  0.5  0.5 ]\n",
      " [0.5  0.5  0.5  0.5  0.5  0.5  0.5  0.5  0.5  0.5  0.5  0.5  0.5  0.5\n",
      "  0.5  0.5  0.5  0.5  0.5  0.5  0.5  0.5  0.5  0.5  0.5  0.5  0.5  0.5\n",
      "  0.5  0.5  0.5  0.5  0.5  0.5  0.5  0.5  0.5 ]\n",
      " [0.5  0.5  0.5  0.5  0.5  0.5  0.5  0.5  0.5  0.5  0.5  0.5  0.5  0.5\n",
      "  0.5  0.5  0.54 0.5  0.5  0.5  0.5  0.5  0.5  0.5  0.5  0.5  0.5  0.5\n",
      "  0.5  0.5  0.5  0.5  0.5  0.5  0.5  0.5  0.5 ]\n",
      " [0.5  0.5  0.5  0.5  0.5  0.5  0.5  0.54 0.5  0.5  0.5  0.5  0.5  0.5\n",
      "  0.5  0.5  0.5  0.5  0.5  0.5  0.5  0.5  0.5  0.5  0.5  0.5  0.5  0.5\n",
      "  0.5  0.5  0.5  0.5  0.5  0.5  0.5  0.5  0.5 ]\n",
      " [0.5  0.5  0.5  0.5  0.5  0.5  0.5  0.5  0.5  0.5  0.5  0.5  0.5  0.5\n",
      "  0.5  0.5  0.5  0.5  0.5  0.5  0.5  0.5  0.5  0.5  0.5  0.5  0.5  0.5\n",
      "  0.5  0.5  0.5  0.5  0.54 0.5  0.5  0.5  0.5 ]\n",
      " [0.5  0.5  0.5  0.5  0.5  0.5  0.5  0.5  0.5  0.5  0.5  0.5  0.5  0.5\n",
      "  0.5  0.5  0.5  0.5  0.5  0.5  0.5  0.5  0.5  0.5  0.5  0.5  0.5  0.5\n",
      "  0.5  0.5  0.5  0.5  0.5  0.5  0.5  0.5  0.5 ]\n",
      " [0.5  0.54 0.5  0.5  0.5  0.5  0.5  0.5  0.5  0.5  0.5  0.5  0.5  0.5\n",
      "  0.5  0.5  0.5  0.5  0.5  0.5  0.5  0.5  0.5  0.5  0.5  0.5  0.5  0.5\n",
      "  0.5  0.5  0.5  0.5  0.5  0.5  0.5  0.5  0.5 ]\n",
      " [0.5  0.5  0.5  0.5  0.5  0.5  0.5  0.5  0.5  0.5  0.5  0.5  0.5  0.5\n",
      "  0.5  0.5  0.5  0.5  0.5  0.5  0.5  0.5  0.5  0.5  0.5  0.5  0.5  0.5\n",
      "  0.5  0.54 0.5  0.5  0.5  0.5  0.5  0.5  0.5 ]]\n"
     ]
    }
   ],
   "source": [
    "np.set_printoptions(threshold=np.inf)\n",
    "print(f'pheromone : {Colonies.pheromone}') "
   ]
  },
  {
   "cell_type": "code",
   "execution_count": null,
   "metadata": {},
   "outputs": [],
   "source": []
  },
  {
   "attachments": {},
   "cell_type": "markdown",
   "metadata": {},
   "source": [
    "# transfer to GAN"
   ]
  },
  {
   "cell_type": "code",
   "execution_count": 5,
   "metadata": {},
   "outputs": [],
   "source": [
    "D = Lf*(1 + landa)\n",
    "Lf = max(ant_route accuracy)\n",
    "G = Li\n",
    "if Li < D:\n",
    "    change_phromone()"
   ]
  },
  {
   "cell_type": "code",
   "execution_count": 44,
   "metadata": {},
   "outputs": [
    {
     "data": {
      "text/plain": [
       "3196"
      ]
     },
     "execution_count": 44,
     "metadata": {},
     "output_type": "execute_result"
    }
   ],
   "source": [
    "len(ns)"
   ]
  },
  {
   "cell_type": "code",
   "execution_count": 49,
   "metadata": {},
   "outputs": [
    {
     "name": "stdout",
     "output_type": "stream",
     "text": [
      "0.6874217772215269\n"
     ]
    }
   ],
   "source": [
    "\n",
    "X = ns.iloc[:, [36, 1, 2]].values\n",
    "y = Y.values.squeeze()\n",
    "clf = FRPS()\n",
    "## FRPS() choose instances that are not ROUGH!\n",
    "## instances with quality measure more than maximum tau\n",
    "selected_dataset = clf(X, y)\n",
    "print(len(selected_dataset[0])/len(ns))\n",
    "# len(selected_dataset[1])"
   ]
  },
  {
   "cell_type": "code",
   "execution_count": 46,
   "metadata": {},
   "outputs": [
    {
     "data": {
      "text/plain": [
       "3196"
      ]
     },
     "execution_count": 46,
     "metadata": {},
     "output_type": "execute_result"
    }
   ],
   "source": [
    "len(selected_dataset[0])"
   ]
  },
  {
   "cell_type": "code",
   "execution_count": 21,
   "metadata": {},
   "outputs": [
    {
     "data": {
      "text/plain": [
       "1824"
      ]
     },
     "execution_count": 21,
     "metadata": {},
     "output_type": "execute_result"
    }
   ],
   "source": [
    "X = ns.iloc[:, [32]].values\n",
    "y = Y.values.squeeze()\n",
    "clf = FRPS()\n",
    "## FRPS() choose instances that are not ROUGH!\n",
    "## instances with quality measure more than maximum tau\n",
    "selected_dataset = clf(X, y)\n",
    "len(selected_dataset)/len(X)\n",
    "len(selected_dataset[0])\n",
    "# round(625 / len(X),3)"
   ]
  },
  {
   "cell_type": "code",
   "execution_count": 14,
   "metadata": {},
   "outputs": [
    {
     "data": {
      "text/plain": [
       "3196"
      ]
     },
     "execution_count": 14,
     "metadata": {},
     "output_type": "execute_result"
    }
   ],
   "source": [
    "selected_dataset[]\n",
    "len(selected_dataset[1])"
   ]
  },
  {
   "cell_type": "code",
   "execution_count": 88,
   "metadata": {},
   "outputs": [
    {
     "data": {
      "text/plain": [
       "{0: [32, 21],\n",
       " 1: [0, 21],\n",
       " 2: [30, 21],\n",
       " 3: [36, 21],\n",
       " 4: [11, 12, 6],\n",
       " 'landa': 0.840738423028786}"
      ]
     },
     "execution_count": 88,
     "metadata": {},
     "output_type": "execute_result"
    }
   ],
   "source": [
    "Colony.log"
   ]
  },
  {
   "cell_type": "code",
   "execution_count": null,
   "metadata": {},
   "outputs": [],
   "source": []
  }
 ],
 "metadata": {
  "kernelspec": {
   "display_name": "Python 3",
   "language": "python",
   "name": "python3"
  },
  "language_info": {
   "codemirror_mode": {
    "name": "ipython",
    "version": 3
   },
   "file_extension": ".py",
   "mimetype": "text/x-python",
   "name": "python",
   "nbconvert_exporter": "python",
   "pygments_lexer": "ipython3",
   "version": "3.10.10"
  },
  "orig_nbformat": 4
 },
 "nbformat": 4,
 "nbformat_minor": 2
}
